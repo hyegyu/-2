{
 "cells": [
  {
   "cell_type": "markdown",
   "id": "d2530bd4",
   "metadata": {},
   "source": [
    "## 데이터 불러오기"
   ]
  },
  {
   "cell_type": "code",
   "execution_count": 1,
   "id": "103613c6",
   "metadata": {},
   "outputs": [
    {
     "data": {
      "text/html": [
       "<div>\n",
       "<style scoped>\n",
       "    .dataframe tbody tr th:only-of-type {\n",
       "        vertical-align: middle;\n",
       "    }\n",
       "\n",
       "    .dataframe tbody tr th {\n",
       "        vertical-align: top;\n",
       "    }\n",
       "\n",
       "    .dataframe thead th {\n",
       "        text-align: right;\n",
       "    }\n",
       "</style>\n",
       "<table border=\"1\" class=\"dataframe\">\n",
       "  <thead>\n",
       "    <tr style=\"text-align: right;\">\n",
       "      <th></th>\n",
       "      <th>video_id</th>\n",
       "      <th>video_title</th>\n",
       "      <th>channel_id</th>\n",
       "      <th>channel_title</th>\n",
       "      <th>category</th>\n",
       "      <th>trending_date</th>\n",
       "      <th>trending_week</th>\n",
       "      <th>publishedAt_date</th>\n",
       "      <th>publishedAt_time</th>\n",
       "      <th>publishedAt_week</th>\n",
       "      <th>...</th>\n",
       "      <th>tags_split</th>\n",
       "      <th>tags_len</th>\n",
       "      <th>view_count</th>\n",
       "      <th>play_time</th>\n",
       "      <th>likes</th>\n",
       "      <th>dislikes</th>\n",
       "      <th>comment_count</th>\n",
       "      <th>comments_disabled</th>\n",
       "      <th>ratings_disabled</th>\n",
       "      <th>description</th>\n",
       "    </tr>\n",
       "  </thead>\n",
       "  <tbody>\n",
       "    <tr>\n",
       "      <th>0</th>\n",
       "      <td>uq5LClQN3cE</td>\n",
       "      <td>안녕하세요 보겸입니다</td>\n",
       "      <td>UCu9BCtGIEr73LXZsKmoujKw</td>\n",
       "      <td>보겸 BK</td>\n",
       "      <td>24</td>\n",
       "      <td>2020-08-12 00:00:00</td>\n",
       "      <td>Wednesday</td>\n",
       "      <td>2020-08-09 00:00:00</td>\n",
       "      <td>1900-01-01 09:32:48</td>\n",
       "      <td>Sunday</td>\n",
       "      <td>...</td>\n",
       "      <td>['보겸', 'bokyem']</td>\n",
       "      <td>2</td>\n",
       "      <td>5947503</td>\n",
       "      <td>61</td>\n",
       "      <td>53326</td>\n",
       "      <td>105756</td>\n",
       "      <td>139946</td>\n",
       "      <td>0</td>\n",
       "      <td>0</td>\n",
       "      <td>0</td>\n",
       "    </tr>\n",
       "    <tr>\n",
       "      <th>1</th>\n",
       "      <td>I-ZbZCHsHD0</td>\n",
       "      <td>부락토스의 계획 [총몇명 프리퀄]</td>\n",
       "      <td>UCRuSxVu4iqTK5kCh90ntAgA</td>\n",
       "      <td>총몇명</td>\n",
       "      <td>1</td>\n",
       "      <td>2020-08-12 00:00:00</td>\n",
       "      <td>Wednesday</td>\n",
       "      <td>2020-08-12 00:00:00</td>\n",
       "      <td>1900-01-01 09:00:08</td>\n",
       "      <td>Wednesday</td>\n",
       "      <td>...</td>\n",
       "      <td>['총몇명', '재밌는 만화', '부락토스', '루시퍼', '총몇명 프리퀄', '총...</td>\n",
       "      <td>6</td>\n",
       "      <td>963384</td>\n",
       "      <td>228</td>\n",
       "      <td>28244</td>\n",
       "      <td>494</td>\n",
       "      <td>3339</td>\n",
       "      <td>0</td>\n",
       "      <td>0</td>\n",
       "      <td>1</td>\n",
       "    </tr>\n",
       "    <tr>\n",
       "      <th>2</th>\n",
       "      <td>9d7jNUjBoss</td>\n",
       "      <td>평생 반성하면서 살겠습니다.</td>\n",
       "      <td>UCMVC92EOs9yDJG5JS-CMesQ</td>\n",
       "      <td>양팡 YangPang</td>\n",
       "      <td>22</td>\n",
       "      <td>2020-08-12 00:00:00</td>\n",
       "      <td>Wednesday</td>\n",
       "      <td>2020-08-10 00:00:00</td>\n",
       "      <td>1900-01-01 09:54:13</td>\n",
       "      <td>Monday</td>\n",
       "      <td>...</td>\n",
       "      <td>['양팡', '양팡유튜브', '팡튜브', '가족시트콤', '양팡가족', '양팡가족시...</td>\n",
       "      <td>27</td>\n",
       "      <td>2950885</td>\n",
       "      <td>0</td>\n",
       "      <td>17974</td>\n",
       "      <td>68898</td>\n",
       "      <td>50688</td>\n",
       "      <td>0</td>\n",
       "      <td>0</td>\n",
       "      <td>0</td>\n",
       "    </tr>\n",
       "    <tr>\n",
       "      <th>3</th>\n",
       "      <td>3pI_L3-sMVg</td>\n",
       "      <td>안녕하세요 꽈뚜룹입니다.</td>\n",
       "      <td>UCkQCwnkQfgSuPTTnw_Y7v7w</td>\n",
       "      <td>꽈뚜룹 Quaddurup</td>\n",
       "      <td>24</td>\n",
       "      <td>2020-08-12 00:00:00</td>\n",
       "      <td>Wednesday</td>\n",
       "      <td>2020-08-11 00:00:00</td>\n",
       "      <td>1900-01-01 15:00:58</td>\n",
       "      <td>Tuesday</td>\n",
       "      <td>...</td>\n",
       "      <td>['꽈뚜룹', '한국여행기', 'quaddurup', '뚜룹이', 'korea', ...</td>\n",
       "      <td>12</td>\n",
       "      <td>1743374</td>\n",
       "      <td>81</td>\n",
       "      <td>36893</td>\n",
       "      <td>1798</td>\n",
       "      <td>8751</td>\n",
       "      <td>0</td>\n",
       "      <td>0</td>\n",
       "      <td>1</td>\n",
       "    </tr>\n",
       "    <tr>\n",
       "      <th>4</th>\n",
       "      <td>zrsBjYukE8s</td>\n",
       "      <td>박진영 (J.Y. Park) When We Disco (Duet with 선미) M/V</td>\n",
       "      <td>UCaO6TYtlC8U5ttz62hTrZgg</td>\n",
       "      <td>JYP Entertainment</td>\n",
       "      <td>10</td>\n",
       "      <td>2020-08-12 00:00:00</td>\n",
       "      <td>Wednesday</td>\n",
       "      <td>2020-08-11 00:00:00</td>\n",
       "      <td>1900-01-01 09:00:13</td>\n",
       "      <td>Tuesday</td>\n",
       "      <td>...</td>\n",
       "      <td>['JYP Entertainment', 'JYP', 'J.Y.Park', 'JYPa...</td>\n",
       "      <td>13</td>\n",
       "      <td>3433885</td>\n",
       "      <td>257</td>\n",
       "      <td>353337</td>\n",
       "      <td>9763</td>\n",
       "      <td>23405</td>\n",
       "      <td>0</td>\n",
       "      <td>0</td>\n",
       "      <td>1</td>\n",
       "    </tr>\n",
       "  </tbody>\n",
       "</table>\n",
       "<p>5 rows × 21 columns</p>\n",
       "</div>"
      ],
      "text/plain": [
       "      video_id                                       video_title  \\\n",
       "0  uq5LClQN3cE                                       안녕하세요 보겸입니다   \n",
       "1  I-ZbZCHsHD0                                부락토스의 계획 [총몇명 프리퀄]   \n",
       "2  9d7jNUjBoss                                   평생 반성하면서 살겠습니다.   \n",
       "3  3pI_L3-sMVg                              안녕하세요 꽈뚜룹입니다.   \n",
       "4  zrsBjYukE8s  박진영 (J.Y. Park) When We Disco (Duet with 선미) M/V   \n",
       "\n",
       "                 channel_id      channel_title  category        trending_date  \\\n",
       "0  UCu9BCtGIEr73LXZsKmoujKw              보겸 BK        24  2020-08-12 00:00:00   \n",
       "1  UCRuSxVu4iqTK5kCh90ntAgA                총몇명         1  2020-08-12 00:00:00   \n",
       "2  UCMVC92EOs9yDJG5JS-CMesQ        양팡 YangPang        22  2020-08-12 00:00:00   \n",
       "3  UCkQCwnkQfgSuPTTnw_Y7v7w      꽈뚜룹 Quaddurup        24  2020-08-12 00:00:00   \n",
       "4  UCaO6TYtlC8U5ttz62hTrZgg  JYP Entertainment        10  2020-08-12 00:00:00   \n",
       "\n",
       "  trending_week     publishedAt_date     publishedAt_time publishedAt_week  \\\n",
       "0     Wednesday  2020-08-09 00:00:00  1900-01-01 09:32:48           Sunday   \n",
       "1     Wednesday  2020-08-12 00:00:00  1900-01-01 09:00:08        Wednesday   \n",
       "2     Wednesday  2020-08-10 00:00:00  1900-01-01 09:54:13           Monday   \n",
       "3     Wednesday  2020-08-11 00:00:00  1900-01-01 15:00:58          Tuesday   \n",
       "4     Wednesday  2020-08-11 00:00:00  1900-01-01 09:00:13          Tuesday   \n",
       "\n",
       "   ...                                         tags_split tags_len  \\\n",
       "0  ...                                   ['보겸', 'bokyem']        2   \n",
       "1  ...  ['총몇명', '재밌는 만화', '부락토스', '루시퍼', '총몇명 프리퀄', '총...        6   \n",
       "2  ...  ['양팡', '양팡유튜브', '팡튜브', '가족시트콤', '양팡가족', '양팡가족시...       27   \n",
       "3  ...  ['꽈뚜룹', '한국여행기', 'quaddurup', '뚜룹이', 'korea', ...       12   \n",
       "4  ...  ['JYP Entertainment', 'JYP', 'J.Y.Park', 'JYPa...       13   \n",
       "\n",
       "   view_count  play_time   likes  dislikes  comment_count  comments_disabled  \\\n",
       "0     5947503         61   53326    105756         139946                  0   \n",
       "1      963384        228   28244       494           3339                  0   \n",
       "2     2950885          0   17974     68898          50688                  0   \n",
       "3     1743374         81   36893      1798           8751                  0   \n",
       "4     3433885        257  353337      9763          23405                  0   \n",
       "\n",
       "   ratings_disabled  description  \n",
       "0                 0            0  \n",
       "1                 0            1  \n",
       "2                 0            0  \n",
       "3                 0            1  \n",
       "4                 0            1  \n",
       "\n",
       "[5 rows x 21 columns]"
      ]
     },
     "execution_count": 1,
     "metadata": {},
     "output_type": "execute_result"
    }
   ],
   "source": [
    "import pandas as pd\n",
    "import numpy as np\n",
    "pd.options.display.float_format = '{:.2f}'.format\n",
    "\n",
    "df = pd.read_csv('youtube_kr.csv', index_col=0)\n",
    "df.head(5)"
   ]
  },
  {
   "cell_type": "markdown",
   "id": "4019cf3a",
   "metadata": {},
   "source": [
    "## 데이터전처리"
   ]
  },
  {
   "cell_type": "code",
   "execution_count": 2,
   "id": "0381a050",
   "metadata": {},
   "outputs": [
    {
     "data": {
      "text/plain": [
       "(79541, 21)"
      ]
     },
     "execution_count": 2,
     "metadata": {},
     "output_type": "execute_result"
    }
   ],
   "source": [
    "df.shape"
   ]
  },
  {
   "cell_type": "code",
   "execution_count": 3,
   "id": "4f1d66ec",
   "metadata": {},
   "outputs": [
    {
     "name": "stdout",
     "output_type": "stream",
     "text": [
      "<class 'pandas.core.frame.DataFrame'>\n",
      "Int64Index: 10921 entries, 0 to 79362\n",
      "Data columns (total 21 columns):\n",
      " #   Column             Non-Null Count  Dtype \n",
      "---  ------             --------------  ----- \n",
      " 0   video_id           10921 non-null  object\n",
      " 1   video_title        10921 non-null  object\n",
      " 2   channel_id         10921 non-null  object\n",
      " 3   channel_title      10921 non-null  object\n",
      " 4   category           10921 non-null  int64 \n",
      " 5   trending_date      10921 non-null  object\n",
      " 6   trending_week      10921 non-null  object\n",
      " 7   publishedAt_date   10921 non-null  object\n",
      " 8   publishedAt_time   10921 non-null  object\n",
      " 9   publishedAt_week   10921 non-null  object\n",
      " 10  duration           10921 non-null  int64 \n",
      " 11  tags_split         10921 non-null  object\n",
      " 12  tags_len           10921 non-null  int64 \n",
      " 13  view_count         10921 non-null  int64 \n",
      " 14  play_time          10921 non-null  int64 \n",
      " 15  likes              10921 non-null  int64 \n",
      " 16  dislikes           10921 non-null  int64 \n",
      " 17  comment_count      10921 non-null  int64 \n",
      " 18  comments_disabled  10921 non-null  int64 \n",
      " 19  ratings_disabled   10921 non-null  int64 \n",
      " 20  description        10921 non-null  int64 \n",
      "dtypes: int64(11), object(10)\n",
      "memory usage: 1.8+ MB\n"
     ]
    }
   ],
   "source": [
    "# 첫번째로 인기동영상이 된 데이터가 의미 있다고 판단.\n",
    "df=df.drop_duplicates(['video_id'], keep = 'first')\n",
    "df.info()"
   ]
  },
  {
   "cell_type": "code",
   "execution_count": 4,
   "id": "594b37f5",
   "metadata": {},
   "outputs": [
    {
     "name": "stderr",
     "output_type": "stream",
     "text": [
      "C:\\Users\\yhg31\\Anaconda3\\lib\\site-packages\\pandas\\core\\indexing.py:1732: SettingWithCopyWarning: \n",
      "A value is trying to be set on a copy of a slice from a DataFrame\n",
      "\n",
      "See the caveats in the documentation: https://pandas.pydata.org/pandas-docs/stable/user_guide/indexing.html#returning-a-view-versus-a-copy\n",
      "  self._setitem_single_block(indexer, value, name)\n"
     ]
    }
   ],
   "source": [
    "# 추가 데이터\n",
    "df[\"video_len\"]=0\n",
    "df[\"channel_len\"]=0\n",
    "\n",
    "for i in range(len(df)):    \n",
    "    df[\"video_len\"].iloc[i]=len(df[\"video_title\"].iloc[i])\n",
    "    df[\"channel_len\"].iloc[i]=len(df[\"channel_title\"].iloc[i])"
   ]
  },
  {
   "cell_type": "code",
   "execution_count": 5,
   "id": "714df127",
   "metadata": {},
   "outputs": [
    {
     "data": {
      "text/plain": [
       "count   10921.00\n",
       "mean        7.28\n",
       "std         3.07\n",
       "min         1.00\n",
       "25%         5.00\n",
       "50%         7.00\n",
       "75%         9.00\n",
       "max        24.00\n",
       "Name: duration, dtype: float64"
      ]
     },
     "execution_count": 5,
     "metadata": {},
     "output_type": "execute_result"
    }
   ],
   "source": [
    "df[\"duration\"].describe()"
   ]
  },
  {
   "cell_type": "code",
   "execution_count": 6,
   "id": "844de1f2",
   "metadata": {
    "scrolled": true
   },
   "outputs": [
    {
     "name": "stderr",
     "output_type": "stream",
     "text": [
      "C:\\Users\\yhg31\\AppData\\Local\\Temp/ipykernel_19056/3216267614.py:4: SettingWithCopyWarning: \n",
      "A value is trying to be set on a copy of a slice from a DataFrame.\n",
      "Try using .loc[row_indexer,col_indexer] = value instead\n",
      "\n",
      "See the caveats in the documentation: https://pandas.pydata.org/pandas-docs/stable/user_guide/indexing.html#returning-a-view-versus-a-copy\n",
      "  df1[\"pred\"]=1\n",
      "C:\\Users\\yhg31\\AppData\\Local\\Temp/ipykernel_19056/3216267614.py:5: SettingWithCopyWarning: \n",
      "A value is trying to be set on a copy of a slice from a DataFrame.\n",
      "Try using .loc[row_indexer,col_indexer] = value instead\n",
      "\n",
      "See the caveats in the documentation: https://pandas.pydata.org/pandas-docs/stable/user_guide/indexing.html#returning-a-view-versus-a-copy\n",
      "  df2[\"pred\"]=0\n"
     ]
    },
    {
     "data": {
      "text/html": [
       "<div>\n",
       "<style scoped>\n",
       "    .dataframe tbody tr th:only-of-type {\n",
       "        vertical-align: middle;\n",
       "    }\n",
       "\n",
       "    .dataframe tbody tr th {\n",
       "        vertical-align: top;\n",
       "    }\n",
       "\n",
       "    .dataframe thead th {\n",
       "        text-align: right;\n",
       "    }\n",
       "</style>\n",
       "<table border=\"1\" class=\"dataframe\">\n",
       "  <thead>\n",
       "    <tr style=\"text-align: right;\">\n",
       "      <th></th>\n",
       "      <th>video_id</th>\n",
       "      <th>video_title</th>\n",
       "      <th>channel_id</th>\n",
       "      <th>channel_title</th>\n",
       "      <th>category</th>\n",
       "      <th>trending_date</th>\n",
       "      <th>trending_week</th>\n",
       "      <th>publishedAt_date</th>\n",
       "      <th>publishedAt_time</th>\n",
       "      <th>publishedAt_week</th>\n",
       "      <th>...</th>\n",
       "      <th>play_time</th>\n",
       "      <th>likes</th>\n",
       "      <th>dislikes</th>\n",
       "      <th>comment_count</th>\n",
       "      <th>comments_disabled</th>\n",
       "      <th>ratings_disabled</th>\n",
       "      <th>description</th>\n",
       "      <th>video_len</th>\n",
       "      <th>channel_len</th>\n",
       "      <th>pred</th>\n",
       "    </tr>\n",
       "  </thead>\n",
       "  <tbody>\n",
       "    <tr>\n",
       "      <th>0</th>\n",
       "      <td>uq5LClQN3cE</td>\n",
       "      <td>안녕하세요 보겸입니다</td>\n",
       "      <td>UCu9BCtGIEr73LXZsKmoujKw</td>\n",
       "      <td>보겸 BK</td>\n",
       "      <td>24</td>\n",
       "      <td>2020-08-12 00:00:00</td>\n",
       "      <td>Wednesday</td>\n",
       "      <td>2020-08-09 00:00:00</td>\n",
       "      <td>1900-01-01 09:32:48</td>\n",
       "      <td>Sunday</td>\n",
       "      <td>...</td>\n",
       "      <td>61</td>\n",
       "      <td>53326</td>\n",
       "      <td>105756</td>\n",
       "      <td>139946</td>\n",
       "      <td>0</td>\n",
       "      <td>0</td>\n",
       "      <td>0</td>\n",
       "      <td>11</td>\n",
       "      <td>5</td>\n",
       "      <td>1</td>\n",
       "    </tr>\n",
       "    <tr>\n",
       "      <th>1</th>\n",
       "      <td>9d7jNUjBoss</td>\n",
       "      <td>평생 반성하면서 살겠습니다.</td>\n",
       "      <td>UCMVC92EOs9yDJG5JS-CMesQ</td>\n",
       "      <td>양팡 YangPang</td>\n",
       "      <td>22</td>\n",
       "      <td>2020-08-12 00:00:00</td>\n",
       "      <td>Wednesday</td>\n",
       "      <td>2020-08-10 00:00:00</td>\n",
       "      <td>1900-01-01 09:54:13</td>\n",
       "      <td>Monday</td>\n",
       "      <td>...</td>\n",
       "      <td>0</td>\n",
       "      <td>17974</td>\n",
       "      <td>68898</td>\n",
       "      <td>50688</td>\n",
       "      <td>0</td>\n",
       "      <td>0</td>\n",
       "      <td>0</td>\n",
       "      <td>15</td>\n",
       "      <td>11</td>\n",
       "      <td>1</td>\n",
       "    </tr>\n",
       "    <tr>\n",
       "      <th>2</th>\n",
       "      <td>3pI_L3-sMVg</td>\n",
       "      <td>안녕하세요 꽈뚜룹입니다.</td>\n",
       "      <td>UCkQCwnkQfgSuPTTnw_Y7v7w</td>\n",
       "      <td>꽈뚜룹 Quaddurup</td>\n",
       "      <td>24</td>\n",
       "      <td>2020-08-12 00:00:00</td>\n",
       "      <td>Wednesday</td>\n",
       "      <td>2020-08-11 00:00:00</td>\n",
       "      <td>1900-01-01 15:00:58</td>\n",
       "      <td>Tuesday</td>\n",
       "      <td>...</td>\n",
       "      <td>81</td>\n",
       "      <td>36893</td>\n",
       "      <td>1798</td>\n",
       "      <td>8751</td>\n",
       "      <td>0</td>\n",
       "      <td>0</td>\n",
       "      <td>1</td>\n",
       "      <td>20</td>\n",
       "      <td>13</td>\n",
       "      <td>1</td>\n",
       "    </tr>\n",
       "    <tr>\n",
       "      <th>3</th>\n",
       "      <td>zrsBjYukE8s</td>\n",
       "      <td>박진영 (J.Y. Park) When We Disco (Duet with 선미) M/V</td>\n",
       "      <td>UCaO6TYtlC8U5ttz62hTrZgg</td>\n",
       "      <td>JYP Entertainment</td>\n",
       "      <td>10</td>\n",
       "      <td>2020-08-12 00:00:00</td>\n",
       "      <td>Wednesday</td>\n",
       "      <td>2020-08-11 00:00:00</td>\n",
       "      <td>1900-01-01 09:00:13</td>\n",
       "      <td>Tuesday</td>\n",
       "      <td>...</td>\n",
       "      <td>257</td>\n",
       "      <td>353337</td>\n",
       "      <td>9763</td>\n",
       "      <td>23405</td>\n",
       "      <td>0</td>\n",
       "      <td>0</td>\n",
       "      <td>1</td>\n",
       "      <td>48</td>\n",
       "      <td>17</td>\n",
       "      <td>1</td>\n",
       "    </tr>\n",
       "    <tr>\n",
       "      <th>4</th>\n",
       "      <td>jbGRowa5tIk</td>\n",
       "      <td>ITZY “Not Shy” M/V TEASER</td>\n",
       "      <td>UCaO6TYtlC8U5ttz62hTrZgg</td>\n",
       "      <td>JYP Entertainment</td>\n",
       "      <td>10</td>\n",
       "      <td>2020-08-12 00:00:00</td>\n",
       "      <td>Wednesday</td>\n",
       "      <td>2020-08-11 00:00:00</td>\n",
       "      <td>1900-01-01 15:00:13</td>\n",
       "      <td>Tuesday</td>\n",
       "      <td>...</td>\n",
       "      <td>20</td>\n",
       "      <td>714301</td>\n",
       "      <td>15176</td>\n",
       "      <td>31040</td>\n",
       "      <td>0</td>\n",
       "      <td>0</td>\n",
       "      <td>1</td>\n",
       "      <td>25</td>\n",
       "      <td>17</td>\n",
       "      <td>1</td>\n",
       "    </tr>\n",
       "    <tr>\n",
       "      <th>...</th>\n",
       "      <td>...</td>\n",
       "      <td>...</td>\n",
       "      <td>...</td>\n",
       "      <td>...</td>\n",
       "      <td>...</td>\n",
       "      <td>...</td>\n",
       "      <td>...</td>\n",
       "      <td>...</td>\n",
       "      <td>...</td>\n",
       "      <td>...</td>\n",
       "      <td>...</td>\n",
       "      <td>...</td>\n",
       "      <td>...</td>\n",
       "      <td>...</td>\n",
       "      <td>...</td>\n",
       "      <td>...</td>\n",
       "      <td>...</td>\n",
       "      <td>...</td>\n",
       "      <td>...</td>\n",
       "      <td>...</td>\n",
       "      <td>...</td>\n",
       "    </tr>\n",
       "    <tr>\n",
       "      <th>10916</th>\n",
       "      <td>esQPl9_rA6U</td>\n",
       "      <td>전국민의 99%가 홍합으로 알고 먹는 이것의 정체</td>\n",
       "      <td>UCY2uWQDCzn_ZE-JpTfDRR2A</td>\n",
       "      <td>입질의추억TV jiminTV</td>\n",
       "      <td>24</td>\n",
       "      <td>2021-09-22 00:00:00</td>\n",
       "      <td>Wednesday</td>\n",
       "      <td>2021-09-21 00:00:00</td>\n",
       "      <td>1900-01-01 10:01:25</td>\n",
       "      <td>Tuesday</td>\n",
       "      <td>...</td>\n",
       "      <td>799</td>\n",
       "      <td>4509</td>\n",
       "      <td>135</td>\n",
       "      <td>407</td>\n",
       "      <td>0</td>\n",
       "      <td>0</td>\n",
       "      <td>1</td>\n",
       "      <td>27</td>\n",
       "      <td>15</td>\n",
       "      <td>0</td>\n",
       "    </tr>\n",
       "    <tr>\n",
       "      <th>10917</th>\n",
       "      <td>WL4ipAjcspE</td>\n",
       "      <td>[웰메이드 X 임영웅] 21FW 시즌 화보 촬영 비하인드 영상 공개</td>\n",
       "      <td>UCgeeQuH16jS4UEOIxc-kwoQ</td>\n",
       "      <td>웰메이드</td>\n",
       "      <td>24</td>\n",
       "      <td>2021-09-22 00:00:00</td>\n",
       "      <td>Wednesday</td>\n",
       "      <td>2021-09-21 00:00:00</td>\n",
       "      <td>1900-01-01 02:00:05</td>\n",
       "      <td>Tuesday</td>\n",
       "      <td>...</td>\n",
       "      <td>410</td>\n",
       "      <td>17438</td>\n",
       "      <td>57</td>\n",
       "      <td>1136</td>\n",
       "      <td>0</td>\n",
       "      <td>0</td>\n",
       "      <td>1</td>\n",
       "      <td>37</td>\n",
       "      <td>4</td>\n",
       "      <td>0</td>\n",
       "    </tr>\n",
       "    <tr>\n",
       "      <th>10918</th>\n",
       "      <td>yqLla5LbpH8</td>\n",
       "      <td>사랑인가? 증오인가? 애정과 비명이 난무하는 아리랑은고양이 채널 통역!</td>\n",
       "      <td>UC69l_rtlCQ7M4Mz2RCS80BA</td>\n",
       "      <td>미야옹철의 냥냥펀치</td>\n",
       "      <td>15</td>\n",
       "      <td>2021-09-22 00:00:00</td>\n",
       "      <td>Wednesday</td>\n",
       "      <td>2021-09-21 00:00:00</td>\n",
       "      <td>1900-01-01 10:00:33</td>\n",
       "      <td>Tuesday</td>\n",
       "      <td>...</td>\n",
       "      <td>744</td>\n",
       "      <td>4399</td>\n",
       "      <td>34</td>\n",
       "      <td>280</td>\n",
       "      <td>0</td>\n",
       "      <td>0</td>\n",
       "      <td>1</td>\n",
       "      <td>39</td>\n",
       "      <td>10</td>\n",
       "      <td>0</td>\n",
       "    </tr>\n",
       "    <tr>\n",
       "      <th>10919</th>\n",
       "      <td>n028FLMfsSY</td>\n",
       "      <td>송편 안에 100만원이 들어가 있는 100만원짜리 대왕 송편 선물하기</td>\n",
       "      <td>UC1dK7oMUSR9Rnk1BSpOKZng</td>\n",
       "      <td>정선호</td>\n",
       "      <td>22</td>\n",
       "      <td>2021-09-22 00:00:00</td>\n",
       "      <td>Wednesday</td>\n",
       "      <td>2021-09-21 00:00:00</td>\n",
       "      <td>1900-01-01 05:26:41</td>\n",
       "      <td>Tuesday</td>\n",
       "      <td>...</td>\n",
       "      <td>917</td>\n",
       "      <td>6545</td>\n",
       "      <td>168</td>\n",
       "      <td>561</td>\n",
       "      <td>0</td>\n",
       "      <td>0</td>\n",
       "      <td>1</td>\n",
       "      <td>38</td>\n",
       "      <td>3</td>\n",
       "      <td>0</td>\n",
       "    </tr>\n",
       "    <tr>\n",
       "      <th>10920</th>\n",
       "      <td>2NEVBW3eQm8</td>\n",
       "      <td>37.5MHz 해찬 라디오 HAECHAN Radio | Ep.7 떠나자 Chuseo...</td>\n",
       "      <td>UCwgtORdDtUKhpjE1VBv6XfA</td>\n",
       "      <td>NCT</td>\n",
       "      <td>10</td>\n",
       "      <td>2021-09-22 00:00:00</td>\n",
       "      <td>Wednesday</td>\n",
       "      <td>2021-09-21 00:00:00</td>\n",
       "      <td>1900-01-01 12:00:15</td>\n",
       "      <td>Tuesday</td>\n",
       "      <td>...</td>\n",
       "      <td>2626</td>\n",
       "      <td>80765</td>\n",
       "      <td>118</td>\n",
       "      <td>2348</td>\n",
       "      <td>0</td>\n",
       "      <td>0</td>\n",
       "      <td>1</td>\n",
       "      <td>83</td>\n",
       "      <td>3</td>\n",
       "      <td>0</td>\n",
       "    </tr>\n",
       "  </tbody>\n",
       "</table>\n",
       "<p>10921 rows × 24 columns</p>\n",
       "</div>"
      ],
      "text/plain": [
       "          video_id                                        video_title  \\\n",
       "0      uq5LClQN3cE                                        안녕하세요 보겸입니다   \n",
       "1      9d7jNUjBoss                                    평생 반성하면서 살겠습니다.   \n",
       "2      3pI_L3-sMVg                               안녕하세요 꽈뚜룹입니다.   \n",
       "3      zrsBjYukE8s   박진영 (J.Y. Park) When We Disco (Duet with 선미) M/V   \n",
       "4      jbGRowa5tIk                          ITZY “Not Shy” M/V TEASER   \n",
       "...            ...                                                ...   \n",
       "10916  esQPl9_rA6U                        전국민의 99%가 홍합으로 알고 먹는 이것의 정체   \n",
       "10917  WL4ipAjcspE              [웰메이드 X 임영웅] 21FW 시즌 화보 촬영 비하인드 영상 공개   \n",
       "10918  yqLla5LbpH8            사랑인가? 증오인가? 애정과 비명이 난무하는 아리랑은고양이 채널 통역!   \n",
       "10919  n028FLMfsSY             송편 안에 100만원이 들어가 있는 100만원짜리 대왕 송편 선물하기   \n",
       "10920  2NEVBW3eQm8  37.5MHz 해찬 라디오 HAECHAN Radio | Ep.7 떠나자 Chuseo...   \n",
       "\n",
       "                     channel_id      channel_title  category  \\\n",
       "0      UCu9BCtGIEr73LXZsKmoujKw              보겸 BK        24   \n",
       "1      UCMVC92EOs9yDJG5JS-CMesQ        양팡 YangPang        22   \n",
       "2      UCkQCwnkQfgSuPTTnw_Y7v7w      꽈뚜룹 Quaddurup        24   \n",
       "3      UCaO6TYtlC8U5ttz62hTrZgg  JYP Entertainment        10   \n",
       "4      UCaO6TYtlC8U5ttz62hTrZgg  JYP Entertainment        10   \n",
       "...                         ...                ...       ...   \n",
       "10916  UCY2uWQDCzn_ZE-JpTfDRR2A    입질의추억TV jiminTV        24   \n",
       "10917  UCgeeQuH16jS4UEOIxc-kwoQ               웰메이드        24   \n",
       "10918  UC69l_rtlCQ7M4Mz2RCS80BA         미야옹철의 냥냥펀치        15   \n",
       "10919  UC1dK7oMUSR9Rnk1BSpOKZng                정선호        22   \n",
       "10920  UCwgtORdDtUKhpjE1VBv6XfA                NCT        10   \n",
       "\n",
       "             trending_date trending_week     publishedAt_date  \\\n",
       "0      2020-08-12 00:00:00     Wednesday  2020-08-09 00:00:00   \n",
       "1      2020-08-12 00:00:00     Wednesday  2020-08-10 00:00:00   \n",
       "2      2020-08-12 00:00:00     Wednesday  2020-08-11 00:00:00   \n",
       "3      2020-08-12 00:00:00     Wednesday  2020-08-11 00:00:00   \n",
       "4      2020-08-12 00:00:00     Wednesday  2020-08-11 00:00:00   \n",
       "...                    ...           ...                  ...   \n",
       "10916  2021-09-22 00:00:00     Wednesday  2021-09-21 00:00:00   \n",
       "10917  2021-09-22 00:00:00     Wednesday  2021-09-21 00:00:00   \n",
       "10918  2021-09-22 00:00:00     Wednesday  2021-09-21 00:00:00   \n",
       "10919  2021-09-22 00:00:00     Wednesday  2021-09-21 00:00:00   \n",
       "10920  2021-09-22 00:00:00     Wednesday  2021-09-21 00:00:00   \n",
       "\n",
       "          publishedAt_time publishedAt_week  ...  play_time   likes  dislikes  \\\n",
       "0      1900-01-01 09:32:48           Sunday  ...         61   53326    105756   \n",
       "1      1900-01-01 09:54:13           Monday  ...          0   17974     68898   \n",
       "2      1900-01-01 15:00:58          Tuesday  ...         81   36893      1798   \n",
       "3      1900-01-01 09:00:13          Tuesday  ...        257  353337      9763   \n",
       "4      1900-01-01 15:00:13          Tuesday  ...         20  714301     15176   \n",
       "...                    ...              ...  ...        ...     ...       ...   \n",
       "10916  1900-01-01 10:01:25          Tuesday  ...        799    4509       135   \n",
       "10917  1900-01-01 02:00:05          Tuesday  ...        410   17438        57   \n",
       "10918  1900-01-01 10:00:33          Tuesday  ...        744    4399        34   \n",
       "10919  1900-01-01 05:26:41          Tuesday  ...        917    6545       168   \n",
       "10920  1900-01-01 12:00:15          Tuesday  ...       2626   80765       118   \n",
       "\n",
       "       comment_count  comments_disabled  ratings_disabled  description  \\\n",
       "0             139946                  0                 0            0   \n",
       "1              50688                  0                 0            0   \n",
       "2               8751                  0                 0            1   \n",
       "3              23405                  0                 0            1   \n",
       "4              31040                  0                 0            1   \n",
       "...              ...                ...               ...          ...   \n",
       "10916            407                  0                 0            1   \n",
       "10917           1136                  0                 0            1   \n",
       "10918            280                  0                 0            1   \n",
       "10919            561                  0                 0            1   \n",
       "10920           2348                  0                 0            1   \n",
       "\n",
       "       video_len  channel_len  pred  \n",
       "0             11            5     1  \n",
       "1             15           11     1  \n",
       "2             20           13     1  \n",
       "3             48           17     1  \n",
       "4             25           17     1  \n",
       "...          ...          ...   ...  \n",
       "10916         27           15     0  \n",
       "10917         37            4     0  \n",
       "10918         39           10     0  \n",
       "10919         38            3     0  \n",
       "10920         83            3     0  \n",
       "\n",
       "[10921 rows x 24 columns]"
      ]
     },
     "execution_count": 6,
     "metadata": {},
     "output_type": "execute_result"
    }
   ],
   "source": [
    "#인기 영상이 되는 일수를 일주일은 너무 긴거 같아서 25%의 값인 5로 잡음\n",
    "df1=df[df[\"duration\"]>5]\n",
    "df2=df[df[\"duration\"]<=5]\n",
    "df1[\"pred\"]=1\n",
    "df2[\"pred\"]=0\n",
    "df=pd.concat([df1, df2])\n",
    "df.reset_index(inplace=True, drop=True)\n",
    "df"
   ]
  },
  {
   "cell_type": "code",
   "execution_count": 7,
   "id": "08336151",
   "metadata": {},
   "outputs": [
    {
     "data": {
      "text/html": [
       "<div>\n",
       "<style scoped>\n",
       "    .dataframe tbody tr th:only-of-type {\n",
       "        vertical-align: middle;\n",
       "    }\n",
       "\n",
       "    .dataframe tbody tr th {\n",
       "        vertical-align: top;\n",
       "    }\n",
       "\n",
       "    .dataframe thead th {\n",
       "        text-align: right;\n",
       "    }\n",
       "</style>\n",
       "<table border=\"1\" class=\"dataframe\">\n",
       "  <thead>\n",
       "    <tr style=\"text-align: right;\">\n",
       "      <th></th>\n",
       "      <th>trending_date</th>\n",
       "      <th>trending_week</th>\n",
       "      <th>publishedAt_date</th>\n",
       "      <th>publishedAt_time</th>\n",
       "      <th>publishedAt_week</th>\n",
       "    </tr>\n",
       "  </thead>\n",
       "  <tbody>\n",
       "    <tr>\n",
       "      <th>0</th>\n",
       "      <td>2020-08-12 00:00:00</td>\n",
       "      <td>Wednesday</td>\n",
       "      <td>2020-08-09 00:00:00</td>\n",
       "      <td>1900-01-01 09:32:48</td>\n",
       "      <td>Sunday</td>\n",
       "    </tr>\n",
       "    <tr>\n",
       "      <th>1</th>\n",
       "      <td>2020-08-12 00:00:00</td>\n",
       "      <td>Wednesday</td>\n",
       "      <td>2020-08-10 00:00:00</td>\n",
       "      <td>1900-01-01 09:54:13</td>\n",
       "      <td>Monday</td>\n",
       "    </tr>\n",
       "    <tr>\n",
       "      <th>2</th>\n",
       "      <td>2020-08-12 00:00:00</td>\n",
       "      <td>Wednesday</td>\n",
       "      <td>2020-08-11 00:00:00</td>\n",
       "      <td>1900-01-01 15:00:58</td>\n",
       "      <td>Tuesday</td>\n",
       "    </tr>\n",
       "    <tr>\n",
       "      <th>3</th>\n",
       "      <td>2020-08-12 00:00:00</td>\n",
       "      <td>Wednesday</td>\n",
       "      <td>2020-08-11 00:00:00</td>\n",
       "      <td>1900-01-01 09:00:13</td>\n",
       "      <td>Tuesday</td>\n",
       "    </tr>\n",
       "    <tr>\n",
       "      <th>4</th>\n",
       "      <td>2020-08-12 00:00:00</td>\n",
       "      <td>Wednesday</td>\n",
       "      <td>2020-08-11 00:00:00</td>\n",
       "      <td>1900-01-01 15:00:13</td>\n",
       "      <td>Tuesday</td>\n",
       "    </tr>\n",
       "    <tr>\n",
       "      <th>...</th>\n",
       "      <td>...</td>\n",
       "      <td>...</td>\n",
       "      <td>...</td>\n",
       "      <td>...</td>\n",
       "      <td>...</td>\n",
       "    </tr>\n",
       "    <tr>\n",
       "      <th>10916</th>\n",
       "      <td>2021-09-22 00:00:00</td>\n",
       "      <td>Wednesday</td>\n",
       "      <td>2021-09-21 00:00:00</td>\n",
       "      <td>1900-01-01 10:01:25</td>\n",
       "      <td>Tuesday</td>\n",
       "    </tr>\n",
       "    <tr>\n",
       "      <th>10917</th>\n",
       "      <td>2021-09-22 00:00:00</td>\n",
       "      <td>Wednesday</td>\n",
       "      <td>2021-09-21 00:00:00</td>\n",
       "      <td>1900-01-01 02:00:05</td>\n",
       "      <td>Tuesday</td>\n",
       "    </tr>\n",
       "    <tr>\n",
       "      <th>10918</th>\n",
       "      <td>2021-09-22 00:00:00</td>\n",
       "      <td>Wednesday</td>\n",
       "      <td>2021-09-21 00:00:00</td>\n",
       "      <td>1900-01-01 10:00:33</td>\n",
       "      <td>Tuesday</td>\n",
       "    </tr>\n",
       "    <tr>\n",
       "      <th>10919</th>\n",
       "      <td>2021-09-22 00:00:00</td>\n",
       "      <td>Wednesday</td>\n",
       "      <td>2021-09-21 00:00:00</td>\n",
       "      <td>1900-01-01 05:26:41</td>\n",
       "      <td>Tuesday</td>\n",
       "    </tr>\n",
       "    <tr>\n",
       "      <th>10920</th>\n",
       "      <td>2021-09-22 00:00:00</td>\n",
       "      <td>Wednesday</td>\n",
       "      <td>2021-09-21 00:00:00</td>\n",
       "      <td>1900-01-01 12:00:15</td>\n",
       "      <td>Tuesday</td>\n",
       "    </tr>\n",
       "  </tbody>\n",
       "</table>\n",
       "<p>10921 rows × 5 columns</p>\n",
       "</div>"
      ],
      "text/plain": [
       "             trending_date trending_week     publishedAt_date  \\\n",
       "0      2020-08-12 00:00:00     Wednesday  2020-08-09 00:00:00   \n",
       "1      2020-08-12 00:00:00     Wednesday  2020-08-10 00:00:00   \n",
       "2      2020-08-12 00:00:00     Wednesday  2020-08-11 00:00:00   \n",
       "3      2020-08-12 00:00:00     Wednesday  2020-08-11 00:00:00   \n",
       "4      2020-08-12 00:00:00     Wednesday  2020-08-11 00:00:00   \n",
       "...                    ...           ...                  ...   \n",
       "10916  2021-09-22 00:00:00     Wednesday  2021-09-21 00:00:00   \n",
       "10917  2021-09-22 00:00:00     Wednesday  2021-09-21 00:00:00   \n",
       "10918  2021-09-22 00:00:00     Wednesday  2021-09-21 00:00:00   \n",
       "10919  2021-09-22 00:00:00     Wednesday  2021-09-21 00:00:00   \n",
       "10920  2021-09-22 00:00:00     Wednesday  2021-09-21 00:00:00   \n",
       "\n",
       "          publishedAt_time publishedAt_week  \n",
       "0      1900-01-01 09:32:48           Sunday  \n",
       "1      1900-01-01 09:54:13           Monday  \n",
       "2      1900-01-01 15:00:58          Tuesday  \n",
       "3      1900-01-01 09:00:13          Tuesday  \n",
       "4      1900-01-01 15:00:13          Tuesday  \n",
       "...                    ...              ...  \n",
       "10916  1900-01-01 10:01:25          Tuesday  \n",
       "10917  1900-01-01 02:00:05          Tuesday  \n",
       "10918  1900-01-01 10:00:33          Tuesday  \n",
       "10919  1900-01-01 05:26:41          Tuesday  \n",
       "10920  1900-01-01 12:00:15          Tuesday  \n",
       "\n",
       "[10921 rows x 5 columns]"
      ]
     },
     "execution_count": 7,
     "metadata": {},
     "output_type": "execute_result"
    }
   ],
   "source": [
    "#데이터를 불러올때마다 날짜와 관련된 코드는 이상이 있음\n",
    "df.iloc[:, 5:10]"
   ]
  },
  {
   "cell_type": "code",
   "execution_count": 8,
   "id": "ecfd0409",
   "metadata": {},
   "outputs": [],
   "source": [
    "df[\"trending_week\"]=df[\"trending_week\"].replace(['Monday', 'Tuesday', 'Wednesday', 'Thursday', 'Friday', 'Saturday', 'Sunday'], [0, 1, 2, 3, 4, 5, 6])\n",
    "df[\"publishedAt_week\"]=df[\"publishedAt_week\"].replace(['Monday', 'Tuesday', 'Wednesday', 'Thursday', 'Friday', 'Saturday', 'Sunday'], [0, 1, 2, 3, 4, 5, 6])\n",
    "df[\"trending_date\"]=df[\"trending_date\"].str.split(' ').str[0]\n",
    "df[\"publishedAt_date\"]=df[\"publishedAt_date\"].str.split(' ').str[0]\n",
    "df[\"publishedAt_time\"]=df[\"publishedAt_time\"].str.split(' ').str[1]"
   ]
  },
  {
   "cell_type": "code",
   "execution_count": 9,
   "id": "0357f522",
   "metadata": {},
   "outputs": [
    {
     "data": {
      "text/plain": [
       "4    1635\n",
       "3    1607\n",
       "2    1603\n",
       "0    1588\n",
       "5    1583\n",
       "6    1519\n",
       "1    1386\n",
       "Name: trending_week, dtype: int64"
      ]
     },
     "execution_count": 9,
     "metadata": {},
     "output_type": "execute_result"
    }
   ],
   "source": [
    "df[\"trending_week\"].value_counts()"
   ]
  },
  {
   "cell_type": "code",
   "execution_count": 10,
   "id": "4aa82ea2",
   "metadata": {},
   "outputs": [
    {
     "data": {
      "text/plain": [
       "4    1792\n",
       "3    1719\n",
       "2    1634\n",
       "1    1523\n",
       "0    1476\n",
       "5    1459\n",
       "6    1318\n",
       "Name: publishedAt_week, dtype: int64"
      ]
     },
     "execution_count": 10,
     "metadata": {},
     "output_type": "execute_result"
    }
   ],
   "source": [
    "df[\"publishedAt_week\"].value_counts()"
   ]
  },
  {
   "cell_type": "code",
   "execution_count": 11,
   "id": "d4275745",
   "metadata": {
    "scrolled": true
   },
   "outputs": [
    {
     "data": {
      "text/html": [
       "<div>\n",
       "<style scoped>\n",
       "    .dataframe tbody tr th:only-of-type {\n",
       "        vertical-align: middle;\n",
       "    }\n",
       "\n",
       "    .dataframe tbody tr th {\n",
       "        vertical-align: top;\n",
       "    }\n",
       "\n",
       "    .dataframe thead th {\n",
       "        text-align: right;\n",
       "    }\n",
       "</style>\n",
       "<table border=\"1\" class=\"dataframe\">\n",
       "  <thead>\n",
       "    <tr style=\"text-align: right;\">\n",
       "      <th></th>\n",
       "      <th>trending_date</th>\n",
       "      <th>trending_week</th>\n",
       "      <th>publishedAt_date</th>\n",
       "      <th>publishedAt_time</th>\n",
       "    </tr>\n",
       "  </thead>\n",
       "  <tbody>\n",
       "    <tr>\n",
       "      <th>0</th>\n",
       "      <td>2020-08-12</td>\n",
       "      <td>2</td>\n",
       "      <td>2020-08-09</td>\n",
       "      <td>09:32:48</td>\n",
       "    </tr>\n",
       "    <tr>\n",
       "      <th>1</th>\n",
       "      <td>2020-08-12</td>\n",
       "      <td>2</td>\n",
       "      <td>2020-08-10</td>\n",
       "      <td>09:54:13</td>\n",
       "    </tr>\n",
       "    <tr>\n",
       "      <th>2</th>\n",
       "      <td>2020-08-12</td>\n",
       "      <td>2</td>\n",
       "      <td>2020-08-11</td>\n",
       "      <td>15:00:58</td>\n",
       "    </tr>\n",
       "    <tr>\n",
       "      <th>3</th>\n",
       "      <td>2020-08-12</td>\n",
       "      <td>2</td>\n",
       "      <td>2020-08-11</td>\n",
       "      <td>09:00:13</td>\n",
       "    </tr>\n",
       "    <tr>\n",
       "      <th>4</th>\n",
       "      <td>2020-08-12</td>\n",
       "      <td>2</td>\n",
       "      <td>2020-08-11</td>\n",
       "      <td>15:00:13</td>\n",
       "    </tr>\n",
       "    <tr>\n",
       "      <th>...</th>\n",
       "      <td>...</td>\n",
       "      <td>...</td>\n",
       "      <td>...</td>\n",
       "      <td>...</td>\n",
       "    </tr>\n",
       "    <tr>\n",
       "      <th>10916</th>\n",
       "      <td>2021-09-22</td>\n",
       "      <td>2</td>\n",
       "      <td>2021-09-21</td>\n",
       "      <td>10:01:25</td>\n",
       "    </tr>\n",
       "    <tr>\n",
       "      <th>10917</th>\n",
       "      <td>2021-09-22</td>\n",
       "      <td>2</td>\n",
       "      <td>2021-09-21</td>\n",
       "      <td>02:00:05</td>\n",
       "    </tr>\n",
       "    <tr>\n",
       "      <th>10918</th>\n",
       "      <td>2021-09-22</td>\n",
       "      <td>2</td>\n",
       "      <td>2021-09-21</td>\n",
       "      <td>10:00:33</td>\n",
       "    </tr>\n",
       "    <tr>\n",
       "      <th>10919</th>\n",
       "      <td>2021-09-22</td>\n",
       "      <td>2</td>\n",
       "      <td>2021-09-21</td>\n",
       "      <td>05:26:41</td>\n",
       "    </tr>\n",
       "    <tr>\n",
       "      <th>10920</th>\n",
       "      <td>2021-09-22</td>\n",
       "      <td>2</td>\n",
       "      <td>2021-09-21</td>\n",
       "      <td>12:00:15</td>\n",
       "    </tr>\n",
       "  </tbody>\n",
       "</table>\n",
       "<p>10921 rows × 4 columns</p>\n",
       "</div>"
      ],
      "text/plain": [
       "      trending_date  trending_week publishedAt_date publishedAt_time\n",
       "0        2020-08-12              2       2020-08-09         09:32:48\n",
       "1        2020-08-12              2       2020-08-10         09:54:13\n",
       "2        2020-08-12              2       2020-08-11         15:00:58\n",
       "3        2020-08-12              2       2020-08-11         09:00:13\n",
       "4        2020-08-12              2       2020-08-11         15:00:13\n",
       "...             ...            ...              ...              ...\n",
       "10916    2021-09-22              2       2021-09-21         10:01:25\n",
       "10917    2021-09-22              2       2021-09-21         02:00:05\n",
       "10918    2021-09-22              2       2021-09-21         10:00:33\n",
       "10919    2021-09-22              2       2021-09-21         05:26:41\n",
       "10920    2021-09-22              2       2021-09-21         12:00:15\n",
       "\n",
       "[10921 rows x 4 columns]"
      ]
     },
     "execution_count": 11,
     "metadata": {},
     "output_type": "execute_result"
    }
   ],
   "source": [
    "df.iloc[:, 5:9]"
   ]
  },
  {
   "cell_type": "code",
   "execution_count": 12,
   "id": "d634610e",
   "metadata": {},
   "outputs": [
    {
     "name": "stdout",
     "output_type": "stream",
     "text": [
      "<class 'pandas.core.frame.DataFrame'>\n",
      "RangeIndex: 10921 entries, 0 to 10920\n",
      "Data columns (total 24 columns):\n",
      " #   Column             Non-Null Count  Dtype \n",
      "---  ------             --------------  ----- \n",
      " 0   video_id           10921 non-null  object\n",
      " 1   video_title        10921 non-null  object\n",
      " 2   channel_id         10921 non-null  object\n",
      " 3   channel_title      10921 non-null  object\n",
      " 4   category           10921 non-null  int64 \n",
      " 5   trending_date      10921 non-null  object\n",
      " 6   trending_week      10921 non-null  int64 \n",
      " 7   publishedAt_date   10921 non-null  object\n",
      " 8   publishedAt_time   10921 non-null  object\n",
      " 9   publishedAt_week   10921 non-null  int64 \n",
      " 10  duration           10921 non-null  int64 \n",
      " 11  tags_split         10921 non-null  object\n",
      " 12  tags_len           10921 non-null  int64 \n",
      " 13  view_count         10921 non-null  int64 \n",
      " 14  play_time          10921 non-null  int64 \n",
      " 15  likes              10921 non-null  int64 \n",
      " 16  dislikes           10921 non-null  int64 \n",
      " 17  comment_count      10921 non-null  int64 \n",
      " 18  comments_disabled  10921 non-null  int64 \n",
      " 19  ratings_disabled   10921 non-null  int64 \n",
      " 20  description        10921 non-null  int64 \n",
      " 21  video_len          10921 non-null  int64 \n",
      " 22  channel_len        10921 non-null  int64 \n",
      " 23  pred               10921 non-null  int64 \n",
      "dtypes: int64(16), object(8)\n",
      "memory usage: 2.0+ MB\n"
     ]
    }
   ],
   "source": [
    "df.info()"
   ]
  },
  {
   "cell_type": "code",
   "execution_count": 13,
   "id": "f4fe781f",
   "metadata": {
    "scrolled": true
   },
   "outputs": [
    {
     "data": {
      "text/html": [
       "<div>\n",
       "<style scoped>\n",
       "    .dataframe tbody tr th:only-of-type {\n",
       "        vertical-align: middle;\n",
       "    }\n",
       "\n",
       "    .dataframe tbody tr th {\n",
       "        vertical-align: top;\n",
       "    }\n",
       "\n",
       "    .dataframe thead th {\n",
       "        text-align: right;\n",
       "    }\n",
       "</style>\n",
       "<table border=\"1\" class=\"dataframe\">\n",
       "  <thead>\n",
       "    <tr style=\"text-align: right;\">\n",
       "      <th></th>\n",
       "      <th>video_id</th>\n",
       "      <th>video_title</th>\n",
       "      <th>channel_id</th>\n",
       "      <th>channel_title</th>\n",
       "      <th>category</th>\n",
       "      <th>trending_date</th>\n",
       "      <th>trending_week</th>\n",
       "      <th>publishedAt_date</th>\n",
       "      <th>publishedAt_time</th>\n",
       "      <th>publishedAt_week</th>\n",
       "      <th>...</th>\n",
       "      <th>play_time</th>\n",
       "      <th>likes</th>\n",
       "      <th>dislikes</th>\n",
       "      <th>comment_count</th>\n",
       "      <th>comments_disabled</th>\n",
       "      <th>ratings_disabled</th>\n",
       "      <th>description</th>\n",
       "      <th>video_len</th>\n",
       "      <th>channel_len</th>\n",
       "      <th>pred</th>\n",
       "    </tr>\n",
       "  </thead>\n",
       "  <tbody>\n",
       "    <tr>\n",
       "      <th>0</th>\n",
       "      <td>uq5LClQN3cE</td>\n",
       "      <td>안녕하세요 보겸입니다</td>\n",
       "      <td>UCu9BCtGIEr73LXZsKmoujKw</td>\n",
       "      <td>보겸 BK</td>\n",
       "      <td>24</td>\n",
       "      <td>2020-08-12</td>\n",
       "      <td>2</td>\n",
       "      <td>2020-08-09</td>\n",
       "      <td>09:32:48</td>\n",
       "      <td>6</td>\n",
       "      <td>...</td>\n",
       "      <td>61</td>\n",
       "      <td>53326</td>\n",
       "      <td>105756</td>\n",
       "      <td>139946</td>\n",
       "      <td>0</td>\n",
       "      <td>0</td>\n",
       "      <td>0</td>\n",
       "      <td>11</td>\n",
       "      <td>5</td>\n",
       "      <td>1</td>\n",
       "    </tr>\n",
       "    <tr>\n",
       "      <th>1</th>\n",
       "      <td>2YW5R97Hxf4</td>\n",
       "      <td>[#사이코지만괜찮아] 도희재 복선 모음.zip 장영남 배우님,, 연기 살살 좀 해주...</td>\n",
       "      <td>UC9w-h_ciMmX64TcLRcb1xPg</td>\n",
       "      <td>tvN DRAMA</td>\n",
       "      <td>24</td>\n",
       "      <td>2020-08-12</td>\n",
       "      <td>2</td>\n",
       "      <td>2020-08-07</td>\n",
       "      <td>06:00:01</td>\n",
       "      <td>4</td>\n",
       "      <td>...</td>\n",
       "      <td>980</td>\n",
       "      <td>10805</td>\n",
       "      <td>194</td>\n",
       "      <td>1080</td>\n",
       "      <td>0</td>\n",
       "      <td>0</td>\n",
       "      <td>1</td>\n",
       "      <td>97</td>\n",
       "      <td>9</td>\n",
       "      <td>0</td>\n",
       "    </tr>\n",
       "    <tr>\n",
       "      <th>2</th>\n",
       "      <td>IKU13qDja7g</td>\n",
       "      <td>🌈🌟고간지도 첫눈에 반한 똥꼬발랄한 찐하이틴룩💖☀ (핵귀염교진/시크스웩서연/GO간지...</td>\n",
       "      <td>UCtDcEbupijR_gufF7PIEDGQ</td>\n",
       "      <td>ZAMSTER 잼스터</td>\n",
       "      <td>24</td>\n",
       "      <td>2020-08-12</td>\n",
       "      <td>2</td>\n",
       "      <td>2020-08-08</td>\n",
       "      <td>03:00:07</td>\n",
       "      <td>5</td>\n",
       "      <td>...</td>\n",
       "      <td>758</td>\n",
       "      <td>4089</td>\n",
       "      <td>78</td>\n",
       "      <td>303</td>\n",
       "      <td>0</td>\n",
       "      <td>0</td>\n",
       "      <td>1</td>\n",
       "      <td>71</td>\n",
       "      <td>11</td>\n",
       "      <td>0</td>\n",
       "    </tr>\n",
       "    <tr>\n",
       "      <th>3</th>\n",
       "      <td>0K_d7YDaDFI</td>\n",
       "      <td>※충격반전※ 지난주 모두를 설레게 한 북한 식당 종업원 수애, 알고 보니 북한 간첩...</td>\n",
       "      <td>UCB-ogYCX9Me8nP9gEGpMjUg</td>\n",
       "      <td>채널A Entertainment</td>\n",
       "      <td>24</td>\n",
       "      <td>2020-08-12</td>\n",
       "      <td>2</td>\n",
       "      <td>2020-08-09</td>\n",
       "      <td>15:16:21</td>\n",
       "      <td>6</td>\n",
       "      <td>...</td>\n",
       "      <td>226</td>\n",
       "      <td>1318</td>\n",
       "      <td>122</td>\n",
       "      <td>139</td>\n",
       "      <td>0</td>\n",
       "      <td>0</td>\n",
       "      <td>1</td>\n",
       "      <td>75</td>\n",
       "      <td>17</td>\n",
       "      <td>0</td>\n",
       "    </tr>\n",
       "    <tr>\n",
       "      <th>4</th>\n",
       "      <td>M-HiHYebrJM</td>\n",
       "      <td>여의도 지하차도에 갇힌 잉어·메기 구출작전!</td>\n",
       "      <td>UCHBvfByzuzamrZiL398jopQ</td>\n",
       "      <td>News1 눈TV</td>\n",
       "      <td>25</td>\n",
       "      <td>2020-08-12</td>\n",
       "      <td>2</td>\n",
       "      <td>2020-08-07</td>\n",
       "      <td>08:57:57</td>\n",
       "      <td>4</td>\n",
       "      <td>...</td>\n",
       "      <td>91</td>\n",
       "      <td>3344</td>\n",
       "      <td>156</td>\n",
       "      <td>843</td>\n",
       "      <td>0</td>\n",
       "      <td>0</td>\n",
       "      <td>1</td>\n",
       "      <td>24</td>\n",
       "      <td>9</td>\n",
       "      <td>0</td>\n",
       "    </tr>\n",
       "  </tbody>\n",
       "</table>\n",
       "<p>5 rows × 24 columns</p>\n",
       "</div>"
      ],
      "text/plain": [
       "      video_id                                        video_title  \\\n",
       "0  uq5LClQN3cE                                        안녕하세요 보겸입니다   \n",
       "1  2YW5R97Hxf4  [#사이코지만괜찮아] 도희재 복선 모음.zip 장영남 배우님,, 연기 살살 좀 해주...   \n",
       "2  IKU13qDja7g  🌈🌟고간지도 첫눈에 반한 똥꼬발랄한 찐하이틴룩💖☀ (핵귀염교진/시크스웩서연/GO간지...   \n",
       "3  0K_d7YDaDFI  ※충격반전※ 지난주 모두를 설레게 한 북한 식당 종업원 수애, 알고 보니 북한 간첩...   \n",
       "4  M-HiHYebrJM                           여의도 지하차도에 갇힌 잉어·메기 구출작전!   \n",
       "\n",
       "                 channel_id      channel_title  category trending_date  \\\n",
       "0  UCu9BCtGIEr73LXZsKmoujKw              보겸 BK        24    2020-08-12   \n",
       "1  UC9w-h_ciMmX64TcLRcb1xPg          tvN DRAMA        24    2020-08-12   \n",
       "2  UCtDcEbupijR_gufF7PIEDGQ        ZAMSTER 잼스터        24    2020-08-12   \n",
       "3  UCB-ogYCX9Me8nP9gEGpMjUg  채널A Entertainment        24    2020-08-12   \n",
       "4  UCHBvfByzuzamrZiL398jopQ          News1 눈TV        25    2020-08-12   \n",
       "\n",
       "   trending_week publishedAt_date publishedAt_time  publishedAt_week  ...  \\\n",
       "0              2       2020-08-09         09:32:48                 6  ...   \n",
       "1              2       2020-08-07         06:00:01                 4  ...   \n",
       "2              2       2020-08-08         03:00:07                 5  ...   \n",
       "3              2       2020-08-09         15:16:21                 6  ...   \n",
       "4              2       2020-08-07         08:57:57                 4  ...   \n",
       "\n",
       "   play_time  likes  dislikes  comment_count  comments_disabled  \\\n",
       "0         61  53326    105756         139946                  0   \n",
       "1        980  10805       194           1080                  0   \n",
       "2        758   4089        78            303                  0   \n",
       "3        226   1318       122            139                  0   \n",
       "4         91   3344       156            843                  0   \n",
       "\n",
       "   ratings_disabled  description  video_len  channel_len  pred  \n",
       "0                 0            0         11            5     1  \n",
       "1                 0            1         97            9     0  \n",
       "2                 0            1         71           11     0  \n",
       "3                 0            1         75           17     0  \n",
       "4                 0            1         24            9     0  \n",
       "\n",
       "[5 rows x 24 columns]"
      ]
     },
     "execution_count": 13,
     "metadata": {},
     "output_type": "execute_result"
    }
   ],
   "source": [
    "df=df.sort_values(by=['trending_date'], axis=0)\n",
    "df.reset_index(inplace=True, drop=True)\n",
    "df.head()"
   ]
  },
  {
   "cell_type": "code",
   "execution_count": 14,
   "id": "a611ed0b",
   "metadata": {},
   "outputs": [
    {
     "name": "stdout",
     "output_type": "stream",
     "text": [
      "<class 'pandas.core.frame.DataFrame'>\n",
      "RangeIndex: 10921 entries, 0 to 10920\n",
      "Data columns (total 24 columns):\n",
      " #   Column             Non-Null Count  Dtype \n",
      "---  ------             --------------  ----- \n",
      " 0   video_id           10921 non-null  object\n",
      " 1   video_title        10921 non-null  object\n",
      " 2   channel_id         10921 non-null  object\n",
      " 3   channel_title      10921 non-null  object\n",
      " 4   category           10921 non-null  int64 \n",
      " 5   trending_date      10921 non-null  object\n",
      " 6   trending_week      10921 non-null  int64 \n",
      " 7   publishedAt_date   10921 non-null  object\n",
      " 8   publishedAt_time   10921 non-null  object\n",
      " 9   publishedAt_week   10921 non-null  int64 \n",
      " 10  duration           10921 non-null  int64 \n",
      " 11  tags_split         10921 non-null  object\n",
      " 12  tags_len           10921 non-null  int64 \n",
      " 13  view_count         10921 non-null  int64 \n",
      " 14  play_time          10921 non-null  int64 \n",
      " 15  likes              10921 non-null  int64 \n",
      " 16  dislikes           10921 non-null  int64 \n",
      " 17  comment_count      10921 non-null  int64 \n",
      " 18  comments_disabled  10921 non-null  int64 \n",
      " 19  ratings_disabled   10921 non-null  int64 \n",
      " 20  description        10921 non-null  int64 \n",
      " 21  video_len          10921 non-null  int64 \n",
      " 22  channel_len        10921 non-null  int64 \n",
      " 23  pred               10921 non-null  int64 \n",
      "dtypes: int64(16), object(8)\n",
      "memory usage: 2.0+ MB\n"
     ]
    }
   ],
   "source": [
    "df.info()"
   ]
  },
  {
   "cell_type": "markdown",
   "id": "dd57d0ee",
   "metadata": {},
   "source": [
    "## 시각화"
   ]
  },
  {
   "cell_type": "code",
   "execution_count": 15,
   "id": "cb577a4f",
   "metadata": {},
   "outputs": [
    {
     "name": "stderr",
     "output_type": "stream",
     "text": [
      "C:\\Users\\yhg31\\Anaconda3\\lib\\site-packages\\seaborn\\distributions.py:2619: FutureWarning: `distplot` is a deprecated function and will be removed in a future version. Please adapt your code to use either `displot` (a figure-level function with similar flexibility) or `histplot` (an axes-level function for histograms).\n",
      "  warnings.warn(msg, FutureWarning)\n"
     ]
    },
    {
     "data": {
      "image/png": "[encoded data removed]",
      "text/plain": [
       "<Figure size 720x360 with 1 Axes>"
      ]
     },
     "metadata": {
      "needs_background": "light"
     },
     "output_type": "display_data"
    }
   ],
   "source": [
    "import matplotlib.pyplot as plt\n",
    "from matplotlib import font_manager, rc \n",
    "import seaborn as sns\n",
    "font_name=font_manager.FontProperties(fname=\"C:/Windows/Fonts/malgun.ttf\").get_name() \n",
    "rc('font', family=font_name) \n",
    "\n",
    "plt.figure(figsize=(10, 5))\n",
    "ax = sns.distplot(df[\"duration\"])\n",
    "ax.set_xlabel(\"일수\")\n",
    "plt.show()"
   ]
  },
  {
   "cell_type": "code",
   "execution_count": 16,
   "id": "f86d5de0",
   "metadata": {},
   "outputs": [
    {
     "data": {
      "image/png": "[encoded data removed]",
      "text/plain": [
       "<Figure size 432x288 with 1 Axes>"
      ]
     },
     "metadata": {
      "needs_background": "light"
     },
     "output_type": "display_data"
    }
   ],
   "source": [
    "plt.hist(df[\"pred\"], bins=10, alpha=.8)\n",
    "plt.ylabel(\"빈도\", fontsize=13)\n",
    "plt.xlabel(\"예측\", fontsize=13)\n",
    "plt.grid()\n",
    "plt.show()"
   ]
  },
  {
   "cell_type": "code",
   "execution_count": 17,
   "id": "65b6ae4c",
   "metadata": {},
   "outputs": [
    {
     "data": {
      "image/png": "[encoded data removed]",
      "text/plain": [
       "<Figure size 432x288 with 1 Axes>"
      ]
     },
     "metadata": {
      "needs_background": "light"
     },
     "output_type": "display_data"
    }
   ],
   "source": [
    "plt.hist(df[\"category\"], bins=10, alpha=.8)\n",
    "plt.ylabel(\"빈도\", fontsize=13)\n",
    "plt.xlabel(\"카테고리\", fontsize=13)\n",
    "plt.grid()\n",
    "plt.show()"
   ]
  },
  {
   "cell_type": "code",
   "execution_count": 18,
   "id": "8911da5b",
   "metadata": {},
   "outputs": [
    {
     "data": {
      "text/plain": [
       "24    3690\n",
       "22    1487\n",
       "10    1131\n",
       "17     944\n",
       "25     891\n",
       "23     621\n",
       "1      393\n",
       "20     389\n",
       "26     384\n",
       "27     267\n",
       "15     233\n",
       "28     230\n",
       "2      152\n",
       "19      91\n",
       "29      18\n",
       "Name: category, dtype: int64"
      ]
     },
     "execution_count": 18,
     "metadata": {},
     "output_type": "execute_result"
    }
   ],
   "source": [
    "df[\"category\"].value_counts()"
   ]
  },
  {
   "cell_type": "code",
   "execution_count": 19,
   "id": "b0837bf7",
   "metadata": {},
   "outputs": [
    {
     "data": {
      "text/plain": [
       "1    8097\n",
       "0    2824\n",
       "Name: pred, dtype: int64"
      ]
     },
     "execution_count": 19,
     "metadata": {},
     "output_type": "execute_result"
    }
   ],
   "source": [
    "#데이터가 딱 두개로 나뉘는 이쁜 형태가 아님.\n",
    "df[\"pred\"].value_counts()"
   ]
  },
  {
   "cell_type": "markdown",
   "id": "fcb82b06",
   "metadata": {},
   "source": [
    "## 데이터 샘플링"
   ]
  },
  {
   "cell_type": "code",
   "execution_count": 20,
   "id": "8f44be86",
   "metadata": {},
   "outputs": [
    {
     "name": "stdout",
     "output_type": "stream",
     "text": [
      "<class 'pandas.core.frame.DataFrame'>\n",
      "RangeIndex: 10921 entries, 0 to 10920\n",
      "Data columns (total 24 columns):\n",
      " #   Column             Non-Null Count  Dtype \n",
      "---  ------             --------------  ----- \n",
      " 0   video_id           10921 non-null  object\n",
      " 1   video_title        10921 non-null  object\n",
      " 2   channel_id         10921 non-null  object\n",
      " 3   channel_title      10921 non-null  object\n",
      " 4   category           10921 non-null  int64 \n",
      " 5   trending_date      10921 non-null  object\n",
      " 6   trending_week      10921 non-null  int64 \n",
      " 7   publishedAt_date   10921 non-null  object\n",
      " 8   publishedAt_time   10921 non-null  object\n",
      " 9   publishedAt_week   10921 non-null  int64 \n",
      " 10  duration           10921 non-null  int64 \n",
      " 11  tags_split         10921 non-null  object\n",
      " 12  tags_len           10921 non-null  int64 \n",
      " 13  view_count         10921 non-null  int64 \n",
      " 14  play_time          10921 non-null  int64 \n",
      " 15  likes              10921 non-null  int64 \n",
      " 16  dislikes           10921 non-null  int64 \n",
      " 17  comment_count      10921 non-null  int64 \n",
      " 18  comments_disabled  10921 non-null  int64 \n",
      " 19  ratings_disabled   10921 non-null  int64 \n",
      " 20  description        10921 non-null  int64 \n",
      " 21  video_len          10921 non-null  int64 \n",
      " 22  channel_len        10921 non-null  int64 \n",
      " 23  pred               10921 non-null  int64 \n",
      "dtypes: int64(16), object(8)\n",
      "memory usage: 2.0+ MB\n"
     ]
    }
   ],
   "source": [
    "df.info()"
   ]
  },
  {
   "cell_type": "code",
   "execution_count": 21,
   "id": "20e3010b",
   "metadata": {},
   "outputs": [],
   "source": [
    "X=df[[\"category\", \"publishedAt_week\", \"tags_len\", \"view_count\", \"play_time\", \"likes\", \"dislikes\",\n",
    "      \"comment_count\", \"comments_disabled\", \"ratings_disabled\", \"description\", \"video_len\", \"channel_len\"]]\n",
    "Y=df[\"pred\"]"
   ]
  },
  {
   "cell_type": "code",
   "execution_count": 22,
   "id": "39189b53",
   "metadata": {},
   "outputs": [],
   "source": [
    "from imblearn.over_sampling import SMOTE\n",
    "X_resampled, y_resampled = SMOTE(random_state=0).fit_resample(X, Y)"
   ]
  },
  {
   "cell_type": "code",
   "execution_count": 23,
   "id": "d6bdc771",
   "metadata": {},
   "outputs": [
    {
     "data": {
      "image/png": "[encoded data removed]",
      "text/plain": [
       "<Figure size 432x288 with 1 Axes>"
      ]
     },
     "metadata": {
      "needs_background": "light"
     },
     "output_type": "display_data"
    }
   ],
   "source": [
    "plt.hist(y_resampled, bins=10, alpha=.8)\n",
    "plt.ylabel(\"빈도\", fontsize=13)\n",
    "plt.xlabel(\"예측\", fontsize=13)\n",
    "plt.grid()\n",
    "plt.show()"
   ]
  },
  {
   "cell_type": "code",
   "execution_count": 24,
   "id": "3c7d4b40",
   "metadata": {},
   "outputs": [
    {
     "data": {
      "text/plain": [
       "Text(0.5, 0, '종속변수')"
      ]
     },
     "execution_count": 24,
     "metadata": {},
     "output_type": "execute_result"
    },
    {
     "data": {
      "image/png": "[encoded data removed]",
      "text/plain": [
       "<Figure size 936x576 with 2 Axes>"
      ]
     },
     "metadata": {
      "needs_background": "light"
     },
     "output_type": "display_data"
    }
   ],
   "source": [
    "fig = plt.figure(figsize=(13, 8))\n",
    "axes1 = fig.add_subplot(1, 2, 1)\n",
    "axes1.hist(Y)\n",
    "axes1.set_title('불균형 데이터')\n",
    "axes1.set_xlabel('종속변수')\n",
    "\n",
    "axes1 = fig.add_subplot(1, 2, 2)\n",
    "axes1.hist(y_resampled)\n",
    "axes1.set_title('샘플링 후 데이터')\n",
    "axes1.set_xlabel('종속변수')"
   ]
  },
  {
   "cell_type": "markdown",
   "id": "b38e4893",
   "metadata": {},
   "source": [
    "##  train_test 분리"
   ]
  },
  {
   "cell_type": "code",
   "execution_count": 25,
   "id": "60433a5a",
   "metadata": {},
   "outputs": [],
   "source": [
    "from sklearn.model_selection import train_test_split\n",
    "x_train, x_test, y_train, y_test = train_test_split(X_resampled, y_resampled)"
   ]
  },
  {
   "cell_type": "code",
   "execution_count": 26,
   "id": "3d78f2f7",
   "metadata": {},
   "outputs": [
    {
     "data": {
      "text/html": [
       "<div>\n",
       "<style scoped>\n",
       "    .dataframe tbody tr th:only-of-type {\n",
       "        vertical-align: middle;\n",
       "    }\n",
       "\n",
       "    .dataframe tbody tr th {\n",
       "        vertical-align: top;\n",
       "    }\n",
       "\n",
       "    .dataframe thead th {\n",
       "        text-align: right;\n",
       "    }\n",
       "</style>\n",
       "<table border=\"1\" class=\"dataframe\">\n",
       "  <thead>\n",
       "    <tr style=\"text-align: right;\">\n",
       "      <th></th>\n",
       "      <th>category</th>\n",
       "      <th>publishedAt_week</th>\n",
       "      <th>tags_len</th>\n",
       "      <th>view_count</th>\n",
       "      <th>play_time</th>\n",
       "      <th>likes</th>\n",
       "      <th>dislikes</th>\n",
       "      <th>comment_count</th>\n",
       "      <th>comments_disabled</th>\n",
       "      <th>ratings_disabled</th>\n",
       "      <th>description</th>\n",
       "      <th>video_len</th>\n",
       "      <th>channel_len</th>\n",
       "    </tr>\n",
       "  </thead>\n",
       "  <tbody>\n",
       "    <tr>\n",
       "      <th>1861</th>\n",
       "      <td>22</td>\n",
       "      <td>0</td>\n",
       "      <td>103</td>\n",
       "      <td>249693</td>\n",
       "      <td>30</td>\n",
       "      <td>48555</td>\n",
       "      <td>78</td>\n",
       "      <td>1171</td>\n",
       "      <td>0</td>\n",
       "      <td>0</td>\n",
       "      <td>1</td>\n",
       "      <td>48</td>\n",
       "      <td>25</td>\n",
       "    </tr>\n",
       "    <tr>\n",
       "      <th>7684</th>\n",
       "      <td>22</td>\n",
       "      <td>2</td>\n",
       "      <td>13</td>\n",
       "      <td>577305</td>\n",
       "      <td>442</td>\n",
       "      <td>10553</td>\n",
       "      <td>252</td>\n",
       "      <td>4154</td>\n",
       "      <td>0</td>\n",
       "      <td>0</td>\n",
       "      <td>1</td>\n",
       "      <td>25</td>\n",
       "      <td>3</td>\n",
       "    </tr>\n",
       "    <tr>\n",
       "      <th>4353</th>\n",
       "      <td>24</td>\n",
       "      <td>2</td>\n",
       "      <td>1</td>\n",
       "      <td>81367</td>\n",
       "      <td>245</td>\n",
       "      <td>6025</td>\n",
       "      <td>50</td>\n",
       "      <td>776</td>\n",
       "      <td>0</td>\n",
       "      <td>0</td>\n",
       "      <td>1</td>\n",
       "      <td>38</td>\n",
       "      <td>7</td>\n",
       "    </tr>\n",
       "    <tr>\n",
       "      <th>14223</th>\n",
       "      <td>20</td>\n",
       "      <td>2</td>\n",
       "      <td>13</td>\n",
       "      <td>301381</td>\n",
       "      <td>481</td>\n",
       "      <td>6750</td>\n",
       "      <td>87</td>\n",
       "      <td>1095</td>\n",
       "      <td>0</td>\n",
       "      <td>0</td>\n",
       "      <td>1</td>\n",
       "      <td>23</td>\n",
       "      <td>10</td>\n",
       "    </tr>\n",
       "    <tr>\n",
       "      <th>12351</th>\n",
       "      <td>17</td>\n",
       "      <td>2</td>\n",
       "      <td>15</td>\n",
       "      <td>282385</td>\n",
       "      <td>145</td>\n",
       "      <td>16979</td>\n",
       "      <td>330</td>\n",
       "      <td>1264</td>\n",
       "      <td>0</td>\n",
       "      <td>0</td>\n",
       "      <td>0</td>\n",
       "      <td>49</td>\n",
       "      <td>10</td>\n",
       "    </tr>\n",
       "  </tbody>\n",
       "</table>\n",
       "</div>"
      ],
      "text/plain": [
       "       category  publishedAt_week  tags_len  view_count  play_time  likes  \\\n",
       "1861         22                 0       103      249693         30  48555   \n",
       "7684         22                 2        13      577305        442  10553   \n",
       "4353         24                 2         1       81367        245   6025   \n",
       "14223        20                 2        13      301381        481   6750   \n",
       "12351        17                 2        15      282385        145  16979   \n",
       "\n",
       "       dislikes  comment_count  comments_disabled  ratings_disabled  \\\n",
       "1861         78           1171                  0                 0   \n",
       "7684        252           4154                  0                 0   \n",
       "4353         50            776                  0                 0   \n",
       "14223        87           1095                  0                 0   \n",
       "12351       330           1264                  0                 0   \n",
       "\n",
       "       description  video_len  channel_len  \n",
       "1861             1         48           25  \n",
       "7684             1         25            3  \n",
       "4353             1         38            7  \n",
       "14223            1         23           10  \n",
       "12351            0         49           10  "
      ]
     },
     "execution_count": 26,
     "metadata": {},
     "output_type": "execute_result"
    }
   ],
   "source": [
    "x_train.head()"
   ]
  },
  {
   "cell_type": "code",
   "execution_count": 27,
   "id": "a7125558",
   "metadata": {},
   "outputs": [],
   "source": [
    "#스케일\n",
    "from sklearn.preprocessing import StandardScaler\n",
    "\n",
    "scaler = StandardScaler()\n",
    "x_train_scaled = scaler.fit_transform(x_train)\n",
    "x_test_scaled = scaler.transform(x_test)"
   ]
  },
  {
   "cell_type": "code",
   "execution_count": 28,
   "id": "daa7a66e",
   "metadata": {},
   "outputs": [
    {
     "data": {
      "text/plain": [
       "array([[ 0.60034304,  0.63891279,  4.53480256, ...,  0.1794755 ,\n",
       "         0.34734359, -0.65721318],\n",
       "       [ 0.60034304, -0.44923695, -0.38611938, ...,  0.1794755 ,\n",
       "         0.10942495,  1.36504526],\n",
       "       [ 0.60034304, -1.53738669, -0.11273483, ...,  0.1794755 ,\n",
       "         1.34660191,  0.01687297],\n",
       "       ...,\n",
       "       [ 0.43749929,  1.18298766,  0.0512959 , ...,  0.1794755 ,\n",
       "         1.20385073, -0.15164857],\n",
       "       [ 0.60034304, -0.44923695,  1.63692631, ...,  0.1794755 ,\n",
       "         1.06109954,  1.5335668 ],\n",
       "       [ 0.27465553,  0.09483792,  2.1290185 , ...,  0.1794755 ,\n",
       "         0.29975986,  2.37617448]])"
      ]
     },
     "execution_count": 28,
     "metadata": {},
     "output_type": "execute_result"
    }
   ],
   "source": [
    "x_test_scaled"
   ]
  },
  {
   "cell_type": "markdown",
   "id": "e6ac5a0f",
   "metadata": {},
   "source": [
    "## 지도학습_분류분석"
   ]
  },
  {
   "cell_type": "markdown",
   "id": "4782a96d",
   "metadata": {},
   "source": [
    "### KNN"
   ]
  },
  {
   "cell_type": "code",
   "execution_count": 29,
   "id": "f6badabc",
   "metadata": {},
   "outputs": [],
   "source": [
    "from sklearn.neighbors import KNeighborsClassifier\n",
    "\n",
    "knn = KNeighborsClassifier()\n",
    "knn.fit(x_train_scaled, y_train)\n",
    "knn_train_pred = knn.predict(x_train_scaled)\n",
    "knn_test_pred = knn.predict(x_test_scaled)"
   ]
  },
  {
   "cell_type": "code",
   "execution_count": 30,
   "id": "a68a7993",
   "metadata": {},
   "outputs": [
    {
     "name": "stdout",
     "output_type": "stream",
     "text": [
      "knn train 정확도 : 0.779\n",
      "knn test  정확도 : 0.667\n"
     ]
    }
   ],
   "source": [
    "from sklearn.metrics import accuracy_score\n",
    "print(\"knn train 정확도 : {0:.3f}\".format(accuracy_score(y_train, knn_train_pred)))\n",
    "print(\"knn test  정확도 : {0:.3f}\".format(accuracy_score(y_test, knn_test_pred)))"
   ]
  },
  {
   "cell_type": "code",
   "execution_count": 31,
   "id": "891d05c2",
   "metadata": {},
   "outputs": [
    {
     "name": "stdout",
     "output_type": "stream",
     "text": [
      "KNN train\n",
      " [[4801 1244]\n",
      " [1434 4666]]\n",
      "\n",
      "KNN test\n",
      " [[1402  650]\n",
      " [ 697 1300]]\n"
     ]
    }
   ],
   "source": [
    "from sklearn.metrics import confusion_matrix\n",
    "\n",
    "print(\"KNN train\\n\", confusion_matrix(y_train, knn_train_pred))\n",
    "print()\n",
    "print(\"KNN test\\n\", confusion_matrix(y_test, knn_test_pred))"
   ]
  },
  {
   "cell_type": "code",
   "execution_count": 32,
   "id": "6589aecb",
   "metadata": {},
   "outputs": [],
   "source": [
    "train_sc = []\n",
    "test_sc = []\n",
    "len_sc=[]\n",
    "\n",
    "for k in range(1,15):\n",
    "    k_knn = KNeighborsClassifier(n_neighbors=k)\n",
    "    k_knn.fit(x_train_scaled, y_train)\n",
    "    k_pred = k_knn.predict(x_test_scaled)\n",
    "    train_sc.append(k_knn.score(x_train_scaled, y_train))\n",
    "    test_sc.append((k_pred==y_test).mean())\n",
    "    len_sc.append(k)"
   ]
  },
  {
   "cell_type": "code",
   "execution_count": 33,
   "id": "ebbfa64b",
   "metadata": {},
   "outputs": [
    {
     "data": {
      "text/plain": [
       "<matplotlib.legend.Legend at 0x227292bc5e0>"
      ]
     },
     "execution_count": 33,
     "metadata": {},
     "output_type": "execute_result"
    },
    {
     "data": {
      "image/png": "[encoded data removed]",
      "text/plain": [
       "<Figure size 864x648 with 1 Axes>"
      ]
     },
     "metadata": {
      "needs_background": "light"
     },
     "output_type": "display_data"
    }
   ],
   "source": [
    "plt.figure(figsize=(12, 9))\n",
    "plt.plot(len_sc, train_sc, label='TRAIN set')\n",
    "plt.plot(len_sc, test_sc, label='TEST set')\n",
    "plt.xlabel(\"n_neighbors\")\n",
    "plt.ylabel(\"accuracy\")\n",
    "plt.xticks(np.arange(0, 16, step=1))\n",
    "plt.legend()"
   ]
  },
  {
   "cell_type": "code",
   "execution_count": 34,
   "id": "8b74f183",
   "metadata": {},
   "outputs": [],
   "source": [
    "#k값 찾아서 넣기\n",
    "knn1 = KNeighborsClassifier(n_neighbors=2)\n",
    "knn1.fit(x_train_scaled, y_train)\n",
    "knn_train_pred1 = knn1.predict(x_train_scaled)\n",
    "knn_test_pred1 = knn1.predict(x_test_scaled)"
   ]
  },
  {
   "cell_type": "code",
   "execution_count": 35,
   "id": "0bffc668",
   "metadata": {},
   "outputs": [
    {
     "name": "stdout",
     "output_type": "stream",
     "text": [
      "KNN k값 train 정확도 : 0.824\n",
      "KNN k값 test  정확도 : 0.649\n"
     ]
    }
   ],
   "source": [
    "print(\"KNN k값 train 정확도 : {0:.3f}\".format(accuracy_score(y_train, knn_train_pred1)))\n",
    "print(\"KNN k값 test  정확도 : {0:.3f}\".format(accuracy_score(y_test, knn_test_pred1)))"
   ]
  },
  {
   "cell_type": "code",
   "execution_count": 36,
   "id": "86753c6f",
   "metadata": {},
   "outputs": [
    {
     "name": "stdout",
     "output_type": "stream",
     "text": [
      "KNN train\n",
      " [[6045    0]\n",
      " [2136 3964]]\n",
      "\n",
      "KNN test\n",
      " [[1744  308]\n",
      " [1112  885]]\n"
     ]
    }
   ],
   "source": [
    "print(\"KNN train\\n\", confusion_matrix(y_train, knn_train_pred1))\n",
    "print()\n",
    "print(\"KNN test\\n\", confusion_matrix(y_test, knn_test_pred1))"
   ]
  },
  {
   "cell_type": "code",
   "execution_count": 37,
   "id": "074f5619",
   "metadata": {},
   "outputs": [
    {
     "name": "stdout",
     "output_type": "stream",
     "text": [
      "Fitting 5 folds for each of 28 candidates, totalling 140 fits\n"
     ]
    },
    {
     "data": {
      "text/plain": [
       "GridSearchCV(cv=StratifiedKFold(n_splits=5, random_state=13, shuffle=True),\n",
       "             estimator=Pipeline(steps=[('pca', PCA()),\n",
       "                                       ('clf', KNeighborsClassifier())]),\n",
       "             n_jobs=-1,\n",
       "             param_grid={'clf__n_neighbors': range(1, 5),\n",
       "                         'pca__n_components': range(1, 8)},\n",
       "             verbose=1)"
      ]
     },
     "execution_count": 37,
     "metadata": {},
     "output_type": "execute_result"
    }
   ],
   "source": [
    "from sklearn.pipeline import Pipeline\n",
    "from sklearn.decomposition import PCA\n",
    "from sklearn.model_selection import GridSearchCV, StratifiedKFold\n",
    "\n",
    "pipe = Pipeline([\n",
    "    ('pca', PCA()),\n",
    "    ('clf', KNeighborsClassifier()),\n",
    "])\n",
    "\n",
    "parameters = {\n",
    "    'pca__n_components' : range(1, 8),\n",
    "    'clf__n_neighbors' : range(1, 5)\n",
    "}\n",
    "\n",
    "kf = StratifiedKFold(n_splits=5, shuffle= True, random_state= 13)\n",
    "grid = GridSearchCV(pipe, parameters, cv = kf, n_jobs= -1, verbose=1)\n",
    "grid.fit(x_train_scaled, y_train)"
   ]
  },
  {
   "cell_type": "code",
   "execution_count": 38,
   "id": "aa33d70c",
   "metadata": {},
   "outputs": [
    {
     "name": "stdout",
     "output_type": "stream",
     "text": [
      "Best scroe : 0.642\n",
      "Best parameters set:\n",
      "\tclf__n_neighbors: 1\n",
      "\tpca__n_components: 7\n"
     ]
    }
   ],
   "source": [
    "print('Best scroe : %0.3f' %grid.best_score_)\n",
    "print('Best parameters set:')\n",
    "best_parameters = grid.best_estimator_.get_params()\n",
    "for param_name in sorted(parameters.keys()):\n",
    "    print('\\t%s: %r'%(param_name, best_parameters[param_name]))"
   ]
  },
  {
   "cell_type": "code",
   "execution_count": 39,
   "id": "18ecd938",
   "metadata": {},
   "outputs": [
    {
     "data": {
      "text/plain": [
       "0.6670782909360335"
      ]
     },
     "execution_count": 39,
     "metadata": {},
     "output_type": "execute_result"
    }
   ],
   "source": [
    "accuracy_score(y_test, grid.best_estimator_.predict(x_test_scaled))"
   ]
  },
  {
   "cell_type": "code",
   "execution_count": 40,
   "id": "ffe76e3a",
   "metadata": {},
   "outputs": [
    {
     "data": {
      "text/plain": [
       "'              precision    recall  f1-score   support\\n\\n           0       1.00      1.00      1.00      6045\\n           1       1.00      1.00      1.00      6100\\n\\n    accuracy                           1.00     12145\\n   macro avg       1.00      1.00      1.00     12145\\nweighted avg       1.00      1.00      1.00     12145\\n'"
      ]
     },
     "execution_count": 40,
     "metadata": {},
     "output_type": "execute_result"
    }
   ],
   "source": [
    "from sklearn.metrics import classification_report, confusion_matrix\n",
    "classification_report(y_train, grid.predict(x_train_scaled))"
   ]
  },
  {
   "cell_type": "code",
   "execution_count": 41,
   "id": "8cc1ea8c",
   "metadata": {},
   "outputs": [
    {
     "name": "stdout",
     "output_type": "stream",
     "text": [
      "KNN k값 train 정확도 : 1.000\n",
      "KNN k값 test  정확도 : 0.667\n"
     ]
    }
   ],
   "source": [
    "print(\"KNN k값 train 정확도 : {0:.3f}\".format(accuracy_score(y_train,grid.predict(x_train_scaled))))\n",
    "print(\"KNN k값 test  정확도 : {0:.3f}\".format(accuracy_score(y_test, grid.predict(x_test_scaled))))"
   ]
  },
  {
   "cell_type": "code",
   "execution_count": 42,
   "id": "de6ae92b",
   "metadata": {},
   "outputs": [
    {
     "name": "stdout",
     "output_type": "stream",
     "text": [
      "KNN train\n",
      " [[6045    0]\n",
      " [   0 6100]]\n",
      "\n",
      "KNN test\n",
      " [[1365  687]\n",
      " [ 661 1336]]\n"
     ]
    }
   ],
   "source": [
    "print(\"KNN train\\n\", confusion_matrix(y_train, grid.predict(x_train_scaled)))\n",
    "print()\n",
    "print(\"KNN test\\n\", confusion_matrix(y_test, grid.predict(x_test_scaled)))"
   ]
  },
  {
   "cell_type": "markdown",
   "id": "613d71c9",
   "metadata": {},
   "source": [
    "### LDA\n",
    "- 2개이상 범주때 사용, 이 범주가 명확할수록 좋음"
   ]
  },
  {
   "cell_type": "code",
   "execution_count": 43,
   "id": "3cdd56e4",
   "metadata": {},
   "outputs": [],
   "source": [
    "from sklearn.discriminant_analysis import LinearDiscriminantAnalysis\n",
    "\n",
    "lda = LinearDiscriminantAnalysis()\n",
    "lda.fit(x_train_scaled, y_train)\n",
    "lda_train_pred = lda.predict(x_train_scaled)\n",
    "lda_test_pred = lda.predict(x_test_scaled)"
   ]
  },
  {
   "cell_type": "code",
   "execution_count": 44,
   "id": "1cc6ac71",
   "metadata": {},
   "outputs": [
    {
     "name": "stdout",
     "output_type": "stream",
     "text": [
      "LDA train 정확도 : 0.560\n",
      "LDA test  정확도 : 0.553\n"
     ]
    }
   ],
   "source": [
    "print(\"LDA train 정확도 : {0:.3f}\".format(accuracy_score(y_train, lda_train_pred)))\n",
    "print(\"LDA test  정확도 : {0:.3f}\".format(accuracy_score(y_test, lda_test_pred)))"
   ]
  },
  {
   "cell_type": "code",
   "execution_count": 45,
   "id": "1c9f2459",
   "metadata": {
    "scrolled": true
   },
   "outputs": [
    {
     "name": "stdout",
     "output_type": "stream",
     "text": [
      "LDA 전체 train\n",
      " [[2922 3123]\n",
      " [2226 3874]]\n",
      "\n",
      "LDA 전체 test\n",
      " [[1019 1033]\n",
      " [ 775 1222]]\n"
     ]
    }
   ],
   "source": [
    "print(\"LDA 전체 train\\n\", confusion_matrix(y_train, lda_train_pred))\n",
    "print()\n",
    "print(\"LDA 전체 test\\n\", confusion_matrix(y_test, lda_test_pred))"
   ]
  },
  {
   "cell_type": "markdown",
   "id": "90e01295",
   "metadata": {},
   "source": [
    "### SVM\n",
    "- 어느 한쪽에 치우쳐지지 않고 양쪽에 균등할 경우 사용\n",
    "- 과적합 적음"
   ]
  },
  {
   "cell_type": "code",
   "execution_count": 46,
   "id": "8b70017d",
   "metadata": {},
   "outputs": [],
   "source": [
    "from sklearn import svm\n",
    "from sklearn.svm import SVC\n",
    "\n",
    "svm = SVC()\n",
    "svm.fit(x_train_scaled, y_train)\n",
    "svm_train_pred = svm.predict(x_train_scaled)\n",
    "svm_test_pred = svm.predict(x_test_scaled)"
   ]
  },
  {
   "cell_type": "code",
   "execution_count": 47,
   "id": "feb679db",
   "metadata": {},
   "outputs": [
    {
     "name": "stdout",
     "output_type": "stream",
     "text": [
      "svm train 정확도 : 0.663\n",
      "svm test  정확도 : 0.649\n"
     ]
    }
   ],
   "source": [
    "from sklearn.metrics import accuracy_score\n",
    "print(\"svm train 정확도 : {0:.3f}\".format(accuracy_score(y_train, svm_train_pred)))\n",
    "print(\"svm test  정확도 : {0:.3f}\".format(accuracy_score(y_test, svm_test_pred)))"
   ]
  },
  {
   "cell_type": "code",
   "execution_count": 48,
   "id": "852e6066",
   "metadata": {},
   "outputs": [
    {
     "name": "stdout",
     "output_type": "stream",
     "text": [
      "SVM train\n",
      " [[3792 2253]\n",
      " [1843 4257]]\n",
      "\n",
      "SVM test\n",
      " [[1298  754]\n",
      " [ 666 1331]]\n"
     ]
    }
   ],
   "source": [
    "from sklearn.metrics import confusion_matrix\n",
    "\n",
    "print(\"SVM train\\n\", confusion_matrix(y_train, svm_train_pred))\n",
    "print()\n",
    "print(\"SVM test\\n\", confusion_matrix(y_test, svm_test_pred))"
   ]
  },
  {
   "cell_type": "code",
   "execution_count": null,
   "id": "8ed40c3f",
   "metadata": {},
   "outputs": [],
   "source": []
  },
  {
   "cell_type": "code",
   "execution_count": null,
   "id": "07325072",
   "metadata": {},
   "outputs": [],
   "source": []
  },
  {
   "cell_type": "code",
   "execution_count": null,
   "id": "82739142",
   "metadata": {},
   "outputs": [],
   "source": []
  },
  {
   "cell_type": "code",
   "execution_count": null,
   "id": "d5ac0e14",
   "metadata": {},
   "outputs": [],
   "source": []
  }
 ],
 "metadata": {
  "hide_input": false,
  "kernelspec": {
   "display_name": "Python 3 (ipykernel)",
   "language": "python",
   "name": "python3"
  },
  "language_info": {
   "codemirror_mode": {
    "name": "ipython",
    "version": 3
   },
   "file_extension": ".py",
   "mimetype": "text/x-python",
   "name": "python",
   "nbconvert_exporter": "python",
   "pygments_lexer": "ipython3",
   "version": "3.9.7"
  },
  "toc": {
   "base_numbering": 1,
   "nav_menu": {},
   "number_sections": true,
   "sideBar": true,
   "skip_h1_title": false,
   "title_cell": "Table of Contents",
   "title_sidebar": "Contents",
   "toc_cell": false,
   "toc_position": {
    "height": "calc(100% - 180px)",
    "left": "10px",
    "top": "150px",
    "width": "230.119px"
   },
   "toc_section_display": true,
   "toc_window_display": false
  },
  "varInspector": {
   "cols": {
    "lenName": 16,
    "lenType": 16,
    "lenVar": 40
   },
   "kernels_config": {
    "python": {
     "delete_cmd_postfix": "",
     "delete_cmd_prefix": "del ",
     "library": "var_list.py",
     "varRefreshCmd": "print(var_dic_list())"
    },
    "r": {
     "delete_cmd_postfix": ") ",
     "delete_cmd_prefix": "rm(",
     "library": "var_list.r",
     "varRefreshCmd": "cat(var_dic_list()) "
    }
   },
   "position": {
    "height": "475.819px",
    "left": "156.825px",
    "right": "20px",
    "top": "275px",
    "width": "799.987px"
   },
   "types_to_exclude": [
    "module",
    "function",
    "builtin_function_or_method",
    "instance",
    "_Feature"
   ],
   "window_display": false
  }
 },
 "nbformat": 4,
 "nbformat_minor": 5
}
