{
 "cells": [
  {
   "cell_type": "markdown",
   "id": "b9c34f89",
   "metadata": {},
   "source": [
    "# 데이터 불러오기"
   ]
  },
  {
   "cell_type": "code",
   "execution_count": 1,
   "id": "4bde2e0c",
   "metadata": {
    "ExecuteTime": {
     "end_time": "2021-11-21T19:03:54.729338Z",
     "start_time": "2021-11-21T19:03:53.799446Z"
    }
   },
   "outputs": [
    {
     "data": {
      "text/html": [
       "<div>\n",
       "<style scoped>\n",
       "    .dataframe tbody tr th:only-of-type {\n",
       "        vertical-align: middle;\n",
       "    }\n",
       "\n",
       "    .dataframe tbody tr th {\n",
       "        vertical-align: top;\n",
       "    }\n",
       "\n",
       "    .dataframe thead th {\n",
       "        text-align: right;\n",
       "    }\n",
       "</style>\n",
       "<table border=\"1\" class=\"dataframe\">\n",
       "  <thead>\n",
       "    <tr style=\"text-align: right;\">\n",
       "      <th></th>\n",
       "      <th>video_id</th>\n",
       "      <th>video_title</th>\n",
       "      <th>channel_id</th>\n",
       "      <th>channel_title</th>\n",
       "      <th>category</th>\n",
       "      <th>trending_date</th>\n",
       "      <th>trending_week</th>\n",
       "      <th>publishedAt_date</th>\n",
       "      <th>publishedAt_time</th>\n",
       "      <th>publishedAt_week</th>\n",
       "      <th>...</th>\n",
       "      <th>tags_split</th>\n",
       "      <th>tags_len</th>\n",
       "      <th>view_count</th>\n",
       "      <th>play_time</th>\n",
       "      <th>likes</th>\n",
       "      <th>dislikes</th>\n",
       "      <th>comment_count</th>\n",
       "      <th>comments_disabled</th>\n",
       "      <th>ratings_disabled</th>\n",
       "      <th>description</th>\n",
       "    </tr>\n",
       "  </thead>\n",
       "  <tbody>\n",
       "    <tr>\n",
       "      <th>0</th>\n",
       "      <td>uq5LClQN3cE</td>\n",
       "      <td>안녕하세요 보겸입니다</td>\n",
       "      <td>UCu9BCtGIEr73LXZsKmoujKw</td>\n",
       "      <td>보겸 BK</td>\n",
       "      <td>24</td>\n",
       "      <td>2020-08-09 00:00:00</td>\n",
       "      <td>Sunday</td>\n",
       "      <td>2020-08-09 00:00:00</td>\n",
       "      <td>1900-01-01 09:32:48</td>\n",
       "      <td>Sunday</td>\n",
       "      <td>...</td>\n",
       "      <td>['보겸', 'bokyem']</td>\n",
       "      <td>2</td>\n",
       "      <td>5947503</td>\n",
       "      <td>61</td>\n",
       "      <td>53326</td>\n",
       "      <td>105756</td>\n",
       "      <td>139946</td>\n",
       "      <td>0</td>\n",
       "      <td>0</td>\n",
       "      <td>0</td>\n",
       "    </tr>\n",
       "    <tr>\n",
       "      <th>1</th>\n",
       "      <td>I-ZbZCHsHD0</td>\n",
       "      <td>부락토스의 계획 [총몇명 프리퀄]</td>\n",
       "      <td>UCRuSxVu4iqTK5kCh90ntAgA</td>\n",
       "      <td>총몇명</td>\n",
       "      <td>1</td>\n",
       "      <td>2020-08-12 00:00:00</td>\n",
       "      <td>Wednesday</td>\n",
       "      <td>2020-08-12 00:00:00</td>\n",
       "      <td>1900-01-01 09:00:08</td>\n",
       "      <td>Wednesday</td>\n",
       "      <td>...</td>\n",
       "      <td>['총몇명', '재밌는 만화', '부락토스', '루시퍼', '총몇명 프리퀄', '총...</td>\n",
       "      <td>6</td>\n",
       "      <td>963384</td>\n",
       "      <td>228</td>\n",
       "      <td>28244</td>\n",
       "      <td>494</td>\n",
       "      <td>3339</td>\n",
       "      <td>0</td>\n",
       "      <td>0</td>\n",
       "      <td>1</td>\n",
       "    </tr>\n",
       "    <tr>\n",
       "      <th>2</th>\n",
       "      <td>9d7jNUjBoss</td>\n",
       "      <td>평생 반성하면서 살겠습니다.</td>\n",
       "      <td>UCMVC92EOs9yDJG5JS-CMesQ</td>\n",
       "      <td>양팡 YangPang</td>\n",
       "      <td>22</td>\n",
       "      <td>2020-08-10 00:00:00</td>\n",
       "      <td>Monday</td>\n",
       "      <td>2020-08-10 00:00:00</td>\n",
       "      <td>1900-01-01 09:54:13</td>\n",
       "      <td>Monday</td>\n",
       "      <td>...</td>\n",
       "      <td>['양팡', '양팡유튜브', '팡튜브', '가족시트콤', '양팡가족', '양팡가족시...</td>\n",
       "      <td>27</td>\n",
       "      <td>2950885</td>\n",
       "      <td>0</td>\n",
       "      <td>17974</td>\n",
       "      <td>68898</td>\n",
       "      <td>50688</td>\n",
       "      <td>0</td>\n",
       "      <td>0</td>\n",
       "      <td>0</td>\n",
       "    </tr>\n",
       "    <tr>\n",
       "      <th>3</th>\n",
       "      <td>3pI_L3-sMVg</td>\n",
       "      <td>안녕하세요 꽈뚜룹입니다.</td>\n",
       "      <td>UCkQCwnkQfgSuPTTnw_Y7v7w</td>\n",
       "      <td>꽈뚜룹 Quaddurup</td>\n",
       "      <td>24</td>\n",
       "      <td>2020-08-11 00:00:00</td>\n",
       "      <td>Tuesday</td>\n",
       "      <td>2020-08-11 00:00:00</td>\n",
       "      <td>1900-01-01 15:00:58</td>\n",
       "      <td>Tuesday</td>\n",
       "      <td>...</td>\n",
       "      <td>['꽈뚜룹', '한국여행기', 'quaddurup', '뚜룹이', 'korea', ...</td>\n",
       "      <td>12</td>\n",
       "      <td>1743374</td>\n",
       "      <td>81</td>\n",
       "      <td>36893</td>\n",
       "      <td>1798</td>\n",
       "      <td>8751</td>\n",
       "      <td>0</td>\n",
       "      <td>0</td>\n",
       "      <td>1</td>\n",
       "    </tr>\n",
       "    <tr>\n",
       "      <th>4</th>\n",
       "      <td>zrsBjYukE8s</td>\n",
       "      <td>박진영 (J.Y. Park) When We Disco (Duet with 선미) M/V</td>\n",
       "      <td>UCaO6TYtlC8U5ttz62hTrZgg</td>\n",
       "      <td>JYP Entertainment</td>\n",
       "      <td>10</td>\n",
       "      <td>2020-08-11 00:00:00</td>\n",
       "      <td>Tuesday</td>\n",
       "      <td>2020-08-11 00:00:00</td>\n",
       "      <td>1900-01-01 09:00:13</td>\n",
       "      <td>Tuesday</td>\n",
       "      <td>...</td>\n",
       "      <td>['JYP Entertainment', 'JYP', 'J.Y.Park', 'JYPa...</td>\n",
       "      <td>13</td>\n",
       "      <td>3433885</td>\n",
       "      <td>257</td>\n",
       "      <td>353337</td>\n",
       "      <td>9763</td>\n",
       "      <td>23405</td>\n",
       "      <td>0</td>\n",
       "      <td>0</td>\n",
       "      <td>1</td>\n",
       "    </tr>\n",
       "  </tbody>\n",
       "</table>\n",
       "<p>5 rows × 21 columns</p>\n",
       "</div>"
      ],
      "text/plain": [
       "      video_id                                       video_title  \\\n",
       "0  uq5LClQN3cE                                       안녕하세요 보겸입니다   \n",
       "1  I-ZbZCHsHD0                                부락토스의 계획 [총몇명 프리퀄]   \n",
       "2  9d7jNUjBoss                                   평생 반성하면서 살겠습니다.   \n",
       "3  3pI_L3-sMVg                              안녕하세요 꽈뚜룹입니다.   \n",
       "4  zrsBjYukE8s  박진영 (J.Y. Park) When We Disco (Duet with 선미) M/V   \n",
       "\n",
       "                 channel_id      channel_title  category        trending_date  \\\n",
       "0  UCu9BCtGIEr73LXZsKmoujKw              보겸 BK        24  2020-08-09 00:00:00   \n",
       "1  UCRuSxVu4iqTK5kCh90ntAgA                총몇명         1  2020-08-12 00:00:00   \n",
       "2  UCMVC92EOs9yDJG5JS-CMesQ        양팡 YangPang        22  2020-08-10 00:00:00   \n",
       "3  UCkQCwnkQfgSuPTTnw_Y7v7w      꽈뚜룹 Quaddurup        24  2020-08-11 00:00:00   \n",
       "4  UCaO6TYtlC8U5ttz62hTrZgg  JYP Entertainment        10  2020-08-11 00:00:00   \n",
       "\n",
       "  trending_week     publishedAt_date     publishedAt_time publishedAt_week  \\\n",
       "0        Sunday  2020-08-09 00:00:00  1900-01-01 09:32:48           Sunday   \n",
       "1     Wednesday  2020-08-12 00:00:00  1900-01-01 09:00:08        Wednesday   \n",
       "2        Monday  2020-08-10 00:00:00  1900-01-01 09:54:13           Monday   \n",
       "3       Tuesday  2020-08-11 00:00:00  1900-01-01 15:00:58          Tuesday   \n",
       "4       Tuesday  2020-08-11 00:00:00  1900-01-01 09:00:13          Tuesday   \n",
       "\n",
       "   ...                                         tags_split tags_len  \\\n",
       "0  ...                                   ['보겸', 'bokyem']        2   \n",
       "1  ...  ['총몇명', '재밌는 만화', '부락토스', '루시퍼', '총몇명 프리퀄', '총...        6   \n",
       "2  ...  ['양팡', '양팡유튜브', '팡튜브', '가족시트콤', '양팡가족', '양팡가족시...       27   \n",
       "3  ...  ['꽈뚜룹', '한국여행기', 'quaddurup', '뚜룹이', 'korea', ...       12   \n",
       "4  ...  ['JYP Entertainment', 'JYP', 'J.Y.Park', 'JYPa...       13   \n",
       "\n",
       "   view_count  play_time   likes  dislikes  comment_count  comments_disabled  \\\n",
       "0     5947503         61   53326    105756         139946                  0   \n",
       "1      963384        228   28244       494           3339                  0   \n",
       "2     2950885          0   17974     68898          50688                  0   \n",
       "3     1743374         81   36893      1798           8751                  0   \n",
       "4     3433885        257  353337      9763          23405                  0   \n",
       "\n",
       "   ratings_disabled  description  \n",
       "0                 0            0  \n",
       "1                 0            1  \n",
       "2                 0            0  \n",
       "3                 0            1  \n",
       "4                 0            1  \n",
       "\n",
       "[5 rows x 21 columns]"
      ]
     },
     "execution_count": 1,
     "metadata": {},
     "output_type": "execute_result"
    }
   ],
   "source": [
    "import pandas as pd\n",
    "import numpy as np\n",
    "df = pd.read_csv('youtube_kr.csv', index_col=0)\n",
    "df.head(5)"
   ]
  },
  {
   "cell_type": "code",
   "execution_count": 2,
   "id": "93242c03",
   "metadata": {
    "ExecuteTime": {
     "end_time": "2021-11-21T19:03:56.294244Z",
     "start_time": "2021-11-21T19:03:56.258306Z"
    }
   },
   "outputs": [
    {
     "name": "stdout",
     "output_type": "stream",
     "text": [
      "<class 'pandas.core.frame.DataFrame'>\n",
      "Int64Index: 10923 entries, 0 to 79375\n",
      "Data columns (total 21 columns):\n",
      " #   Column             Non-Null Count  Dtype \n",
      "---  ------             --------------  ----- \n",
      " 0   video_id           10923 non-null  object\n",
      " 1   video_title        10923 non-null  object\n",
      " 2   channel_id         10923 non-null  object\n",
      " 3   channel_title      10923 non-null  object\n",
      " 4   category           10923 non-null  int64 \n",
      " 5   trending_date      10923 non-null  object\n",
      " 6   trending_week      10923 non-null  object\n",
      " 7   publishedAt_date   10923 non-null  object\n",
      " 8   publishedAt_time   10923 non-null  object\n",
      " 9   publishedAt_week   10923 non-null  object\n",
      " 10  duration           10923 non-null  int64 \n",
      " 11  tags_split         10923 non-null  object\n",
      " 12  tags_len           10923 non-null  int64 \n",
      " 13  view_count         10923 non-null  int64 \n",
      " 14  play_time          10923 non-null  int64 \n",
      " 15  likes              10923 non-null  int64 \n",
      " 16  dislikes           10923 non-null  int64 \n",
      " 17  comment_count      10923 non-null  int64 \n",
      " 18  comments_disabled  10923 non-null  int64 \n",
      " 19  ratings_disabled   10923 non-null  int64 \n",
      " 20  description        10923 non-null  int64 \n",
      "dtypes: int64(11), object(10)\n",
      "memory usage: 1.8+ MB\n"
     ]
    }
   ],
   "source": [
    "df=df.drop_duplicates(['video_id'], keep = 'first')\n",
    "df.info()"
   ]
  },
  {
   "cell_type": "code",
   "execution_count": 3,
   "id": "e7d2b39b",
   "metadata": {
    "ExecuteTime": {
     "end_time": "2021-11-21T19:04:06.568074Z",
     "start_time": "2021-11-21T19:03:56.405512Z"
    }
   },
   "outputs": [
    {
     "name": "stderr",
     "output_type": "stream",
     "text": [
      "C:\\Users\\yhg31\\Anaconda3\\lib\\site-packages\\pandas\\core\\indexing.py:1637: SettingWithCopyWarning: \n",
      "A value is trying to be set on a copy of a slice from a DataFrame\n",
      "\n",
      "See the caveats in the documentation: https://pandas.pydata.org/pandas-docs/stable/user_guide/indexing.html#returning-a-view-versus-a-copy\n",
      "  self._setitem_single_block(indexer, value, name)\n"
     ]
    }
   ],
   "source": [
    "df[\"video_len\"]=0\n",
    "df[\"channel_len\"]=0\n",
    "\n",
    "for i in range(len(df)):    \n",
    "    df[\"video_len\"].iloc[i]=len(df[\"video_title\"].iloc[i])\n",
    "    df[\"channel_len\"].iloc[i]=len(df[\"channel_title\"].iloc[i])"
   ]
  },
  {
   "cell_type": "code",
   "execution_count": 4,
   "id": "703b926a",
   "metadata": {
    "ExecuteTime": {
     "end_time": "2021-11-21T19:04:06.739057Z",
     "start_time": "2021-11-21T19:04:06.647678Z"
    },
    "scrolled": true
   },
   "outputs": [
    {
     "name": "stderr",
     "output_type": "stream",
     "text": [
      "<ipython-input-4-aa5fb0efe563>:3: SettingWithCopyWarning: \n",
      "A value is trying to be set on a copy of a slice from a DataFrame.\n",
      "Try using .loc[row_indexer,col_indexer] = value instead\n",
      "\n",
      "See the caveats in the documentation: https://pandas.pydata.org/pandas-docs/stable/user_guide/indexing.html#returning-a-view-versus-a-copy\n",
      "  df1[\"pred\"]=1\n",
      "<ipython-input-4-aa5fb0efe563>:4: SettingWithCopyWarning: \n",
      "A value is trying to be set on a copy of a slice from a DataFrame.\n",
      "Try using .loc[row_indexer,col_indexer] = value instead\n",
      "\n",
      "See the caveats in the documentation: https://pandas.pydata.org/pandas-docs/stable/user_guide/indexing.html#returning-a-view-versus-a-copy\n",
      "  df2[\"pred\"]=0\n"
     ]
    },
    {
     "data": {
      "text/html": [
       "<div>\n",
       "<style scoped>\n",
       "    .dataframe tbody tr th:only-of-type {\n",
       "        vertical-align: middle;\n",
       "    }\n",
       "\n",
       "    .dataframe tbody tr th {\n",
       "        vertical-align: top;\n",
       "    }\n",
       "\n",
       "    .dataframe thead th {\n",
       "        text-align: right;\n",
       "    }\n",
       "</style>\n",
       "<table border=\"1\" class=\"dataframe\">\n",
       "  <thead>\n",
       "    <tr style=\"text-align: right;\">\n",
       "      <th></th>\n",
       "      <th>video_id</th>\n",
       "      <th>video_title</th>\n",
       "      <th>channel_id</th>\n",
       "      <th>channel_title</th>\n",
       "      <th>category</th>\n",
       "      <th>trending_date</th>\n",
       "      <th>trending_week</th>\n",
       "      <th>publishedAt_date</th>\n",
       "      <th>publishedAt_time</th>\n",
       "      <th>publishedAt_week</th>\n",
       "      <th>...</th>\n",
       "      <th>play_time</th>\n",
       "      <th>likes</th>\n",
       "      <th>dislikes</th>\n",
       "      <th>comment_count</th>\n",
       "      <th>comments_disabled</th>\n",
       "      <th>ratings_disabled</th>\n",
       "      <th>description</th>\n",
       "      <th>video_len</th>\n",
       "      <th>channel_len</th>\n",
       "      <th>pred</th>\n",
       "    </tr>\n",
       "  </thead>\n",
       "  <tbody>\n",
       "    <tr>\n",
       "      <th>0</th>\n",
       "      <td>uq5LClQN3cE</td>\n",
       "      <td>안녕하세요 보겸입니다</td>\n",
       "      <td>UCu9BCtGIEr73LXZsKmoujKw</td>\n",
       "      <td>보겸 BK</td>\n",
       "      <td>24</td>\n",
       "      <td>2020-08-09 00:00:00</td>\n",
       "      <td>Sunday</td>\n",
       "      <td>2020-08-09 00:00:00</td>\n",
       "      <td>1900-01-01 09:32:48</td>\n",
       "      <td>Sunday</td>\n",
       "      <td>...</td>\n",
       "      <td>61</td>\n",
       "      <td>53326</td>\n",
       "      <td>105756</td>\n",
       "      <td>139946</td>\n",
       "      <td>0</td>\n",
       "      <td>0</td>\n",
       "      <td>0</td>\n",
       "      <td>11</td>\n",
       "      <td>5</td>\n",
       "      <td>1</td>\n",
       "    </tr>\n",
       "    <tr>\n",
       "      <th>1</th>\n",
       "      <td>9d7jNUjBoss</td>\n",
       "      <td>평생 반성하면서 살겠습니다.</td>\n",
       "      <td>UCMVC92EOs9yDJG5JS-CMesQ</td>\n",
       "      <td>양팡 YangPang</td>\n",
       "      <td>22</td>\n",
       "      <td>2020-08-10 00:00:00</td>\n",
       "      <td>Monday</td>\n",
       "      <td>2020-08-10 00:00:00</td>\n",
       "      <td>1900-01-01 09:54:13</td>\n",
       "      <td>Monday</td>\n",
       "      <td>...</td>\n",
       "      <td>0</td>\n",
       "      <td>17974</td>\n",
       "      <td>68898</td>\n",
       "      <td>50688</td>\n",
       "      <td>0</td>\n",
       "      <td>0</td>\n",
       "      <td>0</td>\n",
       "      <td>15</td>\n",
       "      <td>11</td>\n",
       "      <td>1</td>\n",
       "    </tr>\n",
       "    <tr>\n",
       "      <th>2</th>\n",
       "      <td>3pI_L3-sMVg</td>\n",
       "      <td>안녕하세요 꽈뚜룹입니다.</td>\n",
       "      <td>UCkQCwnkQfgSuPTTnw_Y7v7w</td>\n",
       "      <td>꽈뚜룹 Quaddurup</td>\n",
       "      <td>24</td>\n",
       "      <td>2020-08-11 00:00:00</td>\n",
       "      <td>Tuesday</td>\n",
       "      <td>2020-08-11 00:00:00</td>\n",
       "      <td>1900-01-01 15:00:58</td>\n",
       "      <td>Tuesday</td>\n",
       "      <td>...</td>\n",
       "      <td>81</td>\n",
       "      <td>36893</td>\n",
       "      <td>1798</td>\n",
       "      <td>8751</td>\n",
       "      <td>0</td>\n",
       "      <td>0</td>\n",
       "      <td>1</td>\n",
       "      <td>20</td>\n",
       "      <td>13</td>\n",
       "      <td>1</td>\n",
       "    </tr>\n",
       "    <tr>\n",
       "      <th>3</th>\n",
       "      <td>zrsBjYukE8s</td>\n",
       "      <td>박진영 (J.Y. Park) When We Disco (Duet with 선미) M/V</td>\n",
       "      <td>UCaO6TYtlC8U5ttz62hTrZgg</td>\n",
       "      <td>JYP Entertainment</td>\n",
       "      <td>10</td>\n",
       "      <td>2020-08-11 00:00:00</td>\n",
       "      <td>Tuesday</td>\n",
       "      <td>2020-08-11 00:00:00</td>\n",
       "      <td>1900-01-01 09:00:13</td>\n",
       "      <td>Tuesday</td>\n",
       "      <td>...</td>\n",
       "      <td>257</td>\n",
       "      <td>353337</td>\n",
       "      <td>9763</td>\n",
       "      <td>23405</td>\n",
       "      <td>0</td>\n",
       "      <td>0</td>\n",
       "      <td>1</td>\n",
       "      <td>48</td>\n",
       "      <td>17</td>\n",
       "      <td>1</td>\n",
       "    </tr>\n",
       "    <tr>\n",
       "      <th>4</th>\n",
       "      <td>jbGRowa5tIk</td>\n",
       "      <td>ITZY “Not Shy” M/V TEASER</td>\n",
       "      <td>UCaO6TYtlC8U5ttz62hTrZgg</td>\n",
       "      <td>JYP Entertainment</td>\n",
       "      <td>10</td>\n",
       "      <td>2020-08-11 00:00:00</td>\n",
       "      <td>Tuesday</td>\n",
       "      <td>2020-08-11 00:00:00</td>\n",
       "      <td>1900-01-01 15:00:13</td>\n",
       "      <td>Tuesday</td>\n",
       "      <td>...</td>\n",
       "      <td>20</td>\n",
       "      <td>714301</td>\n",
       "      <td>15176</td>\n",
       "      <td>31040</td>\n",
       "      <td>0</td>\n",
       "      <td>0</td>\n",
       "      <td>1</td>\n",
       "      <td>25</td>\n",
       "      <td>17</td>\n",
       "      <td>1</td>\n",
       "    </tr>\n",
       "    <tr>\n",
       "      <th>...</th>\n",
       "      <td>...</td>\n",
       "      <td>...</td>\n",
       "      <td>...</td>\n",
       "      <td>...</td>\n",
       "      <td>...</td>\n",
       "      <td>...</td>\n",
       "      <td>...</td>\n",
       "      <td>...</td>\n",
       "      <td>...</td>\n",
       "      <td>...</td>\n",
       "      <td>...</td>\n",
       "      <td>...</td>\n",
       "      <td>...</td>\n",
       "      <td>...</td>\n",
       "      <td>...</td>\n",
       "      <td>...</td>\n",
       "      <td>...</td>\n",
       "      <td>...</td>\n",
       "      <td>...</td>\n",
       "      <td>...</td>\n",
       "      <td>...</td>\n",
       "    </tr>\n",
       "    <tr>\n",
       "      <th>10918</th>\n",
       "      <td>esQPl9_rA6U</td>\n",
       "      <td>전국민의 99%가 홍합으로 알고 먹는 이것의 정체</td>\n",
       "      <td>UCY2uWQDCzn_ZE-JpTfDRR2A</td>\n",
       "      <td>입질의추억TV jiminTV</td>\n",
       "      <td>24</td>\n",
       "      <td>2021-09-21 00:00:00</td>\n",
       "      <td>Tuesday</td>\n",
       "      <td>2021-09-21 00:00:00</td>\n",
       "      <td>1900-01-01 10:01:25</td>\n",
       "      <td>Tuesday</td>\n",
       "      <td>...</td>\n",
       "      <td>803</td>\n",
       "      <td>4509</td>\n",
       "      <td>135</td>\n",
       "      <td>407</td>\n",
       "      <td>0</td>\n",
       "      <td>0</td>\n",
       "      <td>1</td>\n",
       "      <td>27</td>\n",
       "      <td>15</td>\n",
       "      <td>0</td>\n",
       "    </tr>\n",
       "    <tr>\n",
       "      <th>10919</th>\n",
       "      <td>WL4ipAjcspE</td>\n",
       "      <td>[웰메이드 X 임영웅] 21FW 시즌 화보 촬영 비하인드 영상 공개</td>\n",
       "      <td>UCgeeQuH16jS4UEOIxc-kwoQ</td>\n",
       "      <td>웰메이드</td>\n",
       "      <td>24</td>\n",
       "      <td>2021-09-21 00:00:00</td>\n",
       "      <td>Tuesday</td>\n",
       "      <td>2021-09-21 00:00:00</td>\n",
       "      <td>1900-01-01 02:00:05</td>\n",
       "      <td>Tuesday</td>\n",
       "      <td>...</td>\n",
       "      <td>410</td>\n",
       "      <td>17438</td>\n",
       "      <td>57</td>\n",
       "      <td>1136</td>\n",
       "      <td>0</td>\n",
       "      <td>0</td>\n",
       "      <td>1</td>\n",
       "      <td>37</td>\n",
       "      <td>4</td>\n",
       "      <td>0</td>\n",
       "    </tr>\n",
       "    <tr>\n",
       "      <th>10920</th>\n",
       "      <td>yqLla5LbpH8</td>\n",
       "      <td>사랑인가? 증오인가? 애정과 비명이 난무하는 아리랑은고양이 채널 통역!</td>\n",
       "      <td>UC69l_rtlCQ7M4Mz2RCS80BA</td>\n",
       "      <td>미야옹철의 냥냥펀치</td>\n",
       "      <td>15</td>\n",
       "      <td>2021-09-21 00:00:00</td>\n",
       "      <td>Tuesday</td>\n",
       "      <td>2021-09-21 00:00:00</td>\n",
       "      <td>1900-01-01 10:00:33</td>\n",
       "      <td>Tuesday</td>\n",
       "      <td>...</td>\n",
       "      <td>744</td>\n",
       "      <td>4399</td>\n",
       "      <td>34</td>\n",
       "      <td>280</td>\n",
       "      <td>0</td>\n",
       "      <td>0</td>\n",
       "      <td>1</td>\n",
       "      <td>39</td>\n",
       "      <td>10</td>\n",
       "      <td>0</td>\n",
       "    </tr>\n",
       "    <tr>\n",
       "      <th>10921</th>\n",
       "      <td>n028FLMfsSY</td>\n",
       "      <td>송편 안에 100만원이 들어가 있는 100만원짜리 대왕 송편 선물하기</td>\n",
       "      <td>UC1dK7oMUSR9Rnk1BSpOKZng</td>\n",
       "      <td>정선호</td>\n",
       "      <td>22</td>\n",
       "      <td>2021-09-21 00:00:00</td>\n",
       "      <td>Tuesday</td>\n",
       "      <td>2021-09-21 00:00:00</td>\n",
       "      <td>1900-01-01 05:26:41</td>\n",
       "      <td>Tuesday</td>\n",
       "      <td>...</td>\n",
       "      <td>917</td>\n",
       "      <td>6545</td>\n",
       "      <td>168</td>\n",
       "      <td>561</td>\n",
       "      <td>0</td>\n",
       "      <td>0</td>\n",
       "      <td>1</td>\n",
       "      <td>38</td>\n",
       "      <td>3</td>\n",
       "      <td>0</td>\n",
       "    </tr>\n",
       "    <tr>\n",
       "      <th>10922</th>\n",
       "      <td>2NEVBW3eQm8</td>\n",
       "      <td>37.5MHz 해찬 라디오 HAECHAN Radio | Ep.7 떠나자 Chuseo...</td>\n",
       "      <td>UCwgtORdDtUKhpjE1VBv6XfA</td>\n",
       "      <td>NCT</td>\n",
       "      <td>10</td>\n",
       "      <td>2021-09-21 00:00:00</td>\n",
       "      <td>Tuesday</td>\n",
       "      <td>2021-09-21 00:00:00</td>\n",
       "      <td>1900-01-01 12:00:15</td>\n",
       "      <td>Tuesday</td>\n",
       "      <td>...</td>\n",
       "      <td>2626</td>\n",
       "      <td>80765</td>\n",
       "      <td>118</td>\n",
       "      <td>2348</td>\n",
       "      <td>0</td>\n",
       "      <td>0</td>\n",
       "      <td>1</td>\n",
       "      <td>83</td>\n",
       "      <td>3</td>\n",
       "      <td>0</td>\n",
       "    </tr>\n",
       "  </tbody>\n",
       "</table>\n",
       "<p>10923 rows × 24 columns</p>\n",
       "</div>"
      ],
      "text/plain": [
       "          video_id                                        video_title  \\\n",
       "0      uq5LClQN3cE                                        안녕하세요 보겸입니다   \n",
       "1      9d7jNUjBoss                                    평생 반성하면서 살겠습니다.   \n",
       "2      3pI_L3-sMVg                               안녕하세요 꽈뚜룹입니다.   \n",
       "3      zrsBjYukE8s   박진영 (J.Y. Park) When We Disco (Duet with 선미) M/V   \n",
       "4      jbGRowa5tIk                          ITZY “Not Shy” M/V TEASER   \n",
       "...            ...                                                ...   \n",
       "10918  esQPl9_rA6U                        전국민의 99%가 홍합으로 알고 먹는 이것의 정체   \n",
       "10919  WL4ipAjcspE              [웰메이드 X 임영웅] 21FW 시즌 화보 촬영 비하인드 영상 공개   \n",
       "10920  yqLla5LbpH8            사랑인가? 증오인가? 애정과 비명이 난무하는 아리랑은고양이 채널 통역!   \n",
       "10921  n028FLMfsSY             송편 안에 100만원이 들어가 있는 100만원짜리 대왕 송편 선물하기   \n",
       "10922  2NEVBW3eQm8  37.5MHz 해찬 라디오 HAECHAN Radio | Ep.7 떠나자 Chuseo...   \n",
       "\n",
       "                     channel_id      channel_title  category  \\\n",
       "0      UCu9BCtGIEr73LXZsKmoujKw              보겸 BK        24   \n",
       "1      UCMVC92EOs9yDJG5JS-CMesQ        양팡 YangPang        22   \n",
       "2      UCkQCwnkQfgSuPTTnw_Y7v7w      꽈뚜룹 Quaddurup        24   \n",
       "3      UCaO6TYtlC8U5ttz62hTrZgg  JYP Entertainment        10   \n",
       "4      UCaO6TYtlC8U5ttz62hTrZgg  JYP Entertainment        10   \n",
       "...                         ...                ...       ...   \n",
       "10918  UCY2uWQDCzn_ZE-JpTfDRR2A    입질의추억TV jiminTV        24   \n",
       "10919  UCgeeQuH16jS4UEOIxc-kwoQ               웰메이드        24   \n",
       "10920  UC69l_rtlCQ7M4Mz2RCS80BA         미야옹철의 냥냥펀치        15   \n",
       "10921  UC1dK7oMUSR9Rnk1BSpOKZng                정선호        22   \n",
       "10922  UCwgtORdDtUKhpjE1VBv6XfA                NCT        10   \n",
       "\n",
       "             trending_date trending_week     publishedAt_date  \\\n",
       "0      2020-08-09 00:00:00        Sunday  2020-08-09 00:00:00   \n",
       "1      2020-08-10 00:00:00        Monday  2020-08-10 00:00:00   \n",
       "2      2020-08-11 00:00:00       Tuesday  2020-08-11 00:00:00   \n",
       "3      2020-08-11 00:00:00       Tuesday  2020-08-11 00:00:00   \n",
       "4      2020-08-11 00:00:00       Tuesday  2020-08-11 00:00:00   \n",
       "...                    ...           ...                  ...   \n",
       "10918  2021-09-21 00:00:00       Tuesday  2021-09-21 00:00:00   \n",
       "10919  2021-09-21 00:00:00       Tuesday  2021-09-21 00:00:00   \n",
       "10920  2021-09-21 00:00:00       Tuesday  2021-09-21 00:00:00   \n",
       "10921  2021-09-21 00:00:00       Tuesday  2021-09-21 00:00:00   \n",
       "10922  2021-09-21 00:00:00       Tuesday  2021-09-21 00:00:00   \n",
       "\n",
       "          publishedAt_time publishedAt_week  ...  play_time   likes  dislikes  \\\n",
       "0      1900-01-01 09:32:48           Sunday  ...         61   53326    105756   \n",
       "1      1900-01-01 09:54:13           Monday  ...          0   17974     68898   \n",
       "2      1900-01-01 15:00:58          Tuesday  ...         81   36893      1798   \n",
       "3      1900-01-01 09:00:13          Tuesday  ...        257  353337      9763   \n",
       "4      1900-01-01 15:00:13          Tuesday  ...         20  714301     15176   \n",
       "...                    ...              ...  ...        ...     ...       ...   \n",
       "10918  1900-01-01 10:01:25          Tuesday  ...        803    4509       135   \n",
       "10919  1900-01-01 02:00:05          Tuesday  ...        410   17438        57   \n",
       "10920  1900-01-01 10:00:33          Tuesday  ...        744    4399        34   \n",
       "10921  1900-01-01 05:26:41          Tuesday  ...        917    6545       168   \n",
       "10922  1900-01-01 12:00:15          Tuesday  ...       2626   80765       118   \n",
       "\n",
       "       comment_count  comments_disabled  ratings_disabled  description  \\\n",
       "0             139946                  0                 0            0   \n",
       "1              50688                  0                 0            0   \n",
       "2               8751                  0                 0            1   \n",
       "3              23405                  0                 0            1   \n",
       "4              31040                  0                 0            1   \n",
       "...              ...                ...               ...          ...   \n",
       "10918            407                  0                 0            1   \n",
       "10919           1136                  0                 0            1   \n",
       "10920            280                  0                 0            1   \n",
       "10921            561                  0                 0            1   \n",
       "10922           2348                  0                 0            1   \n",
       "\n",
       "       video_len  channel_len  pred  \n",
       "0             11            5     1  \n",
       "1             15           11     1  \n",
       "2             20           13     1  \n",
       "3             48           17     1  \n",
       "4             25           17     1  \n",
       "...          ...          ...   ...  \n",
       "10918         27           15     0  \n",
       "10919         37            4     0  \n",
       "10920         39           10     0  \n",
       "10921         38            3     0  \n",
       "10922         83            3     0  \n",
       "\n",
       "[10923 rows x 24 columns]"
      ]
     },
     "execution_count": 4,
     "metadata": {},
     "output_type": "execute_result"
    }
   ],
   "source": [
    "df1=df[df[\"duration\"]>5]\n",
    "df2=df[df[\"duration\"]<=5]\n",
    "df1[\"pred\"]=1\n",
    "df2[\"pred\"]=0\n",
    "df=pd.concat([df1, df2])\n",
    "df.reset_index(inplace=True, drop=True)\n",
    "df"
   ]
  },
  {
   "cell_type": "code",
   "execution_count": 5,
   "id": "fae8a5d1",
   "metadata": {
    "ExecuteTime": {
     "end_time": "2021-11-21T19:04:06.834129Z",
     "start_time": "2021-11-21T19:04:06.820166Z"
    }
   },
   "outputs": [
    {
     "data": {
      "text/html": [
       "<div>\n",
       "<style scoped>\n",
       "    .dataframe tbody tr th:only-of-type {\n",
       "        vertical-align: middle;\n",
       "    }\n",
       "\n",
       "    .dataframe tbody tr th {\n",
       "        vertical-align: top;\n",
       "    }\n",
       "\n",
       "    .dataframe thead th {\n",
       "        text-align: right;\n",
       "    }\n",
       "</style>\n",
       "<table border=\"1\" class=\"dataframe\">\n",
       "  <thead>\n",
       "    <tr style=\"text-align: right;\">\n",
       "      <th></th>\n",
       "      <th>trending_date</th>\n",
       "      <th>trending_week</th>\n",
       "      <th>publishedAt_date</th>\n",
       "      <th>publishedAt_time</th>\n",
       "    </tr>\n",
       "  </thead>\n",
       "  <tbody>\n",
       "    <tr>\n",
       "      <th>0</th>\n",
       "      <td>2020-08-09 00:00:00</td>\n",
       "      <td>Sunday</td>\n",
       "      <td>2020-08-09 00:00:00</td>\n",
       "      <td>1900-01-01 09:32:48</td>\n",
       "    </tr>\n",
       "    <tr>\n",
       "      <th>1</th>\n",
       "      <td>2020-08-10 00:00:00</td>\n",
       "      <td>Monday</td>\n",
       "      <td>2020-08-10 00:00:00</td>\n",
       "      <td>1900-01-01 09:54:13</td>\n",
       "    </tr>\n",
       "    <tr>\n",
       "      <th>2</th>\n",
       "      <td>2020-08-11 00:00:00</td>\n",
       "      <td>Tuesday</td>\n",
       "      <td>2020-08-11 00:00:00</td>\n",
       "      <td>1900-01-01 15:00:58</td>\n",
       "    </tr>\n",
       "    <tr>\n",
       "      <th>3</th>\n",
       "      <td>2020-08-11 00:00:00</td>\n",
       "      <td>Tuesday</td>\n",
       "      <td>2020-08-11 00:00:00</td>\n",
       "      <td>1900-01-01 09:00:13</td>\n",
       "    </tr>\n",
       "    <tr>\n",
       "      <th>4</th>\n",
       "      <td>2020-08-11 00:00:00</td>\n",
       "      <td>Tuesday</td>\n",
       "      <td>2020-08-11 00:00:00</td>\n",
       "      <td>1900-01-01 15:00:13</td>\n",
       "    </tr>\n",
       "    <tr>\n",
       "      <th>...</th>\n",
       "      <td>...</td>\n",
       "      <td>...</td>\n",
       "      <td>...</td>\n",
       "      <td>...</td>\n",
       "    </tr>\n",
       "    <tr>\n",
       "      <th>10918</th>\n",
       "      <td>2021-09-21 00:00:00</td>\n",
       "      <td>Tuesday</td>\n",
       "      <td>2021-09-21 00:00:00</td>\n",
       "      <td>1900-01-01 10:01:25</td>\n",
       "    </tr>\n",
       "    <tr>\n",
       "      <th>10919</th>\n",
       "      <td>2021-09-21 00:00:00</td>\n",
       "      <td>Tuesday</td>\n",
       "      <td>2021-09-21 00:00:00</td>\n",
       "      <td>1900-01-01 02:00:05</td>\n",
       "    </tr>\n",
       "    <tr>\n",
       "      <th>10920</th>\n",
       "      <td>2021-09-21 00:00:00</td>\n",
       "      <td>Tuesday</td>\n",
       "      <td>2021-09-21 00:00:00</td>\n",
       "      <td>1900-01-01 10:00:33</td>\n",
       "    </tr>\n",
       "    <tr>\n",
       "      <th>10921</th>\n",
       "      <td>2021-09-21 00:00:00</td>\n",
       "      <td>Tuesday</td>\n",
       "      <td>2021-09-21 00:00:00</td>\n",
       "      <td>1900-01-01 05:26:41</td>\n",
       "    </tr>\n",
       "    <tr>\n",
       "      <th>10922</th>\n",
       "      <td>2021-09-21 00:00:00</td>\n",
       "      <td>Tuesday</td>\n",
       "      <td>2021-09-21 00:00:00</td>\n",
       "      <td>1900-01-01 12:00:15</td>\n",
       "    </tr>\n",
       "  </tbody>\n",
       "</table>\n",
       "<p>10923 rows × 4 columns</p>\n",
       "</div>"
      ],
      "text/plain": [
       "             trending_date trending_week     publishedAt_date  \\\n",
       "0      2020-08-09 00:00:00        Sunday  2020-08-09 00:00:00   \n",
       "1      2020-08-10 00:00:00        Monday  2020-08-10 00:00:00   \n",
       "2      2020-08-11 00:00:00       Tuesday  2020-08-11 00:00:00   \n",
       "3      2020-08-11 00:00:00       Tuesday  2020-08-11 00:00:00   \n",
       "4      2020-08-11 00:00:00       Tuesday  2020-08-11 00:00:00   \n",
       "...                    ...           ...                  ...   \n",
       "10918  2021-09-21 00:00:00       Tuesday  2021-09-21 00:00:00   \n",
       "10919  2021-09-21 00:00:00       Tuesday  2021-09-21 00:00:00   \n",
       "10920  2021-09-21 00:00:00       Tuesday  2021-09-21 00:00:00   \n",
       "10921  2021-09-21 00:00:00       Tuesday  2021-09-21 00:00:00   \n",
       "10922  2021-09-21 00:00:00       Tuesday  2021-09-21 00:00:00   \n",
       "\n",
       "          publishedAt_time  \n",
       "0      1900-01-01 09:32:48  \n",
       "1      1900-01-01 09:54:13  \n",
       "2      1900-01-01 15:00:58  \n",
       "3      1900-01-01 09:00:13  \n",
       "4      1900-01-01 15:00:13  \n",
       "...                    ...  \n",
       "10918  1900-01-01 10:01:25  \n",
       "10919  1900-01-01 02:00:05  \n",
       "10920  1900-01-01 10:00:33  \n",
       "10921  1900-01-01 05:26:41  \n",
       "10922  1900-01-01 12:00:15  \n",
       "\n",
       "[10923 rows x 4 columns]"
      ]
     },
     "execution_count": 5,
     "metadata": {},
     "output_type": "execute_result"
    }
   ],
   "source": [
    "df.iloc[:, 5:9]"
   ]
  },
  {
   "cell_type": "code",
   "execution_count": 6,
   "id": "d27a4b86",
   "metadata": {
    "ExecuteTime": {
     "end_time": "2021-11-21T19:04:06.974066Z",
     "start_time": "2021-11-21T19:04:06.913416Z"
    }
   },
   "outputs": [],
   "source": [
    "df[\"trending_week\"]=df[\"trending_week\"].replace(['Monday', 'Tuesday', 'Wednesday', 'Thursday', 'Friday', 'Saturday', 'Sunday'], [0, 1, 2, 3, 4, 5, 6])\n",
    "df[\"trending_date\"]=df[\"trending_date\"].str.split(' ').str[0]\n",
    "df[\"publishedAt_date\"]=df[\"publishedAt_date\"].str.split(' ').str[0]\n",
    "df[\"publishedAt_time\"]=df[\"publishedAt_time\"].str.split(' ').str[1]"
   ]
  },
  {
   "cell_type": "code",
   "execution_count": 7,
   "id": "6343528b",
   "metadata": {
    "ExecuteTime": {
     "end_time": "2021-11-21T19:04:07.052510Z",
     "start_time": "2021-11-21T19:04:07.038888Z"
    }
   },
   "outputs": [
    {
     "data": {
      "text/plain": [
       "4    1792\n",
       "3    1720\n",
       "2    1635\n",
       "1    1523\n",
       "0    1476\n",
       "5    1459\n",
       "6    1318\n",
       "Name: trending_week, dtype: int64"
      ]
     },
     "execution_count": 7,
     "metadata": {},
     "output_type": "execute_result"
    }
   ],
   "source": [
    "df[\"trending_week\"].value_counts()"
   ]
  },
  {
   "cell_type": "code",
   "execution_count": 8,
   "id": "ef819ae3",
   "metadata": {
    "ExecuteTime": {
     "end_time": "2021-11-21T19:04:07.161367Z",
     "start_time": "2021-11-21T19:04:07.132273Z"
    }
   },
   "outputs": [
    {
     "data": {
      "text/html": [
       "<div>\n",
       "<style scoped>\n",
       "    .dataframe tbody tr th:only-of-type {\n",
       "        vertical-align: middle;\n",
       "    }\n",
       "\n",
       "    .dataframe tbody tr th {\n",
       "        vertical-align: top;\n",
       "    }\n",
       "\n",
       "    .dataframe thead th {\n",
       "        text-align: right;\n",
       "    }\n",
       "</style>\n",
       "<table border=\"1\" class=\"dataframe\">\n",
       "  <thead>\n",
       "    <tr style=\"text-align: right;\">\n",
       "      <th></th>\n",
       "      <th>trending_date</th>\n",
       "      <th>trending_week</th>\n",
       "      <th>publishedAt_date</th>\n",
       "      <th>publishedAt_time</th>\n",
       "    </tr>\n",
       "  </thead>\n",
       "  <tbody>\n",
       "    <tr>\n",
       "      <th>0</th>\n",
       "      <td>2020-08-09</td>\n",
       "      <td>6</td>\n",
       "      <td>2020-08-09</td>\n",
       "      <td>09:32:48</td>\n",
       "    </tr>\n",
       "    <tr>\n",
       "      <th>1</th>\n",
       "      <td>2020-08-10</td>\n",
       "      <td>0</td>\n",
       "      <td>2020-08-10</td>\n",
       "      <td>09:54:13</td>\n",
       "    </tr>\n",
       "    <tr>\n",
       "      <th>2</th>\n",
       "      <td>2020-08-11</td>\n",
       "      <td>1</td>\n",
       "      <td>2020-08-11</td>\n",
       "      <td>15:00:58</td>\n",
       "    </tr>\n",
       "    <tr>\n",
       "      <th>3</th>\n",
       "      <td>2020-08-11</td>\n",
       "      <td>1</td>\n",
       "      <td>2020-08-11</td>\n",
       "      <td>09:00:13</td>\n",
       "    </tr>\n",
       "    <tr>\n",
       "      <th>4</th>\n",
       "      <td>2020-08-11</td>\n",
       "      <td>1</td>\n",
       "      <td>2020-08-11</td>\n",
       "      <td>15:00:13</td>\n",
       "    </tr>\n",
       "    <tr>\n",
       "      <th>...</th>\n",
       "      <td>...</td>\n",
       "      <td>...</td>\n",
       "      <td>...</td>\n",
       "      <td>...</td>\n",
       "    </tr>\n",
       "    <tr>\n",
       "      <th>10918</th>\n",
       "      <td>2021-09-21</td>\n",
       "      <td>1</td>\n",
       "      <td>2021-09-21</td>\n",
       "      <td>10:01:25</td>\n",
       "    </tr>\n",
       "    <tr>\n",
       "      <th>10919</th>\n",
       "      <td>2021-09-21</td>\n",
       "      <td>1</td>\n",
       "      <td>2021-09-21</td>\n",
       "      <td>02:00:05</td>\n",
       "    </tr>\n",
       "    <tr>\n",
       "      <th>10920</th>\n",
       "      <td>2021-09-21</td>\n",
       "      <td>1</td>\n",
       "      <td>2021-09-21</td>\n",
       "      <td>10:00:33</td>\n",
       "    </tr>\n",
       "    <tr>\n",
       "      <th>10921</th>\n",
       "      <td>2021-09-21</td>\n",
       "      <td>1</td>\n",
       "      <td>2021-09-21</td>\n",
       "      <td>05:26:41</td>\n",
       "    </tr>\n",
       "    <tr>\n",
       "      <th>10922</th>\n",
       "      <td>2021-09-21</td>\n",
       "      <td>1</td>\n",
       "      <td>2021-09-21</td>\n",
       "      <td>12:00:15</td>\n",
       "    </tr>\n",
       "  </tbody>\n",
       "</table>\n",
       "<p>10923 rows × 4 columns</p>\n",
       "</div>"
      ],
      "text/plain": [
       "      trending_date  trending_week publishedAt_date publishedAt_time\n",
       "0        2020-08-09              6       2020-08-09         09:32:48\n",
       "1        2020-08-10              0       2020-08-10         09:54:13\n",
       "2        2020-08-11              1       2020-08-11         15:00:58\n",
       "3        2020-08-11              1       2020-08-11         09:00:13\n",
       "4        2020-08-11              1       2020-08-11         15:00:13\n",
       "...             ...            ...              ...              ...\n",
       "10918    2021-09-21              1       2021-09-21         10:01:25\n",
       "10919    2021-09-21              1       2021-09-21         02:00:05\n",
       "10920    2021-09-21              1       2021-09-21         10:00:33\n",
       "10921    2021-09-21              1       2021-09-21         05:26:41\n",
       "10922    2021-09-21              1       2021-09-21         12:00:15\n",
       "\n",
       "[10923 rows x 4 columns]"
      ]
     },
     "execution_count": 8,
     "metadata": {},
     "output_type": "execute_result"
    }
   ],
   "source": [
    "df.iloc[:, 5:9]"
   ]
  },
  {
   "cell_type": "code",
   "execution_count": 8,
   "id": "5cda0d67",
   "metadata": {
    "ExecuteTime": {
     "end_time": "2021-11-21T19:04:07.271111Z",
     "start_time": "2021-11-21T19:04:07.241069Z"
    },
    "scrolled": true
   },
   "outputs": [
    {
     "name": "stdout",
     "output_type": "stream",
     "text": [
      "<class 'pandas.core.frame.DataFrame'>\n",
      "RangeIndex: 10923 entries, 0 to 10922\n",
      "Data columns (total 24 columns):\n",
      " #   Column             Non-Null Count  Dtype \n",
      "---  ------             --------------  ----- \n",
      " 0   video_id           10923 non-null  object\n",
      " 1   video_title        10923 non-null  object\n",
      " 2   channel_id         10923 non-null  object\n",
      " 3   channel_title      10923 non-null  object\n",
      " 4   category           10923 non-null  int64 \n",
      " 5   trending_date      10923 non-null  object\n",
      " 6   trending_week      10923 non-null  int64 \n",
      " 7   publishedAt_date   10923 non-null  object\n",
      " 8   publishedAt_time   10923 non-null  object\n",
      " 9   publishedAt_week   10923 non-null  object\n",
      " 10  duration           10923 non-null  int64 \n",
      " 11  tags_split         10923 non-null  object\n",
      " 12  tags_len           10923 non-null  int64 \n",
      " 13  view_count         10923 non-null  int64 \n",
      " 14  play_time          10923 non-null  int64 \n",
      " 15  likes              10923 non-null  int64 \n",
      " 16  dislikes           10923 non-null  int64 \n",
      " 17  comment_count      10923 non-null  int64 \n",
      " 18  comments_disabled  10923 non-null  int64 \n",
      " 19  ratings_disabled   10923 non-null  int64 \n",
      " 20  description        10923 non-null  int64 \n",
      " 21  video_len          10923 non-null  int64 \n",
      " 22  channel_len        10923 non-null  int64 \n",
      " 23  pred               10923 non-null  int64 \n",
      "dtypes: int64(15), object(9)\n",
      "memory usage: 2.0+ MB\n"
     ]
    }
   ],
   "source": [
    "df.info()"
   ]
  },
  {
   "cell_type": "code",
   "execution_count": 9,
   "id": "8061f0dd",
   "metadata": {},
   "outputs": [
    {
     "data": {
      "text/html": [
       "<div>\n",
       "<style scoped>\n",
       "    .dataframe tbody tr th:only-of-type {\n",
       "        vertical-align: middle;\n",
       "    }\n",
       "\n",
       "    .dataframe tbody tr th {\n",
       "        vertical-align: top;\n",
       "    }\n",
       "\n",
       "    .dataframe thead th {\n",
       "        text-align: right;\n",
       "    }\n",
       "</style>\n",
       "<table border=\"1\" class=\"dataframe\">\n",
       "  <thead>\n",
       "    <tr style=\"text-align: right;\">\n",
       "      <th></th>\n",
       "      <th>video_id</th>\n",
       "      <th>video_title</th>\n",
       "      <th>channel_id</th>\n",
       "      <th>channel_title</th>\n",
       "      <th>category</th>\n",
       "      <th>trending_date</th>\n",
       "      <th>trending_week</th>\n",
       "      <th>publishedAt_date</th>\n",
       "      <th>publishedAt_time</th>\n",
       "      <th>publishedAt_week</th>\n",
       "      <th>...</th>\n",
       "      <th>play_time</th>\n",
       "      <th>likes</th>\n",
       "      <th>dislikes</th>\n",
       "      <th>comment_count</th>\n",
       "      <th>comments_disabled</th>\n",
       "      <th>ratings_disabled</th>\n",
       "      <th>description</th>\n",
       "      <th>video_len</th>\n",
       "      <th>channel_len</th>\n",
       "      <th>pred</th>\n",
       "    </tr>\n",
       "  </thead>\n",
       "  <tbody>\n",
       "    <tr>\n",
       "      <th>0</th>\n",
       "      <td>n5StUwJPF_g</td>\n",
       "      <td>[순간포착 세상에 이런 일이 레전드] ‘검은 얼굴의 남자’ 풀버전 다시보기ㅣ순간포착...</td>\n",
       "      <td>UCYZv9v_bwfMGc64gLRe34OA</td>\n",
       "      <td>SBS STORY</td>\n",
       "      <td>15</td>\n",
       "      <td>2020-08-05</td>\n",
       "      <td>2</td>\n",
       "      <td>2020-08-05</td>\n",
       "      <td>02:00:03</td>\n",
       "      <td>Wednesday</td>\n",
       "      <td>...</td>\n",
       "      <td>1319</td>\n",
       "      <td>15804</td>\n",
       "      <td>986</td>\n",
       "      <td>3748</td>\n",
       "      <td>0</td>\n",
       "      <td>0</td>\n",
       "      <td>1</td>\n",
       "      <td>83</td>\n",
       "      <td>9</td>\n",
       "      <td>0</td>\n",
       "    </tr>\n",
       "    <tr>\n",
       "      <th>1</th>\n",
       "      <td>xPxrAHrQcmM</td>\n",
       "      <td>삼성의 첫 노캔 무선 이어폰? 갤럭시 버즈 라이브&amp;워치3 모든 색상 동시 언빡싱과 ...</td>\n",
       "      <td>UCdUcjkyZtf-1WJyPPiETF1g</td>\n",
       "      <td>ITSub잇섭</td>\n",
       "      <td>28</td>\n",
       "      <td>2020-08-05</td>\n",
       "      <td>2</td>\n",
       "      <td>2020-08-05</td>\n",
       "      <td>15:45:01</td>\n",
       "      <td>Wednesday</td>\n",
       "      <td>...</td>\n",
       "      <td>858</td>\n",
       "      <td>14013</td>\n",
       "      <td>465</td>\n",
       "      <td>4814</td>\n",
       "      <td>0</td>\n",
       "      <td>0</td>\n",
       "      <td>1</td>\n",
       "      <td>51</td>\n",
       "      <td>7</td>\n",
       "      <td>0</td>\n",
       "    </tr>\n",
       "    <tr>\n",
       "      <th>2</th>\n",
       "      <td>fKOJjBlXlX8</td>\n",
       "      <td>자기를 살려준 인간을 기억한 돌고래가 보여준 믿을 수 없는 실화</td>\n",
       "      <td>UCMguxwveCsLVpyKrLz-EFTg</td>\n",
       "      <td>달빛뮤즈</td>\n",
       "      <td>1</td>\n",
       "      <td>2020-08-05</td>\n",
       "      <td>2</td>\n",
       "      <td>2020-08-05</td>\n",
       "      <td>10:45:12</td>\n",
       "      <td>Wednesday</td>\n",
       "      <td>...</td>\n",
       "      <td>0</td>\n",
       "      <td>11004</td>\n",
       "      <td>303</td>\n",
       "      <td>257</td>\n",
       "      <td>0</td>\n",
       "      <td>0</td>\n",
       "      <td>1</td>\n",
       "      <td>35</td>\n",
       "      <td>4</td>\n",
       "      <td>0</td>\n",
       "    </tr>\n",
       "    <tr>\n",
       "      <th>3</th>\n",
       "      <td>Hjy-LuGGxh0</td>\n",
       "      <td>강형욱, 개훌륭 최초로 올가미 사용하다! 역대급 경계심 천둥이[개는 룰륭하다]</td>\n",
       "      <td>UCAhKKbDO9-ymWZ_7iAFLBQQ</td>\n",
       "      <td>KBS동물티비 : 애니멀포유 animal4u</td>\n",
       "      <td>15</td>\n",
       "      <td>2020-08-05</td>\n",
       "      <td>2</td>\n",
       "      <td>2020-08-05</td>\n",
       "      <td>23:00:03</td>\n",
       "      <td>Wednesday</td>\n",
       "      <td>...</td>\n",
       "      <td>1181</td>\n",
       "      <td>4824</td>\n",
       "      <td>296</td>\n",
       "      <td>2000</td>\n",
       "      <td>0</td>\n",
       "      <td>0</td>\n",
       "      <td>1</td>\n",
       "      <td>43</td>\n",
       "      <td>24</td>\n",
       "      <td>0</td>\n",
       "    </tr>\n",
       "    <tr>\n",
       "      <th>4</th>\n",
       "      <td>HQjtBOdG_fQ</td>\n",
       "      <td>너희 형제 맞아?? 갤럭시 노트20 &amp; 노트20 울트라 개봉기 [4K]</td>\n",
       "      <td>UC_0oo0GPlDUU88ubLDnJkSQ</td>\n",
       "      <td>UNDERkg</td>\n",
       "      <td>28</td>\n",
       "      <td>2020-08-05</td>\n",
       "      <td>2</td>\n",
       "      <td>2020-08-05</td>\n",
       "      <td>23:00:02</td>\n",
       "      <td>Wednesday</td>\n",
       "      <td>...</td>\n",
       "      <td>861</td>\n",
       "      <td>5003</td>\n",
       "      <td>289</td>\n",
       "      <td>2373</td>\n",
       "      <td>0</td>\n",
       "      <td>0</td>\n",
       "      <td>1</td>\n",
       "      <td>39</td>\n",
       "      <td>7</td>\n",
       "      <td>0</td>\n",
       "    </tr>\n",
       "  </tbody>\n",
       "</table>\n",
       "<p>5 rows × 24 columns</p>\n",
       "</div>"
      ],
      "text/plain": [
       "      video_id                                        video_title  \\\n",
       "0  n5StUwJPF_g  [순간포착 세상에 이런 일이 레전드] ‘검은 얼굴의 남자’ 풀버전 다시보기ㅣ순간포착...   \n",
       "1  xPxrAHrQcmM  삼성의 첫 노캔 무선 이어폰? 갤럭시 버즈 라이브&워치3 모든 색상 동시 언빡싱과 ...   \n",
       "2  fKOJjBlXlX8                자기를 살려준 인간을 기억한 돌고래가 보여준 믿을 수 없는 실화   \n",
       "3  Hjy-LuGGxh0        강형욱, 개훌륭 최초로 올가미 사용하다! 역대급 경계심 천둥이[개는 룰륭하다]   \n",
       "4  HQjtBOdG_fQ            너희 형제 맞아?? 갤럭시 노트20 & 노트20 울트라 개봉기 [4K]   \n",
       "\n",
       "                 channel_id             channel_title  category trending_date  \\\n",
       "0  UCYZv9v_bwfMGc64gLRe34OA                 SBS STORY        15    2020-08-05   \n",
       "1  UCdUcjkyZtf-1WJyPPiETF1g                   ITSub잇섭        28    2020-08-05   \n",
       "2  UCMguxwveCsLVpyKrLz-EFTg                      달빛뮤즈         1    2020-08-05   \n",
       "3  UCAhKKbDO9-ymWZ_7iAFLBQQ  KBS동물티비 : 애니멀포유 animal4u        15    2020-08-05   \n",
       "4  UC_0oo0GPlDUU88ubLDnJkSQ                   UNDERkg        28    2020-08-05   \n",
       "\n",
       "   trending_week publishedAt_date publishedAt_time publishedAt_week  ...  \\\n",
       "0              2       2020-08-05         02:00:03        Wednesday  ...   \n",
       "1              2       2020-08-05         15:45:01        Wednesday  ...   \n",
       "2              2       2020-08-05         10:45:12        Wednesday  ...   \n",
       "3              2       2020-08-05         23:00:03        Wednesday  ...   \n",
       "4              2       2020-08-05         23:00:02        Wednesday  ...   \n",
       "\n",
       "   play_time  likes  dislikes  comment_count  comments_disabled  \\\n",
       "0       1319  15804       986           3748                  0   \n",
       "1        858  14013       465           4814                  0   \n",
       "2          0  11004       303            257                  0   \n",
       "3       1181   4824       296           2000                  0   \n",
       "4        861   5003       289           2373                  0   \n",
       "\n",
       "   ratings_disabled  description  video_len  channel_len  pred  \n",
       "0                 0            1         83            9     0  \n",
       "1                 0            1         51            7     0  \n",
       "2                 0            1         35            4     0  \n",
       "3                 0            1         43           24     0  \n",
       "4                 0            1         39            7     0  \n",
       "\n",
       "[5 rows x 24 columns]"
      ]
     },
     "execution_count": 9,
     "metadata": {},
     "output_type": "execute_result"
    }
   ],
   "source": [
    "df=df.sort_values(by=['trending_date'], axis=0)\n",
    "df.reset_index(inplace=True, drop=True)\n",
    "df.head()"
   ]
  },
  {
   "cell_type": "code",
   "execution_count": null,
   "id": "62710c67",
   "metadata": {},
   "outputs": [],
   "source": []
  },
  {
   "cell_type": "code",
   "execution_count": 10,
   "id": "096b006e",
   "metadata": {
    "ExecuteTime": {
     "end_time": "2021-11-21T19:04:12.242594Z",
     "start_time": "2021-11-21T19:04:07.461631Z"
    },
    "scrolled": true
   },
   "outputs": [
    {
     "data": {
      "text/plain": [
       "<AxesSubplot:>"
      ]
     },
     "execution_count": 10,
     "metadata": {},
     "output_type": "execute_result"
    },
    {
     "data": {
      "image/png": "[encoded data removed]",
      "text/plain": [
       "<Figure size 1800x504 with 2 Axes>"
      ]
     },
     "metadata": {
      "needs_background": "light"
     },
     "output_type": "display_data"
    }
   ],
   "source": [
    "import seaborn as sns\n",
    "import matplotlib.pyplot as plt\n",
    "%matplotlib inline\n",
    "\n",
    "corr = df.corr()\n",
    "plt.figure(figsize = (25, 7))\n",
    "sns.heatmap(data = corr, annot = True, fmt = '.2f', linewidths = .5, cmap = 'Blues')"
   ]
  },
  {
   "cell_type": "code",
   "execution_count": 11,
   "id": "77b650bd",
   "metadata": {
    "ExecuteTime": {
     "end_time": "2021-11-21T19:04:13.005943Z",
     "start_time": "2021-11-21T19:04:12.339338Z"
    }
   },
   "outputs": [
    {
     "data": {
      "text/plain": [
       "<AxesSubplot:>"
      ]
     },
     "execution_count": 11,
     "metadata": {},
     "output_type": "execute_result"
    },
    {
     "data": {
      "image/png": "[encoded data removed]",
      "text/plain": [
       "<Figure size 1800x504 with 2 Axes>"
      ]
     },
     "metadata": {
      "needs_background": "light"
     },
     "output_type": "display_data"
    }
   ],
   "source": [
    "high = corr[(corr[\"pred\"]>0.3) | (corr[\"pred\"]< -0.3)]\n",
    "plt.figure(figsize = (25, 7))\n",
    "sns.heatmap(data = high, annot = True, fmt = '.2f', linewidths = .5, cmap = 'Blues')"
   ]
  },
  {
   "cell_type": "markdown",
   "id": "19eb64e2",
   "metadata": {},
   "source": [
    "# train / test 분리"
   ]
  },
  {
   "cell_type": "code",
   "execution_count": 10,
   "id": "a2ce17f6",
   "metadata": {
    "ExecuteTime": {
     "end_time": "2021-11-21T19:04:14.957214Z",
     "start_time": "2021-11-21T19:04:14.943251Z"
    }
   },
   "outputs": [],
   "source": [
    "X=df[[\"category\", \"trending_week\", \"tags_len\", \"view_count\", \"play_time\", \"likes\", \"dislikes\",\n",
    "      \"comment_count\", \"comments_disabled\", \"ratings_disabled\", \"description\", \"video_len\", \"channel_len\"]]\n",
    "Y=df[\"pred\"]"
   ]
  },
  {
   "cell_type": "code",
   "execution_count": 11,
   "id": "11d9d0b6",
   "metadata": {
    "ExecuteTime": {
     "end_time": "2021-11-21T19:04:16.510375Z",
     "start_time": "2021-11-21T19:04:15.083018Z"
    }
   },
   "outputs": [
    {
     "name": "stdout",
     "output_type": "stream",
     "text": [
      "x_train shape: (7646, 13)\n",
      "x_test shape: (3277, 13)\n",
      "y_train shape: (7646,)\n",
      "y_test shape: (3277,)\n"
     ]
    }
   ],
   "source": [
    "# 전체 선택\n",
    "from sklearn.model_selection import train_test_split\n",
    "\n",
    "x_train, x_test, y_train, y_test = train_test_split(X, Y, test_size=0.3)\n",
    "print('x_train shape:', x_train.shape)\n",
    "print('x_test shape:', x_test.shape)\n",
    "print('y_train shape:', y_train.shape)\n",
    "print('y_test shape:', y_test.shape)"
   ]
  },
  {
   "cell_type": "code",
   "execution_count": 12,
   "id": "b308f717",
   "metadata": {},
   "outputs": [
    {
     "name": "stdout",
     "output_type": "stream",
     "text": [
      "y_train 상태\n",
      "1    5697\n",
      "0    1949\n",
      "Name: pred, dtype: int64\n",
      "y_test  상태\n",
      "1    2402\n",
      "0     875\n",
      "Name: pred, dtype: int64\n"
     ]
    }
   ],
   "source": [
    "print('y_train 상태')\n",
    "print(y_train.value_counts())\n",
    "print('y_test  상태')\n",
    "print(y_test.value_counts())"
   ]
  },
  {
   "cell_type": "code",
   "execution_count": 17,
   "id": "09cb0a2d",
   "metadata": {},
   "outputs": [],
   "source": [
    "#스케일\n",
    "from sklearn.preprocessing import StandardScaler\n",
    "\n",
    "scaler = StandardScaler()\n",
    "x_train_scaled = scaler.fit_transform(x_train)\n",
    "x_test_scaled = scaler.transform(x_test)"
   ]
  },
  {
   "cell_type": "markdown",
   "id": "ca3043e0",
   "metadata": {},
   "source": [
    "# SVM\n",
    "- 어느 한쪽에 치우쳐지지 않고 양쪽에 균등할 경우 사용\n",
    "- 과적합 적음"
   ]
  },
  {
   "cell_type": "markdown",
   "id": "2943a460",
   "metadata": {},
   "source": [
    "## 전체 사용"
   ]
  },
  {
   "cell_type": "code",
   "execution_count": 14,
   "id": "3f1b78a5",
   "metadata": {
    "ExecuteTime": {
     "end_time": "2021-11-21T19:41:20.095290Z",
     "start_time": "2021-11-21T19:41:07.395346Z"
    }
   },
   "outputs": [],
   "source": [
    "from sklearn import svm\n",
    "from sklearn.svm import SVC\n",
    "\n",
    "svm = SVC()\n",
    "svm.fit(x_train, y_train)\n",
    "svm_train_pred = svm.predict(x_train)\n",
    "svm_test_pred = svm.predict(x_test)"
   ]
  },
  {
   "cell_type": "code",
   "execution_count": 15,
   "id": "f5645af1",
   "metadata": {},
   "outputs": [
    {
     "name": "stdout",
     "output_type": "stream",
     "text": [
      "svm 전체 train 정확도 : 0.745\n",
      "svm 전체 test  정확도 : 0.733\n"
     ]
    }
   ],
   "source": [
    "from sklearn.metrics import accuracy_score\n",
    "print(\"svm 전체 train 정확도 : {0:.3f}\".format(accuracy_score(y_train, svm_train_pred)))\n",
    "print(\"svm 전체 test  정확도 : {0:.3f}\".format(accuracy_score(y_test, svm_test_pred)))"
   ]
  },
  {
   "cell_type": "code",
   "execution_count": 16,
   "id": "ea3b2c37",
   "metadata": {},
   "outputs": [
    {
     "name": "stdout",
     "output_type": "stream",
     "text": [
      "SVM 전체 train\n",
      " [[   3 1946]\n",
      " [   0 5697]]\n",
      "\n",
      "SVM 전체 test\n",
      " [[   0  875]\n",
      " [   0 2402]]\n"
     ]
    }
   ],
   "source": [
    "from sklearn.metrics import confusion_matrix\n",
    "\n",
    "print(\"SVM 전체 train\\n\", confusion_matrix(y_train, svm_train_pred))\n",
    "print()\n",
    "print(\"SVM 전체 test\\n\", confusion_matrix(y_test, svm_test_pred))"
   ]
  },
  {
   "cell_type": "code",
   "execution_count": 18,
   "id": "faca54f9",
   "metadata": {},
   "outputs": [
    {
     "name": "stderr",
     "output_type": "stream",
     "text": [
      "C:\\Users\\yhg31\\Anaconda3\\lib\\site-packages\\sklearn\\svm\\_base.py:985: ConvergenceWarning: Liblinear failed to converge, increase the number of iterations.\n",
      "  warnings.warn(\"Liblinear failed to converge, increase \"\n"
     ]
    }
   ],
   "source": [
    "from sklearn.svm import LinearSVC\n",
    "\n",
    "l_svm = LinearSVC()\n",
    "l_svm.fit(x_train, y_train)\n",
    "l_svm_train_pred = l_svm.predict(x_train)\n",
    "l_svm_test_pred = l_svm.predict(x_test)"
   ]
  },
  {
   "cell_type": "code",
   "execution_count": 19,
   "id": "678ddb09",
   "metadata": {},
   "outputs": [
    {
     "name": "stdout",
     "output_type": "stream",
     "text": [
      "LinearSVC 전체 train 정확도 : 0.262\n",
      "LinearSVC 전체 test  정확도 : 0.252\n"
     ]
    }
   ],
   "source": [
    "print(\"LinearSVC 전체 train 정확도 : {0:.3f}\".format(accuracy_score(y_train, l_svm_train_pred)))\n",
    "print(\"LinearSVC 전체 test  정확도 : {0:.3f}\".format(accuracy_score(y_test, l_svm_test_pred)))"
   ]
  },
  {
   "cell_type": "code",
   "execution_count": 20,
   "id": "f40aaa3c",
   "metadata": {},
   "outputs": [
    {
     "name": "stdout",
     "output_type": "stream",
     "text": [
      "LinearSVC 전체 train\n",
      " [[2000    0]\n",
      " [5644    2]]\n",
      "\n",
      "LinearSVC 전체 test\n",
      " [[ 824    0]\n",
      " [2451    2]]\n"
     ]
    }
   ],
   "source": [
    "print(\"LinearSVC 전체 train\\n\", confusion_matrix(y_train, l_svm_train_pred))\n",
    "print()\n",
    "print(\"LinearSVC 전체 test\\n\", confusion_matrix(y_test, l_svm_test_pred))"
   ]
  },
  {
   "cell_type": "markdown",
   "id": "d6a6fd32",
   "metadata": {},
   "source": [
    "## 스케일된 피처"
   ]
  },
  {
   "cell_type": "code",
   "execution_count": 21,
   "id": "b3205755",
   "metadata": {
    "ExecuteTime": {
     "end_time": "2021-11-21T19:41:51.055589Z",
     "start_time": "2021-11-21T19:41:44.199804Z"
    }
   },
   "outputs": [],
   "source": [
    "from sklearn import svm\n",
    "from sklearn.svm import SVC\n",
    "\n",
    "sc_svm = svm.SVC()\n",
    "sc_svm.fit(x_train_scaled, y_train)\n",
    "sc_svm_train_pred = sc_svm.predict(x_train_scaled)\n",
    "sc_svm_test_pred = sc_svm.predict(x_test_scaled)"
   ]
  },
  {
   "cell_type": "code",
   "execution_count": 22,
   "id": "3ff5930f",
   "metadata": {
    "ExecuteTime": {
     "end_time": "2021-11-21T19:42:58.806439Z",
     "start_time": "2021-11-21T19:42:58.784740Z"
    }
   },
   "outputs": [
    {
     "name": "stdout",
     "output_type": "stream",
     "text": [
      "svm 스케일 train 정확도 : 0.999\n",
      "svm 스케일 test  정확도 : 0.994\n"
     ]
    }
   ],
   "source": [
    "print(\"svm 스케일 train 정확도 : {0:.3f}\".format(accuracy_score(y_train, sc_svm_train_pred)))\n",
    "print(\"svm 스케일 test  정확도 : {0:.3f}\".format(accuracy_score(y_test, sc_svm_test_pred)))"
   ]
  },
  {
   "cell_type": "code",
   "execution_count": 23,
   "id": "32ae78f7",
   "metadata": {},
   "outputs": [
    {
     "name": "stdout",
     "output_type": "stream",
     "text": [
      "SVM 스케일 train\n",
      " [[1990   10]\n",
      " [   1 5645]]\n",
      "\n",
      "SVM 스케일 test\n",
      " [[ 809   15]\n",
      " [   4 2449]]\n"
     ]
    }
   ],
   "source": [
    "print(\"SVM 스케일 train\\n\", confusion_matrix(y_train, sc_svm_train_pred))\n",
    "print()\n",
    "print(\"SVM 스케일 test\\n\", confusion_matrix(y_test, sc_svm_test_pred))"
   ]
  },
  {
   "cell_type": "code",
   "execution_count": 24,
   "id": "2e715d83",
   "metadata": {
    "ExecuteTime": {
     "end_time": "2021-11-21T19:43:27.747946Z",
     "start_time": "2021-11-21T19:43:27.153444Z"
    }
   },
   "outputs": [],
   "source": [
    "sc_l_svm = SVC(kernel='linear')\n",
    "sc_l_svm.fit(x_train_scaled, y_train)\n",
    "sc_l_svm_train_pred = sc_l_svm.predict(x_train_scaled)\n",
    "sc_l_svm_test_pred = sc_l_svm.predict(x_test_scaled)"
   ]
  },
  {
   "cell_type": "code",
   "execution_count": 25,
   "id": "b1009d36",
   "metadata": {
    "ExecuteTime": {
     "end_time": "2021-11-21T19:44:44.332931Z",
     "start_time": "2021-11-21T19:44:44.308662Z"
    }
   },
   "outputs": [
    {
     "name": "stdout",
     "output_type": "stream",
     "text": [
      "LinearSVC 스케일 train 정확도 : 1.000\n",
      "LinearSVC 스케일 test  정확도 : 1.000\n"
     ]
    }
   ],
   "source": [
    "print(\"LinearSVC 스케일 train 정확도 : {0:.3f}\".format(accuracy_score(y_train, sc_l_svm_train_pred)))\n",
    "print(\"LinearSVC 스케일 test  정확도 : {0:.3f}\".format(accuracy_score(y_test, sc_l_svm_test_pred)))"
   ]
  },
  {
   "cell_type": "code",
   "execution_count": 26,
   "id": "eb801a1c",
   "metadata": {},
   "outputs": [
    {
     "name": "stdout",
     "output_type": "stream",
     "text": [
      "LinearSVC 스케일 train\n",
      " [[2000    0]\n",
      " [   0 5646]]\n",
      "\n",
      "LinearSVC 스케일 test\n",
      " [[ 824    0]\n",
      " [   0 2453]]\n"
     ]
    }
   ],
   "source": [
    "print(\"LinearSVC 스케일 train\\n\", confusion_matrix(y_train, sc_l_svm_train_pred))\n",
    "print()\n",
    "print(\"LinearSVC 스케일 test\\n\", confusion_matrix(y_test, sc_l_svm_test_pred))"
   ]
  },
  {
   "cell_type": "markdown",
   "id": "bebb4b04",
   "metadata": {
    "hide_input": false
   },
   "source": [
    "# LDA\n",
    "- 2개이상 범주때 사용, 이 범주가 명확할수록 좋음"
   ]
  },
  {
   "cell_type": "markdown",
   "id": "09d6f341",
   "metadata": {},
   "source": [
    "## 전체 사용"
   ]
  },
  {
   "cell_type": "code",
   "execution_count": 27,
   "id": "776bc07f",
   "metadata": {},
   "outputs": [],
   "source": [
    "from sklearn.discriminant_analysis import LinearDiscriminantAnalysis\n",
    "\n",
    "lda = LinearDiscriminantAnalysis()\n",
    "lda.fit(x_train, y_train)\n",
    "lda_train_pred = lda.predict(x_train)\n",
    "lda_test_pred = lda.predict(x_test)"
   ]
  },
  {
   "cell_type": "code",
   "execution_count": 28,
   "id": "08cbba5f",
   "metadata": {},
   "outputs": [
    {
     "name": "stdout",
     "output_type": "stream",
     "text": [
      "LDA 전체 train 정확도 : 0.934\n",
      "LDA 전체 test  정확도 : 0.934\n"
     ]
    }
   ],
   "source": [
    "print(\"LDA 전체 train 정확도 : {0:.3f}\".format(accuracy_score(y_train, lda_train_pred)))\n",
    "print(\"LDA 전체 test  정확도 : {0:.3f}\".format(accuracy_score(y_test, lda_test_pred)))"
   ]
  },
  {
   "cell_type": "code",
   "execution_count": 29,
   "id": "1488781a",
   "metadata": {},
   "outputs": [
    {
     "name": "stdout",
     "output_type": "stream",
     "text": [
      "LDA 전체 train\n",
      " [[1498  502]\n",
      " [   4 5642]]\n",
      "\n",
      "LDA 전체 test\n",
      " [[ 608  216]\n",
      " [   1 2452]]\n"
     ]
    }
   ],
   "source": [
    "print(\"LDA 전체 train\\n\", confusion_matrix(y_train, lda_train_pred))\n",
    "print()\n",
    "print(\"LDA 전체 test\\n\", confusion_matrix(y_test, lda_test_pred))"
   ]
  },
  {
   "cell_type": "markdown",
   "id": "9d5499dc",
   "metadata": {},
   "source": [
    "## 스케일된 피처"
   ]
  },
  {
   "cell_type": "code",
   "execution_count": 78,
   "id": "fdc39b28",
   "metadata": {},
   "outputs": [],
   "source": [
    "sc_lda = LinearDiscriminantAnalysis()\n",
    "sc_lda.fit(x_train_scaled, y_train)\n",
    "sc_lda_train_pred = sc_lda.predict(x_train_scaled)\n",
    "sc_lda_test_pred = sc_lda.predict(x_test_scaled)"
   ]
  },
  {
   "cell_type": "code",
   "execution_count": 79,
   "id": "f7a210d2",
   "metadata": {},
   "outputs": [
    {
     "name": "stdout",
     "output_type": "stream",
     "text": [
      "LDA 스케일 train 정확도 : 0.934\n",
      "LDA 스케일 test  정확도 : 0.934\n"
     ]
    }
   ],
   "source": [
    "print(\"LDA 스케일 train 정확도 : {0:.3f}\".format(accuracy_score(y_train, sc_lda_train_pred)))\n",
    "print(\"LDA 스케일 test  정확도 : {0:.3f}\".format(accuracy_score(y_test, sc_lda_test_pred)))"
   ]
  },
  {
   "cell_type": "code",
   "execution_count": 97,
   "id": "82fd7059",
   "metadata": {},
   "outputs": [
    {
     "name": "stdout",
     "output_type": "stream",
     "text": [
      "LDA 스케일 train\n",
      " [[1498  502]\n",
      " [   4 5642]]\n",
      "\n",
      "LDA 스케일 test\n",
      " [[ 608  216]\n",
      " [   1 2452]]\n"
     ]
    }
   ],
   "source": [
    "print(\"LDA 스케일 train\\n\", confusion_matrix(y_train, sc_lda_train_pred))\n",
    "print()\n",
    "print(\"LDA 스케일 test\\n\", confusion_matrix(y_test, sc_lda_test_pred))"
   ]
  },
  {
   "cell_type": "markdown",
   "id": "127f8ccf",
   "metadata": {},
   "source": [
    "# Keras\n",
    "- 시계열 데이터에 사용하는 모델"
   ]
  },
  {
   "cell_type": "markdown",
   "id": "3a9ff398",
   "metadata": {
    "ExecuteTime": {
     "end_time": "2021-11-21T18:59:57.581582Z",
     "start_time": "2021-11-21T18:59:57.514466Z"
    }
   },
   "source": [
    "## 전체 사용"
   ]
  },
  {
   "cell_type": "code",
   "execution_count": 33,
   "id": "b15235e4",
   "metadata": {},
   "outputs": [],
   "source": [
    "x_train_t = x_train.values.reshape(x_train.shape[0], x_train.shape[1], 1)\n",
    "x_test_t = x_test.values.reshape(x_test.shape[0], x_train.shape[1], 1)"
   ]
  },
  {
   "cell_type": "code",
   "execution_count": 34,
   "id": "10d1a5cf",
   "metadata": {},
   "outputs": [],
   "source": [
    "y_train_t = y_train.values.reshape(y_train.shape[0], 1)\n",
    "y_test_t = y_test.values.reshape(y_test.shape[0], 1)"
   ]
  },
  {
   "cell_type": "code",
   "execution_count": 35,
   "id": "26da6184",
   "metadata": {
    "scrolled": true
   },
   "outputs": [
    {
     "name": "stdout",
     "output_type": "stream",
     "text": [
      "Model: \"sequential\"\n",
      "_________________________________________________________________\n",
      "Layer (type)                 Output Shape              Param #   \n",
      "=================================================================\n",
      "dense (Dense)                (None, 1)                 15        \n",
      "_________________________________________________________________\n",
      "dense_1 (Dense)              (None, 1)                 2         \n",
      "=================================================================\n",
      "Total params: 17\n",
      "Trainable params: 17\n",
      "Non-trainable params: 0\n",
      "_________________________________________________________________\n"
     ]
    }
   ],
   "source": [
    "from keras import backend as K\n",
    "from keras.models import Sequential\n",
    "from keras.layers import Dense, Activation\n",
    "\n",
    "K.clear_session() #메모리 문제\n",
    "\n",
    "lstm = Sequential()\n",
    "lstm.add(Dense(1, activation='relu', input_dim=14))\n",
    "lstm.add(Dense(1, activation='softmax'))\n",
    "lstm.compile(loss='binary_crossentropy', optimizer='rmsprop', metrics=['accuracy'])\n",
    "\n",
    "lstm.summary()"
   ]
  },
  {
   "cell_type": "code",
   "execution_count": 36,
   "id": "2387814d",
   "metadata": {
    "scrolled": true
   },
   "outputs": [
    {
     "name": "stdout",
     "output_type": "stream",
     "text": [
      "Epoch 1/20\n",
      "239/239 [==============================] - 13s 930us/step - loss: 0.6792 - accuracy: 0.7428\n",
      "Epoch 2/20\n",
      "239/239 [==============================] - 0s 925us/step - loss: 0.6360 - accuracy: 0.7381\n",
      "Epoch 3/20\n",
      "239/239 [==============================] - 0s 928us/step - loss: 0.6076 - accuracy: 0.7361\n",
      "Epoch 4/20\n",
      "239/239 [==============================] - 0s 1ms/step - loss: 0.5878 - accuracy: 0.7400: 0s - loss: 0.5874 - accuracy\n",
      "Epoch 5/20\n",
      "239/239 [==============================] - 0s 923us/step - loss: 0.5843 - accuracy: 0.7330\n",
      "Epoch 6/20\n",
      "239/239 [==============================] - 0s 878us/step - loss: 0.5826 - accuracy: 0.7315\n",
      "Epoch 7/20\n",
      "239/239 [==============================] - 0s 899us/step - loss: 0.5736 - accuracy: 0.7401\n",
      "Epoch 8/20\n",
      "239/239 [==============================] - 0s 955us/step - loss: 0.5767 - accuracy: 0.73660s - loss: 0.5807 - accuracy: \n",
      "Epoch 9/20\n",
      "239/239 [==============================] - 0s 1ms/step - loss: 0.5780 - accuracy: 0.7352\n",
      "Epoch 10/20\n",
      "239/239 [==============================] - 0s 977us/step - loss: 0.5724 - accuracy: 0.7406\n",
      "Epoch 11/20\n",
      "239/239 [==============================] - 0s 860us/step - loss: 0.5787 - accuracy: 0.7346\n",
      "Epoch 12/20\n",
      "239/239 [==============================] - 0s 799us/step - loss: 0.5749 - accuracy: 0.7383\n",
      "Epoch 13/20\n",
      "239/239 [==============================] - 0s 903us/step - loss: 0.5750 - accuracy: 0.7382\n",
      "Epoch 14/20\n",
      "239/239 [==============================] - 0s 1ms/step - loss: 0.5773 - accuracy: 0.7359\n",
      "Epoch 15/20\n",
      "239/239 [==============================] - 0s 1ms/step - loss: 0.5759 - accuracy: 0.7373\n",
      "Epoch 16/20\n",
      "239/239 [==============================] - 0s 779us/step - loss: 0.5758 - accuracy: 0.7374\n",
      "Epoch 17/20\n",
      "239/239 [==============================] - 0s 776us/step - loss: 0.5752 - accuracy: 0.7379\n",
      "Epoch 18/20\n",
      "239/239 [==============================] - 0s 995us/step - loss: 0.5809 - accuracy: 0.7325\n",
      "Epoch 19/20\n",
      "239/239 [==============================] - 0s 834us/step - loss: 0.5776 - accuracy: 0.7357\n",
      "Epoch 20/20\n",
      "239/239 [==============================] - 0s 811us/step - loss: 0.5757 - accuracy: 0.7375\n"
     ]
    },
    {
     "data": {
      "text/plain": [
       "<keras.callbacks.History at 0x295a4e3c3d0>"
      ]
     },
     "execution_count": 36,
     "metadata": {},
     "output_type": "execute_result"
    }
   ],
   "source": [
    "lstm.fit(x_train, y_train_t, epochs=20, batch_size=32)"
   ]
  },
  {
   "cell_type": "code",
   "execution_count": 37,
   "id": "d40853f7",
   "metadata": {
    "scrolled": true
   },
   "outputs": [
    {
     "data": {
      "text/plain": [
       "<matplotlib.collections.PathCollection at 0x295a5843370>"
      ]
     },
     "execution_count": 37,
     "metadata": {},
     "output_type": "execute_result"
    },
    {
     "data": {
      "image/png": "[encoded data removed]",
      "text/plain": [
       "<Figure size 432x288 with 1 Axes>"
      ]
     },
     "metadata": {
      "needs_background": "light"
     },
     "output_type": "display_data"
    }
   ],
   "source": [
    "lstm_train_pred = lstm.predict(x_train, batch_size=32)\n",
    "plt.scatter(y_train, lstm_train_pred)"
   ]
  },
  {
   "cell_type": "code",
   "execution_count": 38,
   "id": "57c00ad3",
   "metadata": {},
   "outputs": [
    {
     "data": {
      "text/plain": [
       "<matplotlib.collections.PathCollection at 0x295a5118dc0>"
      ]
     },
     "execution_count": 38,
     "metadata": {},
     "output_type": "execute_result"
    },
    {
     "data": {
      "image/png": "[encoded data removed]",
      "text/plain": [
       "<Figure size 432x288 with 1 Axes>"
      ]
     },
     "metadata": {
      "needs_background": "light"
     },
     "output_type": "display_data"
    }
   ],
   "source": [
    "lstm_test_pred = lstm.predict(x_test, batch_size=32)\n",
    "plt.scatter(y_test, lstm_test_pred)"
   ]
  },
  {
   "cell_type": "code",
   "execution_count": 39,
   "id": "ad4ba60e",
   "metadata": {},
   "outputs": [
    {
     "name": "stdout",
     "output_type": "stream",
     "text": [
      "239/239 [==============================] - 1s 703us/step - loss: 0.5747 - accuracy: 0.7384\n",
      "LSTM 전체 train 정확도 : 0.738\n",
      "103/103 [==============================] - 0s 778us/step - loss: 0.5871 - accuracy: 0.7486\n",
      "LSTM 전체 test  정확도 : 0.749\n"
     ]
    }
   ],
   "source": [
    "print(\"LSTM 전체 train 정확도 : {0:.3f}\".format(lstm.evaluate(x_train, y_train_t, batch_size=32)[1]))\n",
    "print(\"LSTM 전체 test  정확도 : {0:.3f}\".format(lstm.evaluate(x_test, y_test_t, batch_size=32)[1]))"
   ]
  },
  {
   "cell_type": "code",
   "execution_count": 40,
   "id": "dd33b24f",
   "metadata": {},
   "outputs": [
    {
     "name": "stdout",
     "output_type": "stream",
     "text": [
      "LSTM 전체 train\n",
      " [[   0 2000]\n",
      " [   0 5646]]\n",
      "\n",
      "LSTM 전체 test\n",
      " [[   0  824]\n",
      " [   0 2453]]\n"
     ]
    }
   ],
   "source": [
    "LSTM_train_pred = np.round(lstm_train_pred)\n",
    "LSTM_test_pred = np.round(lstm_test_pred)\n",
    "\n",
    "print(\"LSTM 전체 train\\n\", confusion_matrix(y_train, LSTM_train_pred))\n",
    "print()\n",
    "print(\"LSTM 전체 test\\n\", confusion_matrix(y_test, LSTM_test_pred))"
   ]
  },
  {
   "cell_type": "markdown",
   "id": "8ecb83e2",
   "metadata": {},
   "source": [
    "## 스케일된 피처"
   ]
  },
  {
   "cell_type": "code",
   "execution_count": 81,
   "id": "83fad8c1",
   "metadata": {
    "scrolled": true
   },
   "outputs": [
    {
     "name": "stdout",
     "output_type": "stream",
     "text": [
      "Model: \"sequential\"\n",
      "_________________________________________________________________\n",
      "Layer (type)                 Output Shape              Param #   \n",
      "=================================================================\n",
      "dense (Dense)                (None, 1)                 15        \n",
      "_________________________________________________________________\n",
      "dense_1 (Dense)              (None, 1)                 2         \n",
      "=================================================================\n",
      "Total params: 17\n",
      "Trainable params: 17\n",
      "Non-trainable params: 0\n",
      "_________________________________________________________________\n"
     ]
    }
   ],
   "source": [
    "K.clear_session() #메모리 문제\n",
    "\n",
    "sc_lstm = Sequential()\n",
    "sc_lstm.add(Dense(1, activation='relu', input_dim=14))\n",
    "sc_lstm.add(Dense(1, activation='softmax'))\n",
    "sc_lstm.compile(loss='binary_crossentropy', optimizer='rmsprop', metrics=['accuracy'])\n",
    "\n",
    "sc_lstm.summary()"
   ]
  },
  {
   "cell_type": "code",
   "execution_count": 82,
   "id": "ebabc8cf",
   "metadata": {
    "scrolled": true
   },
   "outputs": [
    {
     "name": "stdout",
     "output_type": "stream",
     "text": [
      "Epoch 1/20\n",
      "239/239 [==============================] - 1s 795us/step - loss: 0.7766 - accuracy: 0.7324\n",
      "Epoch 2/20\n",
      "239/239 [==============================] - 0s 842us/step - loss: 0.6361 - accuracy: 0.7326\n",
      "Epoch 3/20\n",
      "239/239 [==============================] - 0s 869us/step - loss: 0.6005 - accuracy: 0.7399\n",
      "Epoch 4/20\n",
      "239/239 [==============================] - 0s 823us/step - loss: 0.5755 - accuracy: 0.7397\n",
      "Epoch 5/20\n",
      "239/239 [==============================] - 0s 819us/step - loss: 0.5499 - accuracy: 0.7452\n",
      "Epoch 6/20\n",
      "239/239 [==============================] - 0s 818us/step - loss: 0.5283 - accuracy: 0.7450\n",
      "Epoch 7/20\n",
      "239/239 [==============================] - 0s 776us/step - loss: 0.5164 - accuracy: 0.73550s - loss: 0.5197 - accuracy: 0.\n",
      "Epoch 8/20\n",
      "239/239 [==============================] - 0s 805us/step - loss: 0.4959 - accuracy: 0.7368\n",
      "Epoch 9/20\n",
      "239/239 [==============================] - 0s 814us/step - loss: 0.4797 - accuracy: 0.7264\n",
      "Epoch 10/20\n",
      "239/239 [==============================] - 0s 962us/step - loss: 0.4530 - accuracy: 0.73820s - loss: 0.4598 - accuracy\n",
      "Epoch 11/20\n",
      "239/239 [==============================] - 0s 888us/step - loss: 0.4286 - accuracy: 0.7390\n",
      "Epoch 12/20\n",
      "239/239 [==============================] - 0s 840us/step - loss: 0.4103 - accuracy: 0.7352\n",
      "Epoch 13/20\n",
      "239/239 [==============================] - 0s 869us/step - loss: 0.3846 - accuracy: 0.7335\n",
      "Epoch 14/20\n",
      "239/239 [==============================] - 0s 831us/step - loss: 0.3612 - accuracy: 0.7389\n",
      "Epoch 15/20\n",
      "239/239 [==============================] - 0s 838us/step - loss: 0.3404 - accuracy: 0.7397\n",
      "Epoch 16/20\n",
      "239/239 [==============================] - 0s 862us/step - loss: 0.3137 - accuracy: 0.7435\n",
      "Epoch 17/20\n",
      "239/239 [==============================] - 0s 810us/step - loss: 0.2976 - accuracy: 0.7426\n",
      "Epoch 18/20\n",
      "239/239 [==============================] - 0s 834us/step - loss: 0.2790 - accuracy: 0.7414\n",
      "Epoch 19/20\n",
      "239/239 [==============================] - 0s 842us/step - loss: 0.2675 - accuracy: 0.74130s - loss: 0.2694 - accuracy: 0.\n",
      "Epoch 20/20\n",
      "239/239 [==============================] - 0s 837us/step - loss: 0.2526 - accuracy: 0.7373\n"
     ]
    },
    {
     "data": {
      "text/plain": [
       "<keras.callbacks.History at 0x295ac1122b0>"
      ]
     },
     "execution_count": 82,
     "metadata": {},
     "output_type": "execute_result"
    }
   ],
   "source": [
    "sc_lstm.fit(x_train_scaled, y_train_t, epochs=20, batch_size=32)"
   ]
  },
  {
   "cell_type": "code",
   "execution_count": 83,
   "id": "f1ec2caa",
   "metadata": {},
   "outputs": [
    {
     "name": "stdout",
     "output_type": "stream",
     "text": [
      "239/239 [==============================] - 0s 661us/step - loss: 0.2433 - accuracy: 0.7384\n",
      "LSTM 스케일 train 정확도 : 0.738\n",
      "103/103 [==============================] - 0s 755us/step - loss: 0.2401 - accuracy: 0.7486\n",
      "LSTM 스케일 test  정확도 : 0.749\n"
     ]
    }
   ],
   "source": [
    "print(\"LSTM 스케일 train 정확도 : {0:.3f}\".format(sc_lstm.evaluate(x_train_scaled, y_train_t, batch_size=32)[1]))\n",
    "print(\"LSTM 스케일 test  정확도 : {0:.3f}\".format(sc_lstm.evaluate(x_test_scaled, y_test_t, batch_size=32)[1]))"
   ]
  },
  {
   "cell_type": "code",
   "execution_count": 84,
   "id": "8904e696",
   "metadata": {},
   "outputs": [
    {
     "data": {
      "text/plain": [
       "<matplotlib.collections.PathCollection at 0x295ad5f32b0>"
      ]
     },
     "execution_count": 84,
     "metadata": {},
     "output_type": "execute_result"
    },
    {
     "data": {
      "image/png": "[encoded data removed]",
      "text/plain": [
       "<Figure size 432x288 with 1 Axes>"
      ]
     },
     "metadata": {
      "needs_background": "light"
     },
     "output_type": "display_data"
    }
   ],
   "source": [
    "sc_lstm_train_pred = sc_lstm.predict(x_train_scaled, batch_size=30)\n",
    "plt.scatter(y_train, sc_lstm_train_pred)"
   ]
  },
  {
   "cell_type": "code",
   "execution_count": 85,
   "id": "d3d88d5b",
   "metadata": {},
   "outputs": [
    {
     "data": {
      "text/plain": [
       "<matplotlib.collections.PathCollection at 0x295ad63ed60>"
      ]
     },
     "execution_count": 85,
     "metadata": {},
     "output_type": "execute_result"
    },
    {
     "data": {
      "image/png": "[encoded data removed]",
      "text/plain": [
       "<Figure size 432x288 with 1 Axes>"
      ]
     },
     "metadata": {
      "needs_background": "light"
     },
     "output_type": "display_data"
    }
   ],
   "source": [
    "sc_lstm_test_pred = sc_lstm.predict(x_test_scaled, batch_size=30)\n",
    "plt.scatter(y_test, sc_lstm_test_pred)"
   ]
  },
  {
   "cell_type": "code",
   "execution_count": 86,
   "id": "15cc8d72",
   "metadata": {},
   "outputs": [
    {
     "name": "stdout",
     "output_type": "stream",
     "text": [
      "LSTM 스케일 train\n",
      " [[   0 2000]\n",
      " [   0 5646]]\n",
      "\n",
      "LSTM 스케일 test\n",
      " [[   0  824]\n",
      " [   0 2453]]\n"
     ]
    }
   ],
   "source": [
    "sc_LSTM_train_pred = np.round(sc_lstm_train_pred)\n",
    "sc_LSTM_test_pred = np.round(sc_lstm_test_pred)\n",
    "\n",
    "print(\"LSTM 스케일 train\\n\", confusion_matrix(y_train, sc_LSTM_train_pred))\n",
    "print()\n",
    "print(\"LSTM 스케일 test\\n\", confusion_matrix(y_test, sc_LSTM_test_pred))"
   ]
  },
  {
   "cell_type": "markdown",
   "id": "85479a57",
   "metadata": {},
   "source": [
    "# GRU\n"
   ]
  },
  {
   "cell_type": "markdown",
   "id": "cdb605c6",
   "metadata": {},
   "source": [
    "## 전체 사용"
   ]
  },
  {
   "cell_type": "code",
   "execution_count": 47,
   "id": "822f8c3e",
   "metadata": {},
   "outputs": [],
   "source": [
    "import tensorflow as tf \n",
    "y_train_tt = tf.keras.utils.to_categorical(y_train, num_classes=2)\n",
    "y_test_tt = tf.keras.utils.to_categorical(y_test, num_classes=2)"
   ]
  },
  {
   "cell_type": "code",
   "execution_count": 48,
   "id": "d8612e23",
   "metadata": {},
   "outputs": [
    {
     "name": "stdout",
     "output_type": "stream",
     "text": [
      "Model: \"sequential\"\n",
      "_________________________________________________________________\n",
      "Layer (type)                 Output Shape              Param #   \n",
      "=================================================================\n",
      "dense (Dense)                (None, 32)                480       \n",
      "_________________________________________________________________\n",
      "dense_1 (Dense)              (None, 1)                 33        \n",
      "=================================================================\n",
      "Total params: 513\n",
      "Trainable params: 513\n",
      "Non-trainable params: 0\n",
      "_________________________________________________________________\n"
     ]
    }
   ],
   "source": [
    "K.clear_session() #메모리 문제\n",
    "\n",
    "gru = Sequential()\n",
    "gru.add(Dense(32, activation='relu', input_dim=14))\n",
    "gru.add(Dense(1, activation='sigmoid'))\n",
    "gru.compile(optimizer='rmsprop', loss='binary_crossentropy',\n",
    "              metrics=['accuracy'] )#binary_crossentropy 이항분류때 사용\n",
    "gru.summary()"
   ]
  },
  {
   "cell_type": "code",
   "execution_count": 49,
   "id": "63934c34",
   "metadata": {},
   "outputs": [
    {
     "data": {
      "text/plain": [
       "<keras.callbacks.History at 0x295a6019730>"
      ]
     },
     "execution_count": 49,
     "metadata": {},
     "output_type": "execute_result"
    }
   ],
   "source": [
    "gru.fit(x_train, y_train, epochs=10, verbose=0)"
   ]
  },
  {
   "cell_type": "code",
   "execution_count": 50,
   "id": "4a11e3d5",
   "metadata": {
    "scrolled": true
   },
   "outputs": [
    {
     "name": "stdout",
     "output_type": "stream",
     "text": [
      "Epoch 1/20\n",
      "239/239 [==============================] - 0s 836us/step - loss: 466.0026 - accuracy: 0.6537\n",
      "WARNING:tensorflow:Early stopping conditioned on metric `val_loss` which is not available. Available metrics are: loss,accuracy\n",
      "Epoch 2/20\n",
      "239/239 [==============================] - 0s 840us/step - loss: 515.3065 - accuracy: 0.6358\n",
      "WARNING:tensorflow:Early stopping conditioned on metric `val_loss` which is not available. Available metrics are: loss,accuracy\n",
      "Epoch 3/20\n",
      "239/239 [==============================] - 0s 859us/step - loss: 475.7531 - accuracy: 0.6344\n",
      "WARNING:tensorflow:Early stopping conditioned on metric `val_loss` which is not available. Available metrics are: loss,accuracy\n",
      "Epoch 4/20\n",
      "239/239 [==============================] - 0s 827us/step - loss: 476.7592 - accuracy: 0.64100s - loss: 444.4012 - accuracy: 0.65\n",
      "WARNING:tensorflow:Early stopping conditioned on metric `val_loss` which is not available. Available metrics are: loss,accuracy\n",
      "Epoch 5/20\n",
      "239/239 [==============================] - 0s 830us/step - loss: 558.3505 - accuracy: 0.6431\n",
      "WARNING:tensorflow:Early stopping conditioned on metric `val_loss` which is not available. Available metrics are: loss,accuracy\n",
      "Epoch 6/20\n",
      "239/239 [==============================] - 0s 870us/step - loss: 577.3116 - accuracy: 0.6435\n",
      "WARNING:tensorflow:Early stopping conditioned on metric `val_loss` which is not available. Available metrics are: loss,accuracy\n",
      "Epoch 7/20\n",
      "239/239 [==============================] - 0s 870us/step - loss: 532.9867 - accuracy: 0.6347\n",
      "WARNING:tensorflow:Early stopping conditioned on metric `val_loss` which is not available. Available metrics are: loss,accuracy\n",
      "Epoch 8/20\n",
      "239/239 [==============================] - 0s 1ms/step - loss: 570.5377 - accuracy: 0.6288\n",
      "WARNING:tensorflow:Early stopping conditioned on metric `val_loss` which is not available. Available metrics are: loss,accuracy\n",
      "Epoch 9/20\n",
      "239/239 [==============================] - 0s 993us/step - loss: 561.7791 - accuracy: 0.6479\n",
      "WARNING:tensorflow:Early stopping conditioned on metric `val_loss` which is not available. Available metrics are: loss,accuracy\n",
      "Epoch 10/20\n",
      "239/239 [==============================] - 0s 909us/step - loss: 536.1779 - accuracy: 0.6385\n",
      "WARNING:tensorflow:Early stopping conditioned on metric `val_loss` which is not available. Available metrics are: loss,accuracy\n",
      "Epoch 11/20\n",
      "239/239 [==============================] - 0s 1ms/step - loss: 543.3790 - accuracy: 0.6445\n",
      "WARNING:tensorflow:Early stopping conditioned on metric `val_loss` which is not available. Available metrics are: loss,accuracy\n",
      "Epoch 12/20\n",
      "239/239 [==============================] - 0s 965us/step - loss: 485.4853 - accuracy: 0.6414\n",
      "WARNING:tensorflow:Early stopping conditioned on metric `val_loss` which is not available. Available metrics are: loss,accuracy\n",
      "Epoch 13/20\n",
      "239/239 [==============================] - 0s 920us/step - loss: 480.0461 - accuracy: 0.6575\n",
      "WARNING:tensorflow:Early stopping conditioned on metric `val_loss` which is not available. Available metrics are: loss,accuracy\n",
      "Epoch 14/20\n",
      "239/239 [==============================] - 0s 803us/step - loss: 494.2225 - accuracy: 0.6364\n",
      "WARNING:tensorflow:Early stopping conditioned on metric `val_loss` which is not available. Available metrics are: loss,accuracy\n",
      "Epoch 15/20\n",
      "239/239 [==============================] - 0s 814us/step - loss: 456.2832 - accuracy: 0.6487\n",
      "WARNING:tensorflow:Early stopping conditioned on metric `val_loss` which is not available. Available metrics are: loss,accuracy\n",
      "Epoch 16/20\n",
      "239/239 [==============================] - 0s 806us/step - loss: 453.0763 - accuracy: 0.6475\n",
      "WARNING:tensorflow:Early stopping conditioned on metric `val_loss` which is not available. Available metrics are: loss,accuracy\n",
      "Epoch 17/20\n",
      "239/239 [==============================] - 0s 792us/step - loss: 557.1212 - accuracy: 0.6504\n",
      "WARNING:tensorflow:Early stopping conditioned on metric `val_loss` which is not available. Available metrics are: loss,accuracy\n",
      "Epoch 18/20\n",
      "239/239 [==============================] - 0s 893us/step - loss: 448.3636 - accuracy: 0.6551\n",
      "WARNING:tensorflow:Early stopping conditioned on metric `val_loss` which is not available. Available metrics are: loss,accuracy\n",
      "Epoch 19/20\n",
      "239/239 [==============================] - ETA: 0s - loss: 491.2817 - accuracy: 0.64 - 0s 1ms/step - loss: 495.3800 - accuracy: 0.6460\n",
      "WARNING:tensorflow:Early stopping conditioned on metric `val_loss` which is not available. Available metrics are: loss,accuracy\n",
      "Epoch 20/20\n",
      "239/239 [==============================] - 0s 821us/step - loss: 462.9448 - accuracy: 0.6498\n",
      "WARNING:tensorflow:Early stopping conditioned on metric `val_loss` which is not available. Available metrics are: loss,accuracy\n"
     ]
    }
   ],
   "source": [
    "from tensorflow.python.keras.callbacks import EarlyStopping\n",
    "gru_early_stop = EarlyStopping(monitor='val_loss', patience=5, verbose=1)\n",
    "his=gru.fit(x_train, y_train, epochs=20,callbacks=[gru_early_stop])"
   ]
  },
  {
   "cell_type": "code",
   "execution_count": 51,
   "id": "25d493f6",
   "metadata": {},
   "outputs": [
    {
     "name": "stdout",
     "output_type": "stream",
     "text": [
      "255/255 [==============================] - 0s 809us/step - loss: 211.2544 - accuracy: 0.7592\n",
      "GRU 전체 train MSE : 0.759\n",
      "110/110 [==============================] - 0s 701us/step - loss: 190.6934 - accuracy: 0.7678\n",
      "GRU 전체 test  MSE : 0.768\n"
     ]
    }
   ],
   "source": [
    "print(\"GRU 전체 train MSE : {0:.3f}\".format(gru.evaluate(x_train, y_train, batch_size=30)[1]))\n",
    "print(\"GRU 전체 test  MSE : {0:.3f}\".format(gru.evaluate(x_test, y_test, batch_size=30)[1]))"
   ]
  },
  {
   "cell_type": "code",
   "execution_count": 52,
   "id": "646f018a",
   "metadata": {},
   "outputs": [
    {
     "data": {
      "text/plain": [
       "<matplotlib.collections.PathCollection at 0x295a6516760>"
      ]
     },
     "execution_count": 52,
     "metadata": {},
     "output_type": "execute_result"
    },
    {
     "data": {
      "image/png": "[encoded data removed]",
      "text/plain": [
       "<Figure size 432x288 with 1 Axes>"
      ]
     },
     "metadata": {
      "needs_background": "light"
     },
     "output_type": "display_data"
    }
   ],
   "source": [
    "#train 예측 시각화\n",
    "gru_train_pred = gru.predict(x_train, batch_size=30)\n",
    "plt.scatter(y_train, gru_train_pred)"
   ]
  },
  {
   "cell_type": "code",
   "execution_count": 53,
   "id": "53016e85",
   "metadata": {},
   "outputs": [
    {
     "data": {
      "text/plain": [
       "<matplotlib.collections.PathCollection at 0x295a658be80>"
      ]
     },
     "execution_count": 53,
     "metadata": {},
     "output_type": "execute_result"
    },
    {
     "data": {
      "image/png": "[encoded data removed]",
      "text/plain": [
       "<Figure size 432x288 with 1 Axes>"
      ]
     },
     "metadata": {
      "needs_background": "light"
     },
     "output_type": "display_data"
    }
   ],
   "source": [
    "gru_test_pred = gru.predict(x_test, batch_size=30)\n",
    "plt.scatter(y_test, gru_test_pred)"
   ]
  },
  {
   "cell_type": "code",
   "execution_count": 54,
   "id": "4f031830",
   "metadata": {},
   "outputs": [
    {
     "name": "stdout",
     "output_type": "stream",
     "text": [
      "GRU 스케일 train\n",
      " [[ 200 1800]\n",
      " [  41 5605]]\n",
      "\n",
      "GRU 스케일 test\n",
      " [[  93  731]\n",
      " [  30 2423]]\n"
     ]
    }
   ],
   "source": [
    "GRU_train_pred = np.round(gru_train_pred)\n",
    "GRU_test_pred = np.round(gru_test_pred)\n",
    "\n",
    "print(\"GRU 스케일 train\\n\", confusion_matrix(y_train, GRU_train_pred))\n",
    "print()\n",
    "print(\"GRU 스케일 test\\n\", confusion_matrix(y_test, GRU_test_pred))"
   ]
  },
  {
   "cell_type": "markdown",
   "id": "cbffa8a3",
   "metadata": {},
   "source": [
    "## 스케일된 피처"
   ]
  },
  {
   "cell_type": "code",
   "execution_count": 55,
   "id": "4cc3395e",
   "metadata": {},
   "outputs": [
    {
     "name": "stdout",
     "output_type": "stream",
     "text": [
      "Model: \"sequential_1\"\n",
      "_________________________________________________________________\n",
      "Layer (type)                 Output Shape              Param #   \n",
      "=================================================================\n",
      "gru (GRU)                    (None, 50)                7950      \n",
      "_________________________________________________________________\n",
      "dense_2 (Dense)              (None, 1)                 51        \n",
      "=================================================================\n",
      "Total params: 8,001\n",
      "Trainable params: 8,001\n",
      "Non-trainable params: 0\n",
      "_________________________________________________________________\n"
     ]
    }
   ],
   "source": [
    "from keras.layers import GRU\n",
    "sc_gru = Sequential()\n",
    "sc_gru.add(GRU(50, input_shape=(x_train_scaled.shape[1], 1)))\n",
    "sc_gru.add(Dense(1))\n",
    "sc_gru.compile(loss='mean_squared_error', optimizer='adam') \n",
    "sc_gru.summary()"
   ]
  },
  {
   "cell_type": "code",
   "execution_count": 56,
   "id": "58ff37e2",
   "metadata": {
    "scrolled": true
   },
   "outputs": [
    {
     "name": "stdout",
     "output_type": "stream",
     "text": [
      "Epoch 1/30\n",
      "8/8 [==============================] - 6s 77ms/step - loss: 0.2076\n",
      "WARNING:tensorflow:Early stopping conditioned on metric `val_loss` which is not available. Available metrics are: loss\n",
      "Epoch 2/30\n",
      "8/8 [==============================] - 1s 62ms/step - loss: 0.1933\n",
      "WARNING:tensorflow:Early stopping conditioned on metric `val_loss` which is not available. Available metrics are: loss\n",
      "Epoch 3/30\n",
      "8/8 [==============================] - 0s 61ms/step - loss: 0.1861\n",
      "WARNING:tensorflow:Early stopping conditioned on metric `val_loss` which is not available. Available metrics are: loss\n",
      "Epoch 4/30\n",
      "8/8 [==============================] - 1s 62ms/step - loss: 0.1792\n",
      "WARNING:tensorflow:Early stopping conditioned on metric `val_loss` which is not available. Available metrics are: loss\n",
      "Epoch 5/30\n",
      "8/8 [==============================] - 0s 59ms/step - loss: 0.1716\n",
      "WARNING:tensorflow:Early stopping conditioned on metric `val_loss` which is not available. Available metrics are: loss\n",
      "Epoch 6/30\n",
      "8/8 [==============================] - 1s 67ms/step - loss: 0.1593\n",
      "WARNING:tensorflow:Early stopping conditioned on metric `val_loss` which is not available. Available metrics are: loss\n",
      "Epoch 7/30\n",
      "8/8 [==============================] - 1s 74ms/step - loss: 0.1444\n",
      "WARNING:tensorflow:Early stopping conditioned on metric `val_loss` which is not available. Available metrics are: loss\n",
      "Epoch 8/30\n",
      "8/8 [==============================] - 1s 71ms/step - loss: 0.1252\n",
      "WARNING:tensorflow:Early stopping conditioned on metric `val_loss` which is not available. Available metrics are: loss\n",
      "Epoch 9/30\n",
      "8/8 [==============================] - 1s 63ms/step - loss: 0.1119\n",
      "WARNING:tensorflow:Early stopping conditioned on metric `val_loss` which is not available. Available metrics are: loss\n",
      "Epoch 10/30\n",
      "8/8 [==============================] - 1s 62ms/step - loss: 0.0944\n",
      "WARNING:tensorflow:Early stopping conditioned on metric `val_loss` which is not available. Available metrics are: loss\n",
      "Epoch 11/30\n",
      "8/8 [==============================] - 1s 69ms/step - loss: 0.0833\n",
      "WARNING:tensorflow:Early stopping conditioned on metric `val_loss` which is not available. Available metrics are: loss\n",
      "Epoch 12/30\n",
      "8/8 [==============================] - 1s 66ms/step - loss: 0.0704\n",
      "WARNING:tensorflow:Early stopping conditioned on metric `val_loss` which is not available. Available metrics are: loss\n",
      "Epoch 13/30\n",
      "8/8 [==============================] - 1s 68ms/step - loss: 0.0673\n",
      "WARNING:tensorflow:Early stopping conditioned on metric `val_loss` which is not available. Available metrics are: loss\n",
      "Epoch 14/30\n",
      "8/8 [==============================] - 0s 60ms/step - loss: 0.0616\n",
      "WARNING:tensorflow:Early stopping conditioned on metric `val_loss` which is not available. Available metrics are: loss\n",
      "Epoch 15/30\n",
      "8/8 [==============================] - 1s 67ms/step - loss: 0.0596\n",
      "WARNING:tensorflow:Early stopping conditioned on metric `val_loss` which is not available. Available metrics are: loss\n",
      "Epoch 16/30\n",
      "8/8 [==============================] - 1s 63ms/step - loss: 0.0595\n",
      "WARNING:tensorflow:Early stopping conditioned on metric `val_loss` which is not available. Available metrics are: loss\n",
      "Epoch 17/30\n",
      "8/8 [==============================] - 1s 63ms/step - loss: 0.0551\n",
      "WARNING:tensorflow:Early stopping conditioned on metric `val_loss` which is not available. Available metrics are: loss\n",
      "Epoch 18/30\n",
      "8/8 [==============================] - 0s 59ms/step - loss: 0.0556\n",
      "WARNING:tensorflow:Early stopping conditioned on metric `val_loss` which is not available. Available metrics are: loss\n",
      "Epoch 19/30\n",
      "8/8 [==============================] - 0s 60ms/step - loss: 0.0530\n",
      "WARNING:tensorflow:Early stopping conditioned on metric `val_loss` which is not available. Available metrics are: loss\n",
      "Epoch 20/30\n",
      "8/8 [==============================] - 1s 62ms/step - loss: 0.0518\n",
      "WARNING:tensorflow:Early stopping conditioned on metric `val_loss` which is not available. Available metrics are: loss\n",
      "Epoch 21/30\n",
      "8/8 [==============================] - 1s 63ms/step - loss: 0.0508\n",
      "WARNING:tensorflow:Early stopping conditioned on metric `val_loss` which is not available. Available metrics are: loss\n",
      "Epoch 22/30\n",
      "8/8 [==============================] - 0s 61ms/step - loss: 0.0478\n",
      "WARNING:tensorflow:Early stopping conditioned on metric `val_loss` which is not available. Available metrics are: loss\n",
      "Epoch 23/30\n",
      "8/8 [==============================] - 1s 65ms/step - loss: 0.0462\n",
      "WARNING:tensorflow:Early stopping conditioned on metric `val_loss` which is not available. Available metrics are: loss\n",
      "Epoch 24/30\n",
      "8/8 [==============================] - 1s 62ms/step - loss: 0.0446\n",
      "WARNING:tensorflow:Early stopping conditioned on metric `val_loss` which is not available. Available metrics are: loss\n",
      "Epoch 25/30\n",
      "8/8 [==============================] - 1s 69ms/step - loss: 0.0427\n",
      "WARNING:tensorflow:Early stopping conditioned on metric `val_loss` which is not available. Available metrics are: loss\n",
      "Epoch 26/30\n",
      "8/8 [==============================] - 1s 62ms/step - loss: 0.0421\n",
      "WARNING:tensorflow:Early stopping conditioned on metric `val_loss` which is not available. Available metrics are: loss\n",
      "Epoch 27/30\n",
      "8/8 [==============================] - 1s 70ms/step - loss: 0.0394\n",
      "WARNING:tensorflow:Early stopping conditioned on metric `val_loss` which is not available. Available metrics are: loss\n",
      "Epoch 28/30\n",
      "8/8 [==============================] - 0s 62ms/step - loss: 0.0370\n",
      "WARNING:tensorflow:Early stopping conditioned on metric `val_loss` which is not available. Available metrics are: loss\n",
      "Epoch 29/30\n",
      "8/8 [==============================] - 1s 63ms/step - loss: 0.0337\n",
      "WARNING:tensorflow:Early stopping conditioned on metric `val_loss` which is not available. Available metrics are: loss\n",
      "Epoch 30/30\n",
      "8/8 [==============================] - 1s 67ms/step - loss: 0.0331\n",
      "WARNING:tensorflow:Early stopping conditioned on metric `val_loss` which is not available. Available metrics are: loss\n"
     ]
    },
    {
     "data": {
      "text/plain": [
       "<keras.callbacks.History at 0x295a4e884f0>"
      ]
     },
     "execution_count": 56,
     "metadata": {},
     "output_type": "execute_result"
    }
   ],
   "source": [
    "sc_gru_early_stop = EarlyStopping(monitor='val_loss', patience=5, verbose=1)\n",
    "sc_gru.fit(x_train_t, y_train, epochs=30, batch_size=1024, verbose=1, callbacks=[sc_gru_early_stop])"
   ]
  },
  {
   "cell_type": "code",
   "execution_count": 57,
   "id": "fd5c3d0d",
   "metadata": {
    "scrolled": true
   },
   "outputs": [
    {
     "ename": "ValueError",
     "evalue": "in user code:\n\n    C:\\Users\\yhg31\\Anaconda3\\lib\\site-packages\\keras\\engine\\training.py:1298 test_function  *\n        return step_function(self, iterator)\n    C:\\Users\\yhg31\\Anaconda3\\lib\\site-packages\\keras\\engine\\training.py:1282 run_step  *\n        outputs = model.test_step(data)\n    C:\\Users\\yhg31\\Anaconda3\\lib\\site-packages\\keras\\engine\\training.py:1241 test_step  *\n        y_pred = self(x, training=False)\n    C:\\Users\\yhg31\\Anaconda3\\lib\\site-packages\\keras\\engine\\base_layer.py:989 __call__  *\n        input_spec.assert_input_compatibility(self.input_spec, inputs, self.name)\n    C:\\Users\\yhg31\\Anaconda3\\lib\\site-packages\\keras\\engine\\input_spec.py:248 assert_input_compatibility  *\n        raise ValueError(\n\n    ValueError: Input 0 of layer sequential is incompatible with the layer: expected axis -1 of input shape to have value 14 but received input with shape (None, 14, 1)\n",
     "output_type": "error",
     "traceback": [
      "\u001b[1;31m---------------------------------------------------------------------------\u001b[0m",
      "\u001b[1;31mValueError\u001b[0m                                Traceback (most recent call last)",
      "\u001b[1;32m<ipython-input-57-76dea2d20330>\u001b[0m in \u001b[0;36m<module>\u001b[1;34m\u001b[0m\n\u001b[1;32m----> 1\u001b[1;33m \u001b[0mprint\u001b[0m\u001b[1;33m(\u001b[0m\u001b[1;34m\"GRU 스케일 train MSE : {0:.3f}\"\u001b[0m\u001b[1;33m.\u001b[0m\u001b[0mformat\u001b[0m\u001b[1;33m(\u001b[0m\u001b[0mgru\u001b[0m\u001b[1;33m.\u001b[0m\u001b[0mevaluate\u001b[0m\u001b[1;33m(\u001b[0m\u001b[0mx_train_t\u001b[0m\u001b[1;33m,\u001b[0m \u001b[0my_train\u001b[0m\u001b[1;33m,\u001b[0m \u001b[0mbatch_size\u001b[0m\u001b[1;33m=\u001b[0m\u001b[1;36m30\u001b[0m\u001b[1;33m)\u001b[0m\u001b[1;33m)\u001b[0m\u001b[1;33m)\u001b[0m\u001b[1;33m\u001b[0m\u001b[1;33m\u001b[0m\u001b[0m\n\u001b[0m\u001b[0;32m      2\u001b[0m \u001b[0mprint\u001b[0m\u001b[1;33m(\u001b[0m\u001b[1;34m\"GRU 스케일 test  MSE : {0:.3f}\"\u001b[0m\u001b[1;33m.\u001b[0m\u001b[0mformat\u001b[0m\u001b[1;33m(\u001b[0m\u001b[0mgru\u001b[0m\u001b[1;33m.\u001b[0m\u001b[0mevaluate\u001b[0m\u001b[1;33m(\u001b[0m\u001b[0mx_test_t\u001b[0m\u001b[1;33m,\u001b[0m \u001b[0my_test\u001b[0m\u001b[1;33m,\u001b[0m \u001b[0mbatch_size\u001b[0m\u001b[1;33m=\u001b[0m\u001b[1;36m30\u001b[0m\u001b[1;33m)\u001b[0m\u001b[1;33m)\u001b[0m\u001b[1;33m)\u001b[0m\u001b[1;33m\u001b[0m\u001b[1;33m\u001b[0m\u001b[0m\n",
      "\u001b[1;32m~\\Anaconda3\\lib\\site-packages\\keras\\engine\\training.py\u001b[0m in \u001b[0;36mevaluate\u001b[1;34m(self, x, y, batch_size, verbose, sample_weight, steps, callbacks, max_queue_size, workers, use_multiprocessing, return_dict, **kwargs)\u001b[0m\n\u001b[0;32m   1462\u001b[0m             \u001b[1;32mwith\u001b[0m \u001b[0mtf\u001b[0m\u001b[1;33m.\u001b[0m\u001b[0mprofiler\u001b[0m\u001b[1;33m.\u001b[0m\u001b[0mexperimental\u001b[0m\u001b[1;33m.\u001b[0m\u001b[0mTrace\u001b[0m\u001b[1;33m(\u001b[0m\u001b[1;34m'test'\u001b[0m\u001b[1;33m,\u001b[0m \u001b[0mstep_num\u001b[0m\u001b[1;33m=\u001b[0m\u001b[0mstep\u001b[0m\u001b[1;33m,\u001b[0m \u001b[0m_r\u001b[0m\u001b[1;33m=\u001b[0m\u001b[1;36m1\u001b[0m\u001b[1;33m)\u001b[0m\u001b[1;33m:\u001b[0m\u001b[1;33m\u001b[0m\u001b[1;33m\u001b[0m\u001b[0m\n\u001b[0;32m   1463\u001b[0m               \u001b[0mcallbacks\u001b[0m\u001b[1;33m.\u001b[0m\u001b[0mon_test_batch_begin\u001b[0m\u001b[1;33m(\u001b[0m\u001b[0mstep\u001b[0m\u001b[1;33m)\u001b[0m\u001b[1;33m\u001b[0m\u001b[1;33m\u001b[0m\u001b[0m\n\u001b[1;32m-> 1464\u001b[1;33m               \u001b[0mtmp_logs\u001b[0m \u001b[1;33m=\u001b[0m \u001b[0mself\u001b[0m\u001b[1;33m.\u001b[0m\u001b[0mtest_function\u001b[0m\u001b[1;33m(\u001b[0m\u001b[0miterator\u001b[0m\u001b[1;33m)\u001b[0m\u001b[1;33m\u001b[0m\u001b[1;33m\u001b[0m\u001b[0m\n\u001b[0m\u001b[0;32m   1465\u001b[0m               \u001b[1;32mif\u001b[0m \u001b[0mdata_handler\u001b[0m\u001b[1;33m.\u001b[0m\u001b[0mshould_sync\u001b[0m\u001b[1;33m:\u001b[0m\u001b[1;33m\u001b[0m\u001b[1;33m\u001b[0m\u001b[0m\n\u001b[0;32m   1466\u001b[0m                 \u001b[0mcontext\u001b[0m\u001b[1;33m.\u001b[0m\u001b[0masync_wait\u001b[0m\u001b[1;33m(\u001b[0m\u001b[1;33m)\u001b[0m\u001b[1;33m\u001b[0m\u001b[1;33m\u001b[0m\u001b[0m\n",
      "\u001b[1;32m~\\Anaconda3\\lib\\site-packages\\tensorflow\\python\\eager\\def_function.py\u001b[0m in \u001b[0;36m__call__\u001b[1;34m(self, *args, **kwds)\u001b[0m\n\u001b[0;32m    887\u001b[0m \u001b[1;33m\u001b[0m\u001b[0m\n\u001b[0;32m    888\u001b[0m       \u001b[1;32mwith\u001b[0m \u001b[0mOptionalXlaContext\u001b[0m\u001b[1;33m(\u001b[0m\u001b[0mself\u001b[0m\u001b[1;33m.\u001b[0m\u001b[0m_jit_compile\u001b[0m\u001b[1;33m)\u001b[0m\u001b[1;33m:\u001b[0m\u001b[1;33m\u001b[0m\u001b[1;33m\u001b[0m\u001b[0m\n\u001b[1;32m--> 889\u001b[1;33m         \u001b[0mresult\u001b[0m \u001b[1;33m=\u001b[0m \u001b[0mself\u001b[0m\u001b[1;33m.\u001b[0m\u001b[0m_call\u001b[0m\u001b[1;33m(\u001b[0m\u001b[1;33m*\u001b[0m\u001b[0margs\u001b[0m\u001b[1;33m,\u001b[0m \u001b[1;33m**\u001b[0m\u001b[0mkwds\u001b[0m\u001b[1;33m)\u001b[0m\u001b[1;33m\u001b[0m\u001b[1;33m\u001b[0m\u001b[0m\n\u001b[0m\u001b[0;32m    890\u001b[0m \u001b[1;33m\u001b[0m\u001b[0m\n\u001b[0;32m    891\u001b[0m       \u001b[0mnew_tracing_count\u001b[0m \u001b[1;33m=\u001b[0m \u001b[0mself\u001b[0m\u001b[1;33m.\u001b[0m\u001b[0mexperimental_get_tracing_count\u001b[0m\u001b[1;33m(\u001b[0m\u001b[1;33m)\u001b[0m\u001b[1;33m\u001b[0m\u001b[1;33m\u001b[0m\u001b[0m\n",
      "\u001b[1;32m~\\Anaconda3\\lib\\site-packages\\tensorflow\\python\\eager\\def_function.py\u001b[0m in \u001b[0;36m_call\u001b[1;34m(self, *args, **kwds)\u001b[0m\n\u001b[0;32m    922\u001b[0m       \u001b[1;31m# In this case we have not created variables on the first call. So we can\u001b[0m\u001b[1;33m\u001b[0m\u001b[1;33m\u001b[0m\u001b[1;33m\u001b[0m\u001b[0m\n\u001b[0;32m    923\u001b[0m       \u001b[1;31m# run the first trace but we should fail if variables are created.\u001b[0m\u001b[1;33m\u001b[0m\u001b[1;33m\u001b[0m\u001b[1;33m\u001b[0m\u001b[0m\n\u001b[1;32m--> 924\u001b[1;33m       \u001b[0mresults\u001b[0m \u001b[1;33m=\u001b[0m \u001b[0mself\u001b[0m\u001b[1;33m.\u001b[0m\u001b[0m_stateful_fn\u001b[0m\u001b[1;33m(\u001b[0m\u001b[1;33m*\u001b[0m\u001b[0margs\u001b[0m\u001b[1;33m,\u001b[0m \u001b[1;33m**\u001b[0m\u001b[0mkwds\u001b[0m\u001b[1;33m)\u001b[0m\u001b[1;33m\u001b[0m\u001b[1;33m\u001b[0m\u001b[0m\n\u001b[0m\u001b[0;32m    925\u001b[0m       \u001b[1;32mif\u001b[0m \u001b[0mself\u001b[0m\u001b[1;33m.\u001b[0m\u001b[0m_created_variables\u001b[0m\u001b[1;33m:\u001b[0m\u001b[1;33m\u001b[0m\u001b[1;33m\u001b[0m\u001b[0m\n\u001b[0;32m    926\u001b[0m         raise ValueError(\"Creating variables on a non-first call to a function\"\n",
      "\u001b[1;32m~\\Anaconda3\\lib\\site-packages\\tensorflow\\python\\eager\\function.py\u001b[0m in \u001b[0;36m__call__\u001b[1;34m(self, *args, **kwargs)\u001b[0m\n\u001b[0;32m   3020\u001b[0m     \u001b[1;32mwith\u001b[0m \u001b[0mself\u001b[0m\u001b[1;33m.\u001b[0m\u001b[0m_lock\u001b[0m\u001b[1;33m:\u001b[0m\u001b[1;33m\u001b[0m\u001b[1;33m\u001b[0m\u001b[0m\n\u001b[0;32m   3021\u001b[0m       (graph_function,\n\u001b[1;32m-> 3022\u001b[1;33m        filtered_flat_args) = self._maybe_define_function(args, kwargs)\n\u001b[0m\u001b[0;32m   3023\u001b[0m     return graph_function._call_flat(\n\u001b[0;32m   3024\u001b[0m         filtered_flat_args, captured_inputs=graph_function.captured_inputs)  # pylint: disable=protected-access\n",
      "\u001b[1;32m~\\Anaconda3\\lib\\site-packages\\tensorflow\\python\\eager\\function.py\u001b[0m in \u001b[0;36m_maybe_define_function\u001b[1;34m(self, args, kwargs)\u001b[0m\n\u001b[0;32m   3438\u001b[0m               \u001b[0mself\u001b[0m\u001b[1;33m.\u001b[0m\u001b[0minput_signature\u001b[0m \u001b[1;32mis\u001b[0m \u001b[1;32mNone\u001b[0m \u001b[1;32mand\u001b[0m\u001b[1;33m\u001b[0m\u001b[1;33m\u001b[0m\u001b[0m\n\u001b[0;32m   3439\u001b[0m               call_context_key in self._function_cache.missed):\n\u001b[1;32m-> 3440\u001b[1;33m             return self._define_function_with_shape_relaxation(\n\u001b[0m\u001b[0;32m   3441\u001b[0m                 args, kwargs, flat_args, filtered_flat_args, cache_key_context)\n\u001b[0;32m   3442\u001b[0m \u001b[1;33m\u001b[0m\u001b[0m\n",
      "\u001b[1;32m~\\Anaconda3\\lib\\site-packages\\tensorflow\\python\\eager\\function.py\u001b[0m in \u001b[0;36m_define_function_with_shape_relaxation\u001b[1;34m(self, args, kwargs, flat_args, filtered_flat_args, cache_key_context)\u001b[0m\n\u001b[0;32m   3360\u001b[0m           expand_composites=True)\n\u001b[0;32m   3361\u001b[0m \u001b[1;33m\u001b[0m\u001b[0m\n\u001b[1;32m-> 3362\u001b[1;33m     graph_function = self._create_graph_function(\n\u001b[0m\u001b[0;32m   3363\u001b[0m         args, kwargs, override_flat_arg_shapes=relaxed_arg_shapes)\n\u001b[0;32m   3364\u001b[0m     \u001b[0mself\u001b[0m\u001b[1;33m.\u001b[0m\u001b[0m_function_cache\u001b[0m\u001b[1;33m.\u001b[0m\u001b[0marg_relaxed\u001b[0m\u001b[1;33m[\u001b[0m\u001b[0mrank_only_cache_key\u001b[0m\u001b[1;33m]\u001b[0m \u001b[1;33m=\u001b[0m \u001b[0mgraph_function\u001b[0m\u001b[1;33m\u001b[0m\u001b[1;33m\u001b[0m\u001b[0m\n",
      "\u001b[1;32m~\\Anaconda3\\lib\\site-packages\\tensorflow\\python\\eager\\function.py\u001b[0m in \u001b[0;36m_create_graph_function\u001b[1;34m(self, args, kwargs, override_flat_arg_shapes)\u001b[0m\n\u001b[0;32m   3277\u001b[0m     \u001b[0marg_names\u001b[0m \u001b[1;33m=\u001b[0m \u001b[0mbase_arg_names\u001b[0m \u001b[1;33m+\u001b[0m \u001b[0mmissing_arg_names\u001b[0m\u001b[1;33m\u001b[0m\u001b[1;33m\u001b[0m\u001b[0m\n\u001b[0;32m   3278\u001b[0m     graph_function = ConcreteFunction(\n\u001b[1;32m-> 3279\u001b[1;33m         func_graph_module.func_graph_from_py_func(\n\u001b[0m\u001b[0;32m   3280\u001b[0m             \u001b[0mself\u001b[0m\u001b[1;33m.\u001b[0m\u001b[0m_name\u001b[0m\u001b[1;33m,\u001b[0m\u001b[1;33m\u001b[0m\u001b[1;33m\u001b[0m\u001b[0m\n\u001b[0;32m   3281\u001b[0m             \u001b[0mself\u001b[0m\u001b[1;33m.\u001b[0m\u001b[0m_python_function\u001b[0m\u001b[1;33m,\u001b[0m\u001b[1;33m\u001b[0m\u001b[1;33m\u001b[0m\u001b[0m\n",
      "\u001b[1;32m~\\Anaconda3\\lib\\site-packages\\tensorflow\\python\\framework\\func_graph.py\u001b[0m in \u001b[0;36mfunc_graph_from_py_func\u001b[1;34m(name, python_func, args, kwargs, signature, func_graph, autograph, autograph_options, add_control_dependencies, arg_names, op_return_value, collections, capture_by_value, override_flat_arg_shapes)\u001b[0m\n\u001b[0;32m    997\u001b[0m         \u001b[0m_\u001b[0m\u001b[1;33m,\u001b[0m \u001b[0moriginal_func\u001b[0m \u001b[1;33m=\u001b[0m \u001b[0mtf_decorator\u001b[0m\u001b[1;33m.\u001b[0m\u001b[0munwrap\u001b[0m\u001b[1;33m(\u001b[0m\u001b[0mpython_func\u001b[0m\u001b[1;33m)\u001b[0m\u001b[1;33m\u001b[0m\u001b[1;33m\u001b[0m\u001b[0m\n\u001b[0;32m    998\u001b[0m \u001b[1;33m\u001b[0m\u001b[0m\n\u001b[1;32m--> 999\u001b[1;33m       \u001b[0mfunc_outputs\u001b[0m \u001b[1;33m=\u001b[0m \u001b[0mpython_func\u001b[0m\u001b[1;33m(\u001b[0m\u001b[1;33m*\u001b[0m\u001b[0mfunc_args\u001b[0m\u001b[1;33m,\u001b[0m \u001b[1;33m**\u001b[0m\u001b[0mfunc_kwargs\u001b[0m\u001b[1;33m)\u001b[0m\u001b[1;33m\u001b[0m\u001b[1;33m\u001b[0m\u001b[0m\n\u001b[0m\u001b[0;32m   1000\u001b[0m \u001b[1;33m\u001b[0m\u001b[0m\n\u001b[0;32m   1001\u001b[0m       \u001b[1;31m# invariant: `func_outputs` contains only Tensors, CompositeTensors,\u001b[0m\u001b[1;33m\u001b[0m\u001b[1;33m\u001b[0m\u001b[1;33m\u001b[0m\u001b[0m\n",
      "\u001b[1;32m~\\Anaconda3\\lib\\site-packages\\tensorflow\\python\\eager\\def_function.py\u001b[0m in \u001b[0;36mwrapped_fn\u001b[1;34m(*args, **kwds)\u001b[0m\n\u001b[0;32m    670\u001b[0m         \u001b[1;31m# the function a weak reference to itself to avoid a reference cycle.\u001b[0m\u001b[1;33m\u001b[0m\u001b[1;33m\u001b[0m\u001b[1;33m\u001b[0m\u001b[0m\n\u001b[0;32m    671\u001b[0m         \u001b[1;32mwith\u001b[0m \u001b[0mOptionalXlaContext\u001b[0m\u001b[1;33m(\u001b[0m\u001b[0mcompile_with_xla\u001b[0m\u001b[1;33m)\u001b[0m\u001b[1;33m:\u001b[0m\u001b[1;33m\u001b[0m\u001b[1;33m\u001b[0m\u001b[0m\n\u001b[1;32m--> 672\u001b[1;33m           \u001b[0mout\u001b[0m \u001b[1;33m=\u001b[0m \u001b[0mweak_wrapped_fn\u001b[0m\u001b[1;33m(\u001b[0m\u001b[1;33m)\u001b[0m\u001b[1;33m.\u001b[0m\u001b[0m__wrapped__\u001b[0m\u001b[1;33m(\u001b[0m\u001b[1;33m*\u001b[0m\u001b[0margs\u001b[0m\u001b[1;33m,\u001b[0m \u001b[1;33m**\u001b[0m\u001b[0mkwds\u001b[0m\u001b[1;33m)\u001b[0m\u001b[1;33m\u001b[0m\u001b[1;33m\u001b[0m\u001b[0m\n\u001b[0m\u001b[0;32m    673\u001b[0m         \u001b[1;32mreturn\u001b[0m \u001b[0mout\u001b[0m\u001b[1;33m\u001b[0m\u001b[1;33m\u001b[0m\u001b[0m\n\u001b[0;32m    674\u001b[0m \u001b[1;33m\u001b[0m\u001b[0m\n",
      "\u001b[1;32m~\\Anaconda3\\lib\\site-packages\\tensorflow\\python\\framework\\func_graph.py\u001b[0m in \u001b[0;36mwrapper\u001b[1;34m(*args, **kwargs)\u001b[0m\n\u001b[0;32m    984\u001b[0m           \u001b[1;32mexcept\u001b[0m \u001b[0mException\u001b[0m \u001b[1;32mas\u001b[0m \u001b[0me\u001b[0m\u001b[1;33m:\u001b[0m  \u001b[1;31m# pylint:disable=broad-except\u001b[0m\u001b[1;33m\u001b[0m\u001b[1;33m\u001b[0m\u001b[0m\n\u001b[0;32m    985\u001b[0m             \u001b[1;32mif\u001b[0m \u001b[0mhasattr\u001b[0m\u001b[1;33m(\u001b[0m\u001b[0me\u001b[0m\u001b[1;33m,\u001b[0m \u001b[1;34m\"ag_error_metadata\"\u001b[0m\u001b[1;33m)\u001b[0m\u001b[1;33m:\u001b[0m\u001b[1;33m\u001b[0m\u001b[1;33m\u001b[0m\u001b[0m\n\u001b[1;32m--> 986\u001b[1;33m               \u001b[1;32mraise\u001b[0m \u001b[0me\u001b[0m\u001b[1;33m.\u001b[0m\u001b[0mag_error_metadata\u001b[0m\u001b[1;33m.\u001b[0m\u001b[0mto_exception\u001b[0m\u001b[1;33m(\u001b[0m\u001b[0me\u001b[0m\u001b[1;33m)\u001b[0m\u001b[1;33m\u001b[0m\u001b[1;33m\u001b[0m\u001b[0m\n\u001b[0m\u001b[0;32m    987\u001b[0m             \u001b[1;32melse\u001b[0m\u001b[1;33m:\u001b[0m\u001b[1;33m\u001b[0m\u001b[1;33m\u001b[0m\u001b[0m\n\u001b[0;32m    988\u001b[0m               \u001b[1;32mraise\u001b[0m\u001b[1;33m\u001b[0m\u001b[1;33m\u001b[0m\u001b[0m\n",
      "\u001b[1;31mValueError\u001b[0m: in user code:\n\n    C:\\Users\\yhg31\\Anaconda3\\lib\\site-packages\\keras\\engine\\training.py:1298 test_function  *\n        return step_function(self, iterator)\n    C:\\Users\\yhg31\\Anaconda3\\lib\\site-packages\\keras\\engine\\training.py:1282 run_step  *\n        outputs = model.test_step(data)\n    C:\\Users\\yhg31\\Anaconda3\\lib\\site-packages\\keras\\engine\\training.py:1241 test_step  *\n        y_pred = self(x, training=False)\n    C:\\Users\\yhg31\\Anaconda3\\lib\\site-packages\\keras\\engine\\base_layer.py:989 __call__  *\n        input_spec.assert_input_compatibility(self.input_spec, inputs, self.name)\n    C:\\Users\\yhg31\\Anaconda3\\lib\\site-packages\\keras\\engine\\input_spec.py:248 assert_input_compatibility  *\n        raise ValueError(\n\n    ValueError: Input 0 of layer sequential is incompatible with the layer: expected axis -1 of input shape to have value 14 but received input with shape (None, 14, 1)\n"
     ]
    }
   ],
   "source": [
    "print(\"GRU 스케일 train MSE : {0:.3f}\".format(gru.evaluate(x_train_t, y_train, batch_size=30)))\n",
    "print(\"GRU 스케일 test  MSE : {0:.3f}\".format(gru.evaluate(x_test_t, y_test, batch_size=30)))"
   ]
  },
  {
   "cell_type": "code",
   "execution_count": 58,
   "id": "fa1721cd",
   "metadata": {},
   "outputs": [
    {
     "ename": "NameError",
     "evalue": "name 'x_train_T' is not defined",
     "output_type": "error",
     "traceback": [
      "\u001b[1;31m---------------------------------------------------------------------------\u001b[0m",
      "\u001b[1;31mNameError\u001b[0m                                 Traceback (most recent call last)",
      "\u001b[1;32m<ipython-input-58-9af8961d1613>\u001b[0m in \u001b[0;36m<module>\u001b[1;34m\u001b[0m\n\u001b[1;32m----> 1\u001b[1;33m \u001b[0msc_gru_train_pred\u001b[0m \u001b[1;33m=\u001b[0m \u001b[0msc_gru\u001b[0m\u001b[1;33m.\u001b[0m\u001b[0mpredict\u001b[0m\u001b[1;33m(\u001b[0m\u001b[0mx_train_T\u001b[0m\u001b[1;33m,\u001b[0m \u001b[0mbatch_size\u001b[0m\u001b[1;33m=\u001b[0m\u001b[1;36m30\u001b[0m\u001b[1;33m)\u001b[0m\u001b[1;33m\u001b[0m\u001b[1;33m\u001b[0m\u001b[0m\n\u001b[0m\u001b[0;32m      2\u001b[0m \u001b[0mplt\u001b[0m\u001b[1;33m.\u001b[0m\u001b[0mscatter\u001b[0m\u001b[1;33m(\u001b[0m\u001b[0my_train\u001b[0m\u001b[1;33m,\u001b[0m \u001b[0msc_gru_train_pred\u001b[0m\u001b[1;33m)\u001b[0m\u001b[1;33m\u001b[0m\u001b[1;33m\u001b[0m\u001b[0m\n",
      "\u001b[1;31mNameError\u001b[0m: name 'x_train_T' is not defined"
     ]
    }
   ],
   "source": [
    "sc_gru_train_pred = sc_gru.predict(x_train_T, batch_size=30)\n",
    "plt.scatter(y_train, sc_gru_train_pred)"
   ]
  },
  {
   "cell_type": "code",
   "execution_count": 59,
   "id": "16c355ef",
   "metadata": {},
   "outputs": [
    {
     "ename": "NameError",
     "evalue": "name 'x_test_T' is not defined",
     "output_type": "error",
     "traceback": [
      "\u001b[1;31m---------------------------------------------------------------------------\u001b[0m",
      "\u001b[1;31mNameError\u001b[0m                                 Traceback (most recent call last)",
      "\u001b[1;32m<ipython-input-59-7bcde2cee43b>\u001b[0m in \u001b[0;36m<module>\u001b[1;34m\u001b[0m\n\u001b[1;32m----> 1\u001b[1;33m \u001b[0msc_gru_test_pred\u001b[0m \u001b[1;33m=\u001b[0m \u001b[0msc_gru\u001b[0m\u001b[1;33m.\u001b[0m\u001b[0mpredict\u001b[0m\u001b[1;33m(\u001b[0m\u001b[0mx_test_T\u001b[0m\u001b[1;33m,\u001b[0m \u001b[0mbatch_size\u001b[0m\u001b[1;33m=\u001b[0m\u001b[1;36m30\u001b[0m\u001b[1;33m)\u001b[0m\u001b[1;33m\u001b[0m\u001b[1;33m\u001b[0m\u001b[0m\n\u001b[0m\u001b[0;32m      2\u001b[0m \u001b[0mplt\u001b[0m\u001b[1;33m.\u001b[0m\u001b[0mscatter\u001b[0m\u001b[1;33m(\u001b[0m\u001b[0my_test\u001b[0m\u001b[1;33m,\u001b[0m \u001b[0msc_gru_test_pred\u001b[0m\u001b[1;33m)\u001b[0m\u001b[1;33m\u001b[0m\u001b[1;33m\u001b[0m\u001b[0m\n",
      "\u001b[1;31mNameError\u001b[0m: name 'x_test_T' is not defined"
     ]
    }
   ],
   "source": [
    "sc_gru_test_pred = sc_gru.predict(x_test_T, batch_size=30)\n",
    "plt.scatter(y_test, sc_gru_test_pred)"
   ]
  },
  {
   "cell_type": "code",
   "execution_count": 60,
   "id": "e7349db8",
   "metadata": {},
   "outputs": [
    {
     "ename": "NameError",
     "evalue": "name 'sc_gru_train_pred' is not defined",
     "output_type": "error",
     "traceback": [
      "\u001b[1;31m---------------------------------------------------------------------------\u001b[0m",
      "\u001b[1;31mNameError\u001b[0m                                 Traceback (most recent call last)",
      "\u001b[1;32m<ipython-input-60-4cd5661b5d75>\u001b[0m in \u001b[0;36m<module>\u001b[1;34m\u001b[0m\n\u001b[1;32m----> 1\u001b[1;33m \u001b[0msc_GRU_train_pred\u001b[0m \u001b[1;33m=\u001b[0m \u001b[0mnp\u001b[0m\u001b[1;33m.\u001b[0m\u001b[0mround\u001b[0m\u001b[1;33m(\u001b[0m\u001b[0msc_gru_train_pred\u001b[0m\u001b[1;33m)\u001b[0m\u001b[1;33m\u001b[0m\u001b[1;33m\u001b[0m\u001b[0m\n\u001b[0m\u001b[0;32m      2\u001b[0m \u001b[0msc_GRU_test_pred\u001b[0m \u001b[1;33m=\u001b[0m \u001b[0mnp\u001b[0m\u001b[1;33m.\u001b[0m\u001b[0mround\u001b[0m\u001b[1;33m(\u001b[0m\u001b[0msc_gru_test_pred\u001b[0m\u001b[1;33m)\u001b[0m\u001b[1;33m\u001b[0m\u001b[1;33m\u001b[0m\u001b[0m\n\u001b[0;32m      3\u001b[0m \u001b[1;33m\u001b[0m\u001b[0m\n\u001b[0;32m      4\u001b[0m \u001b[0mprint\u001b[0m\u001b[1;33m(\u001b[0m\u001b[1;34m\"GRU 스케일 train\\n\"\u001b[0m\u001b[1;33m,\u001b[0m \u001b[0mconfusion_matrix\u001b[0m\u001b[1;33m(\u001b[0m\u001b[0my_train\u001b[0m\u001b[1;33m,\u001b[0m \u001b[0msc_GRU_train_pred\u001b[0m\u001b[1;33m)\u001b[0m\u001b[1;33m)\u001b[0m\u001b[1;33m\u001b[0m\u001b[1;33m\u001b[0m\u001b[0m\n\u001b[0;32m      5\u001b[0m \u001b[0mprint\u001b[0m\u001b[1;33m(\u001b[0m\u001b[1;33m)\u001b[0m\u001b[1;33m\u001b[0m\u001b[1;33m\u001b[0m\u001b[0m\n",
      "\u001b[1;31mNameError\u001b[0m: name 'sc_gru_train_pred' is not defined"
     ]
    }
   ],
   "source": [
    "sc_GRU_train_pred = np.round(sc_gru_train_pred)\n",
    "sc_GRU_test_pred = np.round(sc_gru_test_pred)\n",
    "\n",
    "print(\"GRU 스케일 train\\n\", confusion_matrix(y_train, sc_GRU_train_pred))\n",
    "print()\n",
    "print(\"GRU 스케일 test\\n\", confusion_matrix(y_test, sc_GRU_test_pred))"
   ]
  },
  {
   "cell_type": "markdown",
   "id": "a95809ce",
   "metadata": {},
   "source": [
    "# mlp"
   ]
  },
  {
   "cell_type": "markdown",
   "id": "60e9b975",
   "metadata": {},
   "source": [
    "## 전체 사용"
   ]
  },
  {
   "cell_type": "code",
   "execution_count": 61,
   "id": "794c6621",
   "metadata": {},
   "outputs": [],
   "source": [
    "from keras.layers import Dropout\n",
    "\n",
    "mlp = Sequential()\n",
    "mlp.add(Dense(64, input_dim=14, activation='relu'))\n",
    "mlp.add(Dropout(0.5))\n",
    "mlp.add(Dense(64, activation='relu'))\n",
    "mlp.add(Dropout(0.5))\n",
    "mlp.add(Dense(1, activation='sigmoid'))\n",
    "\n",
    "mlp.compile(loss='binary_crossentropy',\n",
    "              optimizer='adam',\n",
    "              metrics=['accuracy'])\n"
   ]
  },
  {
   "cell_type": "code",
   "execution_count": 62,
   "id": "4176ba29",
   "metadata": {
    "scrolled": true
   },
   "outputs": [
    {
     "name": "stdout",
     "output_type": "stream",
     "text": [
      "Epoch 1/20\n",
      "60/60 [==============================] - 1s 2ms/step - loss: 36814.9404 - accuracy: 0.6312\n",
      "Epoch 2/20\n",
      "60/60 [==============================] - 0s 2ms/step - loss: 27059.9422 - accuracy: 0.6091\n",
      "Epoch 3/20\n",
      "60/60 [==============================] - 0s 2ms/step - loss: 14852.7989 - accuracy: 0.6167\n",
      "Epoch 4/20\n",
      "60/60 [==============================] - 0s 2ms/step - loss: 11267.9623 - accuracy: 0.6188: 0s - loss: 12069.9716 - accuracy: 0.\n",
      "Epoch 5/20\n",
      "60/60 [==============================] - 0s 2ms/step - loss: 7131.9328 - accuracy: 0.6507\n",
      "Epoch 6/20\n",
      "60/60 [==============================] - 0s 2ms/step - loss: 4739.7045 - accuracy: 0.6355\n",
      "Epoch 7/20\n",
      "60/60 [==============================] - 0s 2ms/step - loss: 4088.6463 - accuracy: 0.6207\n",
      "Epoch 8/20\n",
      "60/60 [==============================] - 0s 2ms/step - loss: 3058.9467 - accuracy: 0.6095\n",
      "Epoch 9/20\n",
      "60/60 [==============================] - 0s 2ms/step - loss: 1854.0948 - accuracy: 0.6317\n",
      "Epoch 10/20\n",
      "60/60 [==============================] - 0s 2ms/step - loss: 1683.6048 - accuracy: 0.6410\n",
      "Epoch 11/20\n",
      "60/60 [==============================] - 0s 2ms/step - loss: 1096.5913 - accuracy: 0.6289\n",
      "Epoch 12/20\n",
      "60/60 [==============================] - 0s 2ms/step - loss: 817.6936 - accuracy: 0.6490\n",
      "Epoch 13/20\n",
      "60/60 [==============================] - 0s 2ms/step - loss: 773.6314 - accuracy: 0.6142\n",
      "Epoch 14/20\n",
      "60/60 [==============================] - 0s 2ms/step - loss: 874.8008 - accuracy: 0.6213\n",
      "Epoch 15/20\n",
      "60/60 [==============================] - 0s 2ms/step - loss: 438.6512 - accuracy: 0.6261\n",
      "Epoch 16/20\n",
      "60/60 [==============================] - 0s 2ms/step - loss: 364.2048 - accuracy: 0.6014\n",
      "Epoch 17/20\n",
      "60/60 [==============================] - 0s 2ms/step - loss: 305.0802 - accuracy: 0.6050\n",
      "Epoch 18/20\n",
      "60/60 [==============================] - 0s 2ms/step - loss: 262.6531 - accuracy: 0.6401\n",
      "Epoch 19/20\n",
      "60/60 [==============================] - 0s 2ms/step - loss: 220.1876 - accuracy: 0.6023\n",
      "Epoch 20/20\n",
      "60/60 [==============================] - 0s 2ms/step - loss: 222.0830 - accuracy: 0.6051\n"
     ]
    },
    {
     "data": {
      "text/plain": [
       "<keras.callbacks.History at 0x295a972b4c0>"
      ]
     },
     "execution_count": 62,
     "metadata": {},
     "output_type": "execute_result"
    }
   ],
   "source": [
    "mlp.fit(x_train, y_train_t, epochs=20, batch_size=128)"
   ]
  },
  {
   "cell_type": "code",
   "execution_count": 63,
   "id": "96e5dddc",
   "metadata": {},
   "outputs": [
    {
     "name": "stdout",
     "output_type": "stream",
     "text": [
      "255/255 [==============================] - 1s 778us/step - loss: 6.0621 - accuracy: 0.7435\n",
      "MLP 전체 train MSE : 0.744\n",
      "110/110 [==============================] - 0s 905us/step - loss: 5.3505 - accuracy: 0.7516\n",
      "MLP 전체 test  MSE : 0.752\n"
     ]
    }
   ],
   "source": [
    "print(\"MLP 전체 train MSE : {0:.3f}\".format(mlp.evaluate(x_train, y_train, batch_size=30)[1]))\n",
    "print(\"MLP 전체 test  MSE : {0:.3f}\".format(mlp.evaluate(x_test, y_test, batch_size=30)[1]))"
   ]
  },
  {
   "cell_type": "code",
   "execution_count": 64,
   "id": "53edc509",
   "metadata": {},
   "outputs": [
    {
     "data": {
      "text/plain": [
       "<matplotlib.collections.PathCollection at 0x295a934dc40>"
      ]
     },
     "execution_count": 64,
     "metadata": {},
     "output_type": "execute_result"
    },
    {
     "data": {
      "image/png": "[encoded data removed]",
      "text/plain": [
       "<Figure size 432x288 with 1 Axes>"
      ]
     },
     "metadata": {
      "needs_background": "light"
     },
     "output_type": "display_data"
    }
   ],
   "source": [
    "mlp_train_pred = mlp.predict(x_train, batch_size=30)\n",
    "plt.scatter(y_train, mlp_train_pred)"
   ]
  },
  {
   "cell_type": "code",
   "execution_count": 65,
   "id": "5f4a906f",
   "metadata": {},
   "outputs": [
    {
     "data": {
      "text/plain": [
       "<matplotlib.collections.PathCollection at 0x295a4f9b9d0>"
      ]
     },
     "execution_count": 65,
     "metadata": {},
     "output_type": "execute_result"
    },
    {
     "data": {
      "image/png": "[encoded data removed]",
      "text/plain": [
       "<Figure size 432x288 with 1 Axes>"
      ]
     },
     "metadata": {
      "needs_background": "light"
     },
     "output_type": "display_data"
    }
   ],
   "source": [
    "mlp_test_pred = mlp.predict(x_test, batch_size=30)\n",
    "plt.scatter(y_test, mlp_test_pred)"
   ]
  },
  {
   "cell_type": "code",
   "execution_count": 66,
   "id": "fee2b08b",
   "metadata": {},
   "outputs": [
    {
     "name": "stdout",
     "output_type": "stream",
     "text": [
      "MLP 전체 train\n",
      " [[  39 1961]\n",
      " [   0 5646]]\n",
      "\n",
      "MLP 전체 test\n",
      " [[  12  812]\n",
      " [   2 2451]]\n"
     ]
    }
   ],
   "source": [
    "MLP_train_pred = np.round(mlp_train_pred)\n",
    "MLP_test_pred = np.round(mlp_test_pred)\n",
    "print(\"MLP 전체 train\\n\", confusion_matrix(y_train, MLP_train_pred))\n",
    "print()\n",
    "print(\"MLP 전체 test\\n\", confusion_matrix(y_test, MLP_test_pred))"
   ]
  },
  {
   "cell_type": "markdown",
   "id": "7db3752b",
   "metadata": {},
   "source": [
    "## 스케일된 피처"
   ]
  },
  {
   "cell_type": "code",
   "execution_count": 67,
   "id": "f8913475",
   "metadata": {},
   "outputs": [],
   "source": [
    "sc_mlp = Sequential()\n",
    "sc_mlp.add(Dense(64, input_dim=14, activation='relu'))\n",
    "sc_mlp.add(Dropout(0.5))\n",
    "sc_mlp.add(Dense(64, activation='relu'))\n",
    "sc_mlp.add(Dropout(0.5))\n",
    "sc_mlp.add(Dense(1, activation='sigmoid'))\n",
    "\n",
    "sc_mlp.compile(loss='binary_crossentropy',\n",
    "              optimizer='adam',\n",
    "              metrics=['accuracy'])\n"
   ]
  },
  {
   "cell_type": "code",
   "execution_count": 68,
   "id": "70d16614",
   "metadata": {
    "scrolled": true
   },
   "outputs": [
    {
     "name": "stdout",
     "output_type": "stream",
     "text": [
      "Epoch 1/20\n",
      "60/60 [==============================] - 1s 2ms/step - loss: 0.5918 - accuracy: 0.7282\n",
      "Epoch 2/20\n",
      "60/60 [==============================] - 0s 2ms/step - loss: 0.3606 - accuracy: 0.8576\n",
      "Epoch 3/20\n",
      "60/60 [==============================] - 0s 2ms/step - loss: 0.2365 - accuracy: 0.9140\n",
      "Epoch 4/20\n",
      "60/60 [==============================] - 0s 2ms/step - loss: 0.1828 - accuracy: 0.9324\n",
      "Epoch 5/20\n",
      "60/60 [==============================] - 0s 2ms/step - loss: 0.1445 - accuracy: 0.9446\n",
      "Epoch 6/20\n",
      "60/60 [==============================] - 0s 2ms/step - loss: 0.1251 - accuracy: 0.9574\n",
      "Epoch 7/20\n",
      "60/60 [==============================] - 0s 2ms/step - loss: 0.1080 - accuracy: 0.9656\n",
      "Epoch 8/20\n",
      "60/60 [==============================] - 0s 2ms/step - loss: 0.0854 - accuracy: 0.9757\n",
      "Epoch 9/20\n",
      "60/60 [==============================] - 0s 2ms/step - loss: 0.0740 - accuracy: 0.9782\n",
      "Epoch 10/20\n",
      "60/60 [==============================] - 0s 2ms/step - loss: 0.0579 - accuracy: 0.9864\n",
      "Epoch 11/20\n",
      "60/60 [==============================] - 0s 2ms/step - loss: 0.0449 - accuracy: 0.9915\n",
      "Epoch 12/20\n",
      "60/60 [==============================] - 0s 2ms/step - loss: 0.0410 - accuracy: 0.9875\n",
      "Epoch 13/20\n",
      "60/60 [==============================] - 0s 2ms/step - loss: 0.0331 - accuracy: 0.9912\n",
      "Epoch 14/20\n",
      "60/60 [==============================] - 0s 2ms/step - loss: 0.0296 - accuracy: 0.9942\n",
      "Epoch 15/20\n",
      "60/60 [==============================] - 0s 2ms/step - loss: 0.0249 - accuracy: 0.9944\n",
      "Epoch 16/20\n",
      "60/60 [==============================] - 0s 2ms/step - loss: 0.0212 - accuracy: 0.9943\n",
      "Epoch 17/20\n",
      "60/60 [==============================] - 0s 2ms/step - loss: 0.0158 - accuracy: 0.9963\n",
      "Epoch 18/20\n",
      "60/60 [==============================] - 0s 2ms/step - loss: 0.0152 - accuracy: 0.9963\n",
      "Epoch 19/20\n",
      "60/60 [==============================] - 0s 2ms/step - loss: 0.0155 - accuracy: 0.9967\n",
      "Epoch 20/20\n",
      "60/60 [==============================] - 0s 2ms/step - loss: 0.0153 - accuracy: 0.9972\n"
     ]
    },
    {
     "data": {
      "text/plain": [
       "<keras.callbacks.History at 0x295a9babdf0>"
      ]
     },
     "execution_count": 68,
     "metadata": {},
     "output_type": "execute_result"
    }
   ],
   "source": [
    "sc_mlp.fit(x_train_scaled, y_train_t, epochs=20, batch_size=128)"
   ]
  },
  {
   "cell_type": "code",
   "execution_count": 69,
   "id": "0177f496",
   "metadata": {},
   "outputs": [
    {
     "name": "stdout",
     "output_type": "stream",
     "text": [
      "255/255 [==============================] - 1s 1ms/step - loss: 0.8192 - accuracy: 0.2616: 0s - loss: 0.8194 - accuracy: 0.26\n",
      "MLP 스케일 train MSE : 0.262\n",
      "110/110 [==============================] - 0s 1ms/step - loss: 0.8240 - accuracy: 0.2514\n",
      "MLP 스케일 test  MSE : 0.251\n"
     ]
    }
   ],
   "source": [
    "print(\"MLP 스케일 train MSE : {0:.3f}\".format(mlp.evaluate(x_train_scaled, y_train, batch_size=30)[1]))\n",
    "print(\"MLP 스케일 test  MSE : {0:.3f}\".format(mlp.evaluate(x_test_scaled, y_test, batch_size=30)[1]))"
   ]
  },
  {
   "cell_type": "code",
   "execution_count": 70,
   "id": "bc61f87b",
   "metadata": {},
   "outputs": [
    {
     "data": {
      "text/plain": [
       "<matplotlib.collections.PathCollection at 0x295ac076b80>"
      ]
     },
     "execution_count": 70,
     "metadata": {},
     "output_type": "execute_result"
    },
    {
     "data": {
      "image/png": "[encoded data removed]",
      "text/plain": [
       "<Figure size 432x288 with 1 Axes>"
      ]
     },
     "metadata": {
      "needs_background": "light"
     },
     "output_type": "display_data"
    }
   ],
   "source": [
    "sc_mlp_train_pred = sc_mlp.predict(x_train_scaled, batch_size=30)\n",
    "plt.scatter(y_train, sc_mlp_train_pred)"
   ]
  },
  {
   "cell_type": "code",
   "execution_count": 71,
   "id": "814c0d37",
   "metadata": {},
   "outputs": [
    {
     "data": {
      "text/plain": [
       "<matplotlib.collections.PathCollection at 0x295ac0bf790>"
      ]
     },
     "execution_count": 71,
     "metadata": {},
     "output_type": "execute_result"
    },
    {
     "data": {
      "image/png": "[encoded data removed]",
      "text/plain": [
       "<Figure size 432x288 with 1 Axes>"
      ]
     },
     "metadata": {
      "needs_background": "light"
     },
     "output_type": "display_data"
    }
   ],
   "source": [
    "sc_mlp_test_pred = sc_mlp.predict(x_test_scaled, batch_size=30)\n",
    "plt.scatter(y_test, sc_mlp_test_pred)"
   ]
  },
  {
   "cell_type": "code",
   "execution_count": 98,
   "id": "0801b76e",
   "metadata": {},
   "outputs": [
    {
     "name": "stdout",
     "output_type": "stream",
     "text": [
      "MLP 스케일 train\n",
      " [[1998    2]\n",
      " [   0 5646]]\n",
      "\n",
      "MLP 스케일 test\n",
      " [[ 824    0]\n",
      " [   1 2452]]\n"
     ]
    }
   ],
   "source": [
    "sc_MLP_train_pred = np.round(sc_mlp_train_pred)\n",
    "sc_MLP_test_pred = np.round(sc_mlp_test_pred)\n",
    "print(\"MLP 스케일 train\\n\", confusion_matrix(y_train, sc_MLP_train_pred))\n",
    "print()\n",
    "print(\"MLP 스케일 test\\n\", confusion_matrix(y_test, sc_MLP_test_pred))"
   ]
  },
  {
   "cell_type": "code",
   "execution_count": null,
   "id": "d7874fa6",
   "metadata": {},
   "outputs": [],
   "source": []
  },
  {
   "cell_type": "code",
   "execution_count": null,
   "id": "b0ec8a36",
   "metadata": {},
   "outputs": [],
   "source": []
  }
 ],
 "metadata": {
  "hide_input": false,
  "kernelspec": {
   "display_name": "Python 3 (ipykernel)",
   "language": "python",
   "name": "python3"
  },
  "language_info": {
   "codemirror_mode": {
    "name": "ipython",
    "version": 3
   },
   "file_extension": ".py",
   "mimetype": "text/x-python",
   "name": "python",
   "nbconvert_exporter": "python",
   "pygments_lexer": "ipython3",
   "version": "3.9.7"
  },
  "toc": {
   "base_numbering": 1,
   "nav_menu": {},
   "number_sections": true,
   "sideBar": true,
   "skip_h1_title": false,
   "title_cell": "Table of Contents",
   "title_sidebar": "Contents",
   "toc_cell": false,
   "toc_position": {
    "height": "calc(100% - 180px)",
    "left": "10px",
    "top": "150px",
    "width": "230.119px"
   },
   "toc_section_display": true,
   "toc_window_display": false
  },
  "varInspector": {
   "cols": {
    "lenName": 16,
    "lenType": 16,
    "lenVar": 40
   },
   "kernels_config": {
    "python": {
     "delete_cmd_postfix": "",
     "delete_cmd_prefix": "del ",
     "library": "var_list.py",
     "varRefreshCmd": "print(var_dic_list())"
    },
    "r": {
     "delete_cmd_postfix": ") ",
     "delete_cmd_prefix": "rm(",
     "library": "var_list.r",
     "varRefreshCmd": "cat(var_dic_list()) "
    }
   },
   "position": {
    "height": "348.806px",
    "left": "503.225px",
    "right": "20px",
    "top": "345.981px",
    "width": "550.575px"
   },
   "types_to_exclude": [
    "module",
    "function",
    "builtin_function_or_method",
    "instance",
    "_Feature"
   ],
   "window_display": false
  }
 },
 "nbformat": 4,
 "nbformat_minor": 5
}
